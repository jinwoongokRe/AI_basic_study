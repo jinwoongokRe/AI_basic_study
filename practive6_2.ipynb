{
  "nbformat": 4,
  "nbformat_minor": 0,
  "metadata": {
    "colab": {
      "name": "practive6-2.ipynb",
      "provenance": [],
      "authorship_tag": "ABX9TyOEfXVPPs128iQ3xUW+luaM",
      "include_colab_link": true
    },
    "kernelspec": {
      "name": "python3",
      "display_name": "Python 3"
    }
  },
  "cells": [
    {
      "cell_type": "markdown",
      "metadata": {
        "id": "view-in-github",
        "colab_type": "text"
      },
      "source": [
        "<a href=\"https://colab.research.google.com/github/jinwoongokRe/AI_basic_study/blob/master/practive6_2.ipynb\" target=\"_parent\"><img src=\"https://colab.research.google.com/assets/colab-badge.svg\" alt=\"Open In Colab\"/></a>"
      ]
    },
    {
      "cell_type": "code",
      "metadata": {
        "id": "MGUUpgompEdy",
        "colab_type": "code",
        "colab": {}
      },
      "source": [
        "#달라진점\n",
        "#1.one-hot encoding\n",
        "#함수 내부에서 모델 만드는 과정\n",
        "#flatten을 model 만두는 과정에서 진행"
      ],
      "execution_count": 1,
      "outputs": []
    },
    {
      "cell_type": "code",
      "metadata": {
        "id": "uHVtEl9kphim",
        "colab_type": "code",
        "colab": {}
      },
      "source": [
        "from tensorflow.keras.datasets import mnist"
      ],
      "execution_count": 2,
      "outputs": []
    },
    {
      "cell_type": "code",
      "metadata": {
        "id": "7lW3q3q6pq5Y",
        "colab_type": "code",
        "colab": {
          "base_uri": "https://localhost:8080/",
          "height": 51
        },
        "outputId": "1ee3e057-b8f6-4c09-efb3-16c504377343"
      },
      "source": [
        "(x_train, y_train), (x_test, y_test) = mnist.load_data()\n"
      ],
      "execution_count": 3,
      "outputs": [
        {
          "output_type": "stream",
          "text": [
            "Downloading data from https://storage.googleapis.com/tensorflow/tf-keras-datasets/mnist.npz\n",
            "11493376/11490434 [==============================] - 0s 0us/step\n"
          ],
          "name": "stdout"
        }
      ]
    },
    {
      "cell_type": "code",
      "metadata": {
        "id": "Hprldxeep0-z",
        "colab_type": "code",
        "colab": {
          "base_uri": "https://localhost:8080/",
          "height": 34
        },
        "outputId": "21fd4467-9141-4741-f518-906acc1f015a"
      },
      "source": [
        "x_train.shape"
      ],
      "execution_count": 4,
      "outputs": [
        {
          "output_type": "execute_result",
          "data": {
            "text/plain": [
              "(60000, 28, 28)"
            ]
          },
          "metadata": {
            "tags": []
          },
          "execution_count": 4
        }
      ]
    },
    {
      "cell_type": "code",
      "metadata": {
        "id": "kZ2QGufsp25T",
        "colab_type": "code",
        "colab": {
          "base_uri": "https://localhost:8080/",
          "height": 299
        },
        "outputId": "29925132-02b8-4563-c356-e330a04442eb"
      },
      "source": [
        "#data확인\n",
        "import matplotlib.pyplot as plt\n",
        "%matplotlib inline\n",
        "\n",
        "index = 40\n",
        "img = x_train[index]\n",
        "print(y_train[index])\n",
        "plt.imshow(img,cmap='gray')"
      ],
      "execution_count": 5,
      "outputs": [
        {
          "output_type": "stream",
          "text": [
            "1\n"
          ],
          "name": "stdout"
        },
        {
          "output_type": "execute_result",
          "data": {
            "text/plain": [
              "<matplotlib.image.AxesImage at 0x7fb4502c6748>"
            ]
          },
          "metadata": {
            "tags": []
          },
          "execution_count": 5
        },
        {
          "output_type": "display_data",
          "data": {
            "image/png": "[encoded data removed]",
            "text/plain": [
              "<Figure size 432x288 with 1 Axes>"
            ]
          },
          "metadata": {
            "tags": [],
            "needs_background": "light"
          }
        }
      ]
    },
    {
      "cell_type": "code",
      "metadata": {
        "id": "z9av-4DDqOA2",
        "colab_type": "code",
        "colab": {}
      },
      "source": [
        "#one-hot encoding해보기\n",
        "#형변환(astype)"
      ],
      "execution_count": 6,
      "outputs": []
    },
    {
      "cell_type": "code",
      "metadata": {
        "id": "IyzaklP6Df8K",
        "colab_type": "code",
        "colab": {}
      },
      "source": [
        "x_train = x_train.astype('float32')\n",
        "x_test = x_test.astype('float32')\n"
      ],
      "execution_count": 8,
      "outputs": []
    },
    {
      "cell_type": "code",
      "metadata": {
        "id": "Ajl7yjE4D4NW",
        "colab_type": "code",
        "colab": {}
      },
      "source": [
        "#nomarlize\n",
        "x_train /=255\n",
        "x_test /=255"
      ],
      "execution_count": 9,
      "outputs": []
    },
    {
      "cell_type": "code",
      "metadata": {
        "id": "SuNSxtdrEGMp",
        "colab_type": "code",
        "colab": {
          "base_uri": "https://localhost:8080/",
          "height": 34
        },
        "outputId": "6e2e152e-0418-494f-8d8b-4ada51e9b6b3"
      },
      "source": [
        "#onehotencoding전\n",
        "y_train[0]"
      ],
      "execution_count": 10,
      "outputs": [
        {
          "output_type": "execute_result",
          "data": {
            "text/plain": [
              "5"
            ]
          },
          "metadata": {
            "tags": []
          },
          "execution_count": 10
        }
      ]
    },
    {
      "cell_type": "code",
      "metadata": {
        "id": "GzHlwdNjEMkI",
        "colab_type": "code",
        "colab": {}
      },
      "source": [
        "#one hot encoding"
      ],
      "execution_count": 11,
      "outputs": []
    },
    {
      "cell_type": "code",
      "metadata": {
        "id": "AaKnA_JMEP2M",
        "colab_type": "code",
        "colab": {}
      },
      "source": [
        "from tensorflow.keras.utils import to_categorical"
      ],
      "execution_count": 12,
      "outputs": []
    },
    {
      "cell_type": "code",
      "metadata": {
        "id": "9Od8L2iCEVN8",
        "colab_type": "code",
        "colab": {}
      },
      "source": [
        "y_train = to_categorical(y_train, 10)\n",
        "y_test = to_categorical(y_test, 10)"
      ],
      "execution_count": 13,
      "outputs": []
    },
    {
      "cell_type": "code",
      "metadata": {
        "id": "wDEM124uEmLD",
        "colab_type": "code",
        "colab": {
          "base_uri": "https://localhost:8080/",
          "height": 34
        },
        "outputId": "709f7672-4201-4b49-8e40-7b7d9c642158"
      },
      "source": [
        "y_train[0]"
      ],
      "execution_count": 14,
      "outputs": [
        {
          "output_type": "execute_result",
          "data": {
            "text/plain": [
              "array([0., 0., 0., 0., 0., 1., 0., 0., 0., 0.], dtype=float32)"
            ]
          },
          "metadata": {
            "tags": []
          },
          "execution_count": 14
        }
      ]
    },
    {
      "cell_type": "code",
      "metadata": {
        "id": "zxL8MZwBEofH",
        "colab_type": "code",
        "colab": {}
      },
      "source": [
        "#모델만들기\n",
        "from tensorflow.keras.models import Sequential\n",
        "from tensorflow.keras.layers import Activation, Dense, Flatten"
      ],
      "execution_count": 16,
      "outputs": []
    },
    {
      "cell_type": "code",
      "metadata": {
        "id": "Yi4ZxkCuGQyG",
        "colab_type": "code",
        "colab": {}
      },
      "source": [
        "#좀더 발전방식 \n",
        "#1 이번엔 함수 안에 가둬서 만들어본다\n",
        "#2 flatten을 Sequential 내부에서 진행해본다.\n"
      ],
      "execution_count": 18,
      "outputs": []
    },
    {
      "cell_type": "code",
      "metadata": {
        "id": "1Fd7VsA9GchA",
        "colab_type": "code",
        "colab": {}
      },
      "source": [
        "def create_model():\n",
        "  model = Sequential()\n",
        "  model.add(Flatten(input_shape=(28,28)))\n",
        "  model.add(Dense(units=64, activation='relu'))\n",
        "  model.add(Dense(17, 'relu'))\n",
        "  model.add(Dense(units=10, activation='softmax'))\n",
        "\n",
        "  return model"
      ],
      "execution_count": 19,
      "outputs": []
    },
    {
      "cell_type": "code",
      "metadata": {
        "id": "I3bd2Kg5HMCH",
        "colab_type": "code",
        "colab": {}
      },
      "source": [
        "#you can alse create compile in about fuc."
      ],
      "execution_count": 20,
      "outputs": []
    },
    {
      "cell_type": "code",
      "metadata": {
        "id": "s9U5InCkHYsR",
        "colab_type": "code",
        "colab": {}
      },
      "source": [
        "model_f = create_model()"
      ],
      "execution_count": 21,
      "outputs": []
    },
    {
      "cell_type": "code",
      "metadata": {
        "id": "NB4QRHA1Hd7W",
        "colab_type": "code",
        "colab": {
          "base_uri": "https://localhost:8080/",
          "height": 289
        },
        "outputId": "0d5916db-4613-4bcb-c79a-d02c15190e2f"
      },
      "source": [
        "model_f.summary()"
      ],
      "execution_count": 23,
      "outputs": [
        {
          "output_type": "stream",
          "text": [
            "Model: \"sequential\"\n",
            "_________________________________________________________________\n",
            "Layer (type)                 Output Shape              Param #   \n",
            "=================================================================\n",
            "flatten (Flatten)            (None, 784)               0         \n",
            "_________________________________________________________________\n",
            "dense (Dense)                (None, 64)                50240     \n",
            "_________________________________________________________________\n",
            "dense_1 (Dense)              (None, 17)                1105      \n",
            "_________________________________________________________________\n",
            "dense_2 (Dense)              (None, 10)                180       \n",
            "=================================================================\n",
            "Total params: 51,525\n",
            "Trainable params: 51,525\n",
            "Non-trainable params: 0\n",
            "_________________________________________________________________\n"
          ],
          "name": "stdout"
        }
      ]
    },
    {
      "cell_type": "code",
      "metadata": {
        "id": "GVC__qauHgJV",
        "colab_type": "code",
        "colab": {}
      },
      "source": [
        "model_f.compile(optimizer='adam',\n",
        "                loss='categorical_crossentropy',\n",
        "                metrics=['accuracy'])"
      ],
      "execution_count": 25,
      "outputs": []
    },
    {
      "cell_type": "code",
      "metadata": {
        "id": "AgWM53o5I7Xf",
        "colab_type": "code",
        "colab": {}
      },
      "source": [
        "#모델 학습\n",
        "from sklearn.model_selection import train_test_split"
      ],
      "execution_count": 26,
      "outputs": []
    },
    {
      "cell_type": "code",
      "metadata": {
        "id": "b1DIijyUJSia",
        "colab_type": "code",
        "colab": {}
      },
      "source": [
        "x_train, x_val, y_train, y_val = train_test_split(x_train,y_train, train_size = 5/6)"
      ],
      "execution_count": 27,
      "outputs": []
    },
    {
      "cell_type": "code",
      "metadata": {
        "id": "vmKN3zxgJjH9",
        "colab_type": "code",
        "colab": {}
      },
      "source": [
        "#Use validation_data, the argument about fit"
      ],
      "execution_count": 28,
      "outputs": []
    },
    {
      "cell_type": "code",
      "metadata": {
        "id": "HAvD6hcuJx-8",
        "colab_type": "code",
        "colab": {
          "base_uri": "https://localhost:8080/",
          "height": 187
        },
        "outputId": "10445162-bda6-400d-9897-d61a3f269ebf"
      },
      "source": [
        "history = model_f.fit(x_train, y_train, validation_data=(x_val, y_val), epochs=5)"
      ],
      "execution_count": 29,
      "outputs": [
        {
          "output_type": "stream",
          "text": [
            "Epoch 1/5\n",
            "1563/1563 [==============================] - 3s 2ms/step - loss: 0.3435 - accuracy: 0.8999 - val_loss: 0.2023 - val_accuracy: 0.9437\n",
            "Epoch 2/5\n",
            "1563/1563 [==============================] - 3s 2ms/step - loss: 0.1642 - accuracy: 0.9526 - val_loss: 0.1579 - val_accuracy: 0.9578\n",
            "Epoch 3/5\n",
            "1563/1563 [==============================] - 3s 2ms/step - loss: 0.1195 - accuracy: 0.9648 - val_loss: 0.1408 - val_accuracy: 0.9597\n",
            "Epoch 4/5\n",
            "1563/1563 [==============================] - 3s 2ms/step - loss: 0.0953 - accuracy: 0.9707 - val_loss: 0.1204 - val_accuracy: 0.9653\n",
            "Epoch 5/5\n",
            "1563/1563 [==============================] - 3s 2ms/step - loss: 0.0778 - accuracy: 0.9762 - val_loss: 0.1148 - val_accuracy: 0.9681\n"
          ],
          "name": "stdout"
        }
      ]
    },
    {
      "cell_type": "code",
      "metadata": {
        "id": "FkaBUJ4AJ9CM",
        "colab_type": "code",
        "colab": {}
      },
      "source": [
        "#history\n",
        "#model.fit의 return값\n",
        "#train과정에서 일어나는 현상들을 기록"
      ],
      "execution_count": 31,
      "outputs": []
    },
    {
      "cell_type": "code",
      "metadata": {
        "id": "SsvxRdU6KPsL",
        "colab_type": "code",
        "colab": {
          "base_uri": "https://localhost:8080/",
          "height": 459
        },
        "outputId": "3ab3a1cf-ce8a-4842-e060-de6de3539575"
      },
      "source": [
        "vars(history) #vars: 해당 객체의 모듈, 클래스, 인스턴스 값을 넘긴다."
      ],
      "execution_count": 32,
      "outputs": [
        {
          "output_type": "execute_result",
          "data": {
            "text/plain": [
              "{'_chief_worker_only': None,\n",
              " '_supports_tf_logs': False,\n",
              " 'epoch': [0, 1, 2, 3, 4],\n",
              " 'history': {'accuracy': [0.8998600244522095,\n",
              "   0.9526200294494629,\n",
              "   0.9647600054740906,\n",
              "   0.970740020275116,\n",
              "   0.9761599898338318],\n",
              "  'loss': [0.34350502490997314,\n",
              "   0.1642405092716217,\n",
              "   0.11953195929527283,\n",
              "   0.09526575356721878,\n",
              "   0.07783807814121246],\n",
              "  'val_accuracy': [0.9437000155448914,\n",
              "   0.9577999711036682,\n",
              "   0.9596999883651733,\n",
              "   0.9653000235557556,\n",
              "   0.9681000113487244],\n",
              "  'val_loss': [0.2023194283246994,\n",
              "   0.15789002180099487,\n",
              "   0.1408066749572754,\n",
              "   0.12040523439645767,\n",
              "   0.1148323118686676]},\n",
              " 'model': <tensorflow.python.keras.engine.sequential.Sequential at 0x7fb457837668>,\n",
              " 'params': {'epochs': 5, 'steps': 1563, 'verbose': 1},\n",
              " 'validation_data': None}"
            ]
          },
          "metadata": {
            "tags": []
          },
          "execution_count": 32
        }
      ]
    },
    {
      "cell_type": "code",
      "metadata": {
        "id": "pCjEWJP3KeOa",
        "colab_type": "code",
        "colab": {
          "base_uri": "https://localhost:8080/",
          "height": 187
        },
        "outputId": "f1f47e4e-972f-4fd4-d961-bb7c7731fa47"
      },
      "source": [
        "#add 메서드의 단점(stack)극복\n",
        "model_f = create_model()\n",
        "model_f.compile(optimizer='adam', loss='categorical_crossentropy', metrics=['accuracy'])\n",
        "history = model_f.fit(x_train, y_train, validation_data=(x_val, y_val), epochs=5)"
      ],
      "execution_count": 33,
      "outputs": [
        {
          "output_type": "stream",
          "text": [
            "Epoch 1/5\n",
            "1563/1563 [==============================] - 3s 2ms/step - loss: 0.3340 - accuracy: 0.9049 - val_loss: 0.1932 - val_accuracy: 0.9427\n",
            "Epoch 2/5\n",
            "1563/1563 [==============================] - 3s 2ms/step - loss: 0.1494 - accuracy: 0.9556 - val_loss: 0.1402 - val_accuracy: 0.9603\n",
            "Epoch 3/5\n",
            "1563/1563 [==============================] - 3s 2ms/step - loss: 0.1077 - accuracy: 0.9682 - val_loss: 0.1287 - val_accuracy: 0.9633\n",
            "Epoch 4/5\n",
            "1563/1563 [==============================] - 3s 2ms/step - loss: 0.0856 - accuracy: 0.9746 - val_loss: 0.1197 - val_accuracy: 0.9660\n",
            "Epoch 5/5\n",
            "1563/1563 [==============================] - 3s 2ms/step - loss: 0.0701 - accuracy: 0.9784 - val_loss: 0.1146 - val_accuracy: 0.9683\n"
          ],
          "name": "stdout"
        }
      ]
    },
    {
      "cell_type": "code",
      "metadata": {
        "id": "Xj202OaqK_tT",
        "colab_type": "code",
        "colab": {
          "base_uri": "https://localhost:8080/",
          "height": 295
        },
        "outputId": "0a0aec06-a3e8-4826-fe63-a63cb6aaf418"
      },
      "source": [
        "import matplotlib.pyplot as plt\n",
        "loss = history.history['loss']\n",
        "val_loss = history.history['val_loss']\n",
        "\n",
        "epochs = range(1, len(loss)+1)\n",
        "plt.plot(epochs, loss, 'r', label = 'Training loss')\n",
        "plt.plot(epochs, val_loss, 'b', label = 'Validation loss')\n",
        "plt.title('Training and validation loss')\n",
        "plt.xlabel('Epochs')\n",
        "plt.ylabel('Loss')\n",
        "plt.legend()\n",
        "\n",
        "plt.show()"
      ],
      "execution_count": 34,
      "outputs": [
        {
          "output_type": "display_data",
          "data": {
            "image/png": "[encoded data removed]",
            "text/plain": [
              "<Figure size 432x288 with 1 Axes>"
            ]
          },
          "metadata": {
            "tags": [],
            "needs_background": "light"
          }
        }
      ]
    },
    {
      "cell_type": "code",
      "metadata": {
        "id": "bv6RqqsWOxDk",
        "colab_type": "code",
        "colab": {
          "base_uri": "https://localhost:8080/",
          "height": 295
        },
        "outputId": "305f0ecf-5c14-4437-e477-58d6ab5e0082"
      },
      "source": [
        "#accuracy\n",
        "acc = history.history['accuracy']\n",
        "val_acc = history.history['val_accuracy']\n",
        "\n",
        "plt.plot(epochs, acc, 'r', label = 'Training accuracy')\n",
        "plt.plot(epochs, val_acc, 'b', label = 'Validation accuracy')\n",
        "plt.title('Training and validation accuracy')\n",
        "plt.xlabel('Epochs')\n",
        "plt.ylabel('Accuracy')\n",
        "plt.legend()\n",
        "\n",
        "plt.show()"
      ],
      "execution_count": 36,
      "outputs": [
        {
          "output_type": "display_data",
          "data": {
            "image/png": "[encoded data removed]",
            "text/plain": [
              "<Figure size 432x288 with 1 Axes>"
            ]
          },
          "metadata": {
            "tags": [],
            "needs_background": "light"
          }
        }
      ]
    },
    {
      "cell_type": "code",
      "metadata": {
        "id": "fsfqeuLUSyhX",
        "colab_type": "code",
        "colab": {}
      },
      "source": [
        "loss_and_metrics = model_f.evaluate(x_test, y_test, verbose=0)"
      ],
      "execution_count": 37,
      "outputs": []
    },
    {
      "cell_type": "code",
      "metadata": {
        "id": "ZVbnh5FgTQlF",
        "colab_type": "code",
        "colab": {
          "base_uri": "https://localhost:8080/",
          "height": 51
        },
        "outputId": "197f849e-fb4f-4dad-e569-0a7dba6e287b"
      },
      "source": [
        "print('test_loss: ' + str(loss_and_metrics[0]))\n",
        "print('test_accuracy: ' + str(loss_and_metrics[1]*100) + '%')"
      ],
      "execution_count": 39,
      "outputs": [
        {
          "output_type": "stream",
          "text": [
            "test_loss: 0.09769376367330551\n",
            "test_accuracy: 97.04999923706055%\n"
          ],
          "name": "stdout"
        }
      ]
    },
    {
      "cell_type": "code",
      "metadata": {
        "id": "--sInCycTYfr",
        "colab_type": "code",
        "colab": {}
      },
      "source": [
        "#predict\n",
        "#y와의 비교없이 forward propagation만 하는 것\n",
        "#x만 넣는다.\n",
        "#실제 device에서 진행\n"
      ],
      "execution_count": 40,
      "outputs": []
    },
    {
      "cell_type": "code",
      "metadata": {
        "id": "s9BbFRLWY9v1",
        "colab_type": "code",
        "colab": {
          "base_uri": "https://localhost:8080/",
          "height": 282
        },
        "outputId": "ae8eb229-38ef-418b-f9e9-65640ed98539"
      },
      "source": [
        "plt.imshow(x_test[0], cmap='gray')"
      ],
      "execution_count": 42,
      "outputs": [
        {
          "output_type": "execute_result",
          "data": {
            "text/plain": [
              "<matplotlib.image.AxesImage at 0x7fb43dbe2630>"
            ]
          },
          "metadata": {
            "tags": []
          },
          "execution_count": 42
        },
        {
          "output_type": "display_data",
          "data": {
            "image/png": "[encoded data removed]",
            "text/plain": [
              "<Figure size 432x288 with 1 Axes>"
            ]
          },
          "metadata": {
            "tags": [],
            "needs_background": "light"
          }
        }
      ]
    },
    {
      "cell_type": "code",
      "metadata": {
        "id": "pl_1EuN7ZC9a",
        "colab_type": "code",
        "colab": {
          "base_uri": "https://localhost:8080/",
          "height": 68
        },
        "outputId": "04688a06-0276-4e52-f80d-1ffeb3a46829"
      },
      "source": [
        "model_f.predict(x_test[0].reshape(1,28,28))"
      ],
      "execution_count": 43,
      "outputs": [
        {
          "output_type": "execute_result",
          "data": {
            "text/plain": [
              "array([[5.0246007e-07, 7.8324143e-07, 1.2212558e-04, 4.5286576e-04,\n",
              "        2.1508493e-09, 5.5268919e-07, 1.6184191e-10, 9.9928892e-01,\n",
              "        4.4001176e-06, 1.2987573e-04]], dtype=float32)"
            ]
          },
          "metadata": {
            "tags": []
          },
          "execution_count": 43
        }
      ]
    },
    {
      "cell_type": "code",
      "metadata": {
        "id": "K7g8iuB2ZXfC",
        "colab_type": "code",
        "colab": {}
      },
      "source": [
        "import numpy as np"
      ],
      "execution_count": 44,
      "outputs": []
    },
    {
      "cell_type": "code",
      "metadata": {
        "id": "bUc0bnD7ZeEG",
        "colab_type": "code",
        "colab": {
          "base_uri": "https://localhost:8080/",
          "height": 34
        },
        "outputId": "76f627df-8649-40bc-c22c-58e7806a6065"
      },
      "source": [
        "x_test[0].shape"
      ],
      "execution_count": 45,
      "outputs": [
        {
          "output_type": "execute_result",
          "data": {
            "text/plain": [
              "(28, 28)"
            ]
          },
          "metadata": {
            "tags": []
          },
          "execution_count": 45
        }
      ]
    },
    {
      "cell_type": "code",
      "metadata": {
        "id": "tM7W-lB7ZhsB",
        "colab_type": "code",
        "colab": {
          "base_uri": "https://localhost:8080/",
          "height": 34
        },
        "outputId": "7b2b0a32-7bb0-4c74-b8ec-a6e46690b3bf"
      },
      "source": [
        "np.expand_dims(x_test[0], axis=0).shape"
      ],
      "execution_count": 46,
      "outputs": [
        {
          "output_type": "execute_result",
          "data": {
            "text/plain": [
              "(1, 28, 28)"
            ]
          },
          "metadata": {
            "tags": []
          },
          "execution_count": 46
        }
      ]
    },
    {
      "cell_type": "code",
      "metadata": {
        "id": "d3TSRfktZrlu",
        "colab_type": "code",
        "colab": {
          "base_uri": "https://localhost:8080/",
          "height": 68
        },
        "outputId": "e700ca5a-9f6a-40e2-ace6-27f57bdd35d6"
      },
      "source": [
        "a= model_f.predict(np.expand_dims(x_test[0], axis=0))\n",
        "a"
      ],
      "execution_count": 47,
      "outputs": [
        {
          "output_type": "execute_result",
          "data": {
            "text/plain": [
              "array([[5.0246007e-07, 7.8324143e-07, 1.2212558e-04, 4.5286576e-04,\n",
              "        2.1508493e-09, 5.5268919e-07, 1.6184191e-10, 9.9928892e-01,\n",
              "        4.4001176e-06, 1.2987573e-04]], dtype=float32)"
            ]
          },
          "metadata": {
            "tags": []
          },
          "execution_count": 47
        }
      ]
    },
    {
      "cell_type": "code",
      "metadata": {
        "id": "EBftT8nBZ_AN",
        "colab_type": "code",
        "colab": {
          "base_uri": "https://localhost:8080/",
          "height": 34
        },
        "outputId": "a581ed98-500c-4d64-9705-067a49f08d1a"
      },
      "source": [
        "np.sum(a)"
      ],
      "execution_count": 48,
      "outputs": [
        {
          "output_type": "execute_result",
          "data": {
            "text/plain": [
              "1.0"
            ]
          },
          "metadata": {
            "tags": []
          },
          "execution_count": 48
        }
      ]
    },
    {
      "cell_type": "code",
      "metadata": {
        "id": "P4UQi1TXaGEb",
        "colab_type": "code",
        "colab": {
          "base_uri": "https://localhost:8080/",
          "height": 34
        },
        "outputId": "5afd2374-f22e-4be4-d95e-d5f76e1911e9"
      },
      "source": [
        "np.max(a)"
      ],
      "execution_count": 49,
      "outputs": [
        {
          "output_type": "execute_result",
          "data": {
            "text/plain": [
              "0.9992889"
            ]
          },
          "metadata": {
            "tags": []
          },
          "execution_count": 49
        }
      ]
    },
    {
      "cell_type": "code",
      "metadata": {
        "id": "Tem2-h3eaK-i",
        "colab_type": "code",
        "colab": {
          "base_uri": "https://localhost:8080/",
          "height": 34
        },
        "outputId": "59825420-a481-4ca3-d1d9-b3998827698b"
      },
      "source": [
        "np.argmax(a) #최대값을 가지는 곳(정답이라고 예측한 곳)의 index 출력"
      ],
      "execution_count": 50,
      "outputs": [
        {
          "output_type": "execute_result",
          "data": {
            "text/plain": [
              "7"
            ]
          },
          "metadata": {
            "tags": []
          },
          "execution_count": 50
        }
      ]
    },
    {
      "cell_type": "code",
      "metadata": {
        "id": "b9kJ9V5OaoKy",
        "colab_type": "code",
        "colab": {}
      },
      "source": [
        ""
      ],
      "execution_count": null,
      "outputs": []
    }
  ]
}