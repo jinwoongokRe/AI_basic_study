{
  "nbformat": 4,
  "nbformat_minor": 0,
  "metadata": {
    "kernelspec": {
      "display_name": "Python 3",
      "language": "python",
      "name": "python3"
    },
    "language_info": {
      "codemirror_mode": {
        "name": "ipython",
        "version": 3
      },
      "file_extension": ".py",
      "mimetype": "text/x-python",
      "name": "python",
      "nbconvert_exporter": "python",
      "pygments_lexer": "ipython3",
      "version": "3.7.4"
    },
    "colab": {
      "name": "practice7-Week 7 Assignment.ipynb",
      "provenance": [],
      "include_colab_link": true
    }
  },
  "cells": [
    {
      "cell_type": "markdown",
      "metadata": {
        "id": "view-in-github",
        "colab_type": "text"
      },
      "source": [
        "<a href=\"https://colab.research.google.com/github/jinwoongokRe/AI_basic_study/blob/master/practice7_Week_7_Assignment.ipynb\" target=\"_parent\"><img src=\"https://colab.research.google.com/assets/colab-badge.svg\" alt=\"Open In Colab\"/></a>"
      ]
    },
    {
      "cell_type": "markdown",
      "metadata": {
        "id": "u0O-RNQqm3zG",
        "colab_type": "text"
      },
      "source": [
        "# Week 7 Assignment: Normalization, Standardization, Initialization, optimization"
      ]
    },
    {
      "cell_type": "markdown",
      "metadata": {
        "id": "4Ba6RDcIm3zH",
        "colab_type": "text"
      },
      "source": [
        "-------"
      ]
    },
    {
      "cell_type": "code",
      "metadata": {
        "id": "yLO-WBotm3zI",
        "colab_type": "code",
        "colab": {}
      },
      "source": [
        "import numpy as np\n",
        "import pandas as pd\n",
        "\n",
        "%matplotlib inline"
      ],
      "execution_count": 1,
      "outputs": []
    },
    {
      "cell_type": "code",
      "metadata": {
        "id": "y8IjWsD_m3zM",
        "colab_type": "code",
        "colab": {
          "base_uri": "https://localhost:8080/",
          "height": 433
        },
        "outputId": "757885df-9d92-48a5-80e6-d642c423a15f"
      },
      "source": [
        "URL = 'https://storage.googleapis.com/applied-dl/heart.csv'\n",
        "raw_df = pd.read_csv(URL)\n",
        "raw_df"
      ],
      "execution_count": 2,
      "outputs": [
        {
          "output_type": "execute_result",
          "data": {
            "text/html": [
              "<div>\n",
              "<style scoped>\n",
              "    .dataframe tbody tr th:only-of-type {\n",
              "        vertical-align: middle;\n",
              "    }\n",
              "\n",
              "    .dataframe tbody tr th {\n",
              "        vertical-align: top;\n",
              "    }\n",
              "\n",
              "    .dataframe thead th {\n",
              "        text-align: right;\n",
              "    }\n",
              "</style>\n",
              "<table border=\"1\" class=\"dataframe\">\n",
              "  <thead>\n",
              "    <tr style=\"text-align: right;\">\n",
              "      <th></th>\n",
              "      <th>age</th>\n",
              "      <th>sex</th>\n",
              "      <th>cp</th>\n",
              "      <th>trestbps</th>\n",
              "      <th>chol</th>\n",
              "      <th>fbs</th>\n",
              "      <th>restecg</th>\n",
              "      <th>thalach</th>\n",
              "      <th>exang</th>\n",
              "      <th>oldpeak</th>\n",
              "      <th>slope</th>\n",
              "      <th>ca</th>\n",
              "      <th>thal</th>\n",
              "      <th>target</th>\n",
              "    </tr>\n",
              "  </thead>\n",
              "  <tbody>\n",
              "    <tr>\n",
              "      <th>0</th>\n",
              "      <td>63</td>\n",
              "      <td>1</td>\n",
              "      <td>1</td>\n",
              "      <td>145</td>\n",
              "      <td>233</td>\n",
              "      <td>1</td>\n",
              "      <td>2</td>\n",
              "      <td>150</td>\n",
              "      <td>0</td>\n",
              "      <td>2.3</td>\n",
              "      <td>3</td>\n",
              "      <td>0</td>\n",
              "      <td>fixed</td>\n",
              "      <td>0</td>\n",
              "    </tr>\n",
              "    <tr>\n",
              "      <th>1</th>\n",
              "      <td>67</td>\n",
              "      <td>1</td>\n",
              "      <td>4</td>\n",
              "      <td>160</td>\n",
              "      <td>286</td>\n",
              "      <td>0</td>\n",
              "      <td>2</td>\n",
              "      <td>108</td>\n",
              "      <td>1</td>\n",
              "      <td>1.5</td>\n",
              "      <td>2</td>\n",
              "      <td>3</td>\n",
              "      <td>normal</td>\n",
              "      <td>1</td>\n",
              "    </tr>\n",
              "    <tr>\n",
              "      <th>2</th>\n",
              "      <td>67</td>\n",
              "      <td>1</td>\n",
              "      <td>4</td>\n",
              "      <td>120</td>\n",
              "      <td>229</td>\n",
              "      <td>0</td>\n",
              "      <td>2</td>\n",
              "      <td>129</td>\n",
              "      <td>1</td>\n",
              "      <td>2.6</td>\n",
              "      <td>2</td>\n",
              "      <td>2</td>\n",
              "      <td>reversible</td>\n",
              "      <td>0</td>\n",
              "    </tr>\n",
              "    <tr>\n",
              "      <th>3</th>\n",
              "      <td>37</td>\n",
              "      <td>1</td>\n",
              "      <td>3</td>\n",
              "      <td>130</td>\n",
              "      <td>250</td>\n",
              "      <td>0</td>\n",
              "      <td>0</td>\n",
              "      <td>187</td>\n",
              "      <td>0</td>\n",
              "      <td>3.5</td>\n",
              "      <td>3</td>\n",
              "      <td>0</td>\n",
              "      <td>normal</td>\n",
              "      <td>0</td>\n",
              "    </tr>\n",
              "    <tr>\n",
              "      <th>4</th>\n",
              "      <td>41</td>\n",
              "      <td>0</td>\n",
              "      <td>2</td>\n",
              "      <td>130</td>\n",
              "      <td>204</td>\n",
              "      <td>0</td>\n",
              "      <td>2</td>\n",
              "      <td>172</td>\n",
              "      <td>0</td>\n",
              "      <td>1.4</td>\n",
              "      <td>1</td>\n",
              "      <td>0</td>\n",
              "      <td>normal</td>\n",
              "      <td>0</td>\n",
              "    </tr>\n",
              "    <tr>\n",
              "      <th>...</th>\n",
              "      <td>...</td>\n",
              "      <td>...</td>\n",
              "      <td>...</td>\n",
              "      <td>...</td>\n",
              "      <td>...</td>\n",
              "      <td>...</td>\n",
              "      <td>...</td>\n",
              "      <td>...</td>\n",
              "      <td>...</td>\n",
              "      <td>...</td>\n",
              "      <td>...</td>\n",
              "      <td>...</td>\n",
              "      <td>...</td>\n",
              "      <td>...</td>\n",
              "    </tr>\n",
              "    <tr>\n",
              "      <th>298</th>\n",
              "      <td>52</td>\n",
              "      <td>1</td>\n",
              "      <td>1</td>\n",
              "      <td>118</td>\n",
              "      <td>186</td>\n",
              "      <td>0</td>\n",
              "      <td>2</td>\n",
              "      <td>190</td>\n",
              "      <td>0</td>\n",
              "      <td>0.0</td>\n",
              "      <td>2</td>\n",
              "      <td>0</td>\n",
              "      <td>fixed</td>\n",
              "      <td>0</td>\n",
              "    </tr>\n",
              "    <tr>\n",
              "      <th>299</th>\n",
              "      <td>43</td>\n",
              "      <td>0</td>\n",
              "      <td>4</td>\n",
              "      <td>132</td>\n",
              "      <td>341</td>\n",
              "      <td>1</td>\n",
              "      <td>2</td>\n",
              "      <td>136</td>\n",
              "      <td>1</td>\n",
              "      <td>3.0</td>\n",
              "      <td>2</td>\n",
              "      <td>0</td>\n",
              "      <td>reversible</td>\n",
              "      <td>1</td>\n",
              "    </tr>\n",
              "    <tr>\n",
              "      <th>300</th>\n",
              "      <td>65</td>\n",
              "      <td>1</td>\n",
              "      <td>4</td>\n",
              "      <td>135</td>\n",
              "      <td>254</td>\n",
              "      <td>0</td>\n",
              "      <td>2</td>\n",
              "      <td>127</td>\n",
              "      <td>0</td>\n",
              "      <td>2.8</td>\n",
              "      <td>2</td>\n",
              "      <td>1</td>\n",
              "      <td>reversible</td>\n",
              "      <td>1</td>\n",
              "    </tr>\n",
              "    <tr>\n",
              "      <th>301</th>\n",
              "      <td>48</td>\n",
              "      <td>1</td>\n",
              "      <td>4</td>\n",
              "      <td>130</td>\n",
              "      <td>256</td>\n",
              "      <td>1</td>\n",
              "      <td>2</td>\n",
              "      <td>150</td>\n",
              "      <td>1</td>\n",
              "      <td>0.0</td>\n",
              "      <td>1</td>\n",
              "      <td>2</td>\n",
              "      <td>reversible</td>\n",
              "      <td>1</td>\n",
              "    </tr>\n",
              "    <tr>\n",
              "      <th>302</th>\n",
              "      <td>63</td>\n",
              "      <td>0</td>\n",
              "      <td>4</td>\n",
              "      <td>150</td>\n",
              "      <td>407</td>\n",
              "      <td>0</td>\n",
              "      <td>2</td>\n",
              "      <td>154</td>\n",
              "      <td>0</td>\n",
              "      <td>4.0</td>\n",
              "      <td>2</td>\n",
              "      <td>3</td>\n",
              "      <td>reversible</td>\n",
              "      <td>1</td>\n",
              "    </tr>\n",
              "  </tbody>\n",
              "</table>\n",
              "<p>303 rows × 14 columns</p>\n",
              "</div>"
            ],
            "text/plain": [
              "     age  sex  cp  trestbps  chol  ...  oldpeak  slope  ca        thal  target\n",
              "0     63    1   1       145   233  ...      2.3      3   0       fixed       0\n",
              "1     67    1   4       160   286  ...      1.5      2   3      normal       1\n",
              "2     67    1   4       120   229  ...      2.6      2   2  reversible       0\n",
              "3     37    1   3       130   250  ...      3.5      3   0      normal       0\n",
              "4     41    0   2       130   204  ...      1.4      1   0      normal       0\n",
              "..   ...  ...  ..       ...   ...  ...      ...    ...  ..         ...     ...\n",
              "298   52    1   1       118   186  ...      0.0      2   0       fixed       0\n",
              "299   43    0   4       132   341  ...      3.0      2   0  reversible       1\n",
              "300   65    1   4       135   254  ...      2.8      2   1  reversible       1\n",
              "301   48    1   4       130   256  ...      0.0      1   2  reversible       1\n",
              "302   63    0   4       150   407  ...      4.0      2   3  reversible       1\n",
              "\n",
              "[303 rows x 14 columns]"
            ]
          },
          "metadata": {
            "tags": []
          },
          "execution_count": 2
        }
      ]
    },
    {
      "cell_type": "markdown",
      "metadata": {
        "id": "xFC--exbm3zP",
        "colab_type": "text"
      },
      "source": [
        "## Dataset\n",
        "\n",
        "클리블랜드(Cleveland) 심장병 재단에서 제공한 작은 [데이터셋](https://archive.ics.uci.edu/ml/datasets/heart+Disease)을 사용하겠습니다. 이 CSV 파일은 수백 개의 행으로 이루어져 있습니다. 각 행은 환자 한 명을 나타내고 각 열은 환자에 대한 속성 값입니다. 이 정보를 사용해 환자의 심장병 발병 여부를 예측해 보겠습니다. 즉 이 데이터셋은 이진 분류 문제입니다.\n",
        "\n",
        "다음은 이 데이터셋에 대한 [설명](https://archive.ics.uci.edu/ml/machine-learning-databases/heart-disease/heart-disease.names)입니다. 수치형과 범주형 열이 모두 있다는 점을 주목하세요.\n",
        "\n",
        ">열| 설명| 특성 타입 | 데이터 타입\n",
        ">------------|--------------------|----------------------|-----------------\n",
        ">Age | 나이 | 수치형 | 정수\n",
        ">Sex | (1 = 남성; 0 = 여성) | 범주형 | 정수\n",
        ">CP | 가슴 통증 유형 (0, 1, 2, 3, 4) | 범주형 | 정수\n",
        ">Trestbpd | 안정 혈압 (병원 입원시 mm Hg) | 수치형 | 정수\n",
        ">Chol | 혈청 콜레스테롤 (mg/dl) | 수치형 | 정수\n",
        ">FBS | (공복 혈당 > 120 mg/dl) (1 = true; 0 = false) | 범주형 | 정수\n",
        ">RestECG | 안정 심전도 결과 (0, 1, 2) | 범주형 | 정수\n",
        ">Thalach | 최대 심박동수 | 수치형 | 정수\n",
        ">Exang | 협심증 유발 운동 (1 = yes; 0 = no) | 범주형 | 정수\n",
        ">Oldpeak | 비교적 안정되기까지 운동으로 유발되는 ST depression | 수치형 | 정수\n",
        ">Slope | 최대 운동 ST segment의 기울기 | 수치형 | 실수\n",
        ">CA | 형광 투시된 주요 혈관의 수 (0-3) | 수치형 | 정수\n",
        ">Thal | 3 = 보통; 6 = 해결된 결함; 7 = 해결가능한 결함 | 범주형 | 문자열\n",
        ">Target | 심장병 진단 (1 = true; 0 = false) | 분류 | 정수"
      ]
    },
    {
      "cell_type": "markdown",
      "metadata": {
        "id": "PzfMInYwm3zQ",
        "colab_type": "text"
      },
      "source": [
        "Thal은 제외하고 진행합니다."
      ]
    },
    {
      "cell_type": "code",
      "metadata": {
        "id": "TinLdh2wm3zR",
        "colab_type": "code",
        "colab": {
          "base_uri": "https://localhost:8080/",
          "height": 433
        },
        "outputId": "dc806748-5197-4b7b-d363-970319f2623e"
      },
      "source": [
        "raw_df.drop(columns='thal')"
      ],
      "execution_count": 3,
      "outputs": [
        {
          "output_type": "execute_result",
          "data": {
            "text/html": [
              "<div>\n",
              "<style scoped>\n",
              "    .dataframe tbody tr th:only-of-type {\n",
              "        vertical-align: middle;\n",
              "    }\n",
              "\n",
              "    .dataframe tbody tr th {\n",
              "        vertical-align: top;\n",
              "    }\n",
              "\n",
              "    .dataframe thead th {\n",
              "        text-align: right;\n",
              "    }\n",
              "</style>\n",
              "<table border=\"1\" class=\"dataframe\">\n",
              "  <thead>\n",
              "    <tr style=\"text-align: right;\">\n",
              "      <th></th>\n",
              "      <th>age</th>\n",
              "      <th>sex</th>\n",
              "      <th>cp</th>\n",
              "      <th>trestbps</th>\n",
              "      <th>chol</th>\n",
              "      <th>fbs</th>\n",
              "      <th>restecg</th>\n",
              "      <th>thalach</th>\n",
              "      <th>exang</th>\n",
              "      <th>oldpeak</th>\n",
              "      <th>slope</th>\n",
              "      <th>ca</th>\n",
              "      <th>target</th>\n",
              "    </tr>\n",
              "  </thead>\n",
              "  <tbody>\n",
              "    <tr>\n",
              "      <th>0</th>\n",
              "      <td>63</td>\n",
              "      <td>1</td>\n",
              "      <td>1</td>\n",
              "      <td>145</td>\n",
              "      <td>233</td>\n",
              "      <td>1</td>\n",
              "      <td>2</td>\n",
              "      <td>150</td>\n",
              "      <td>0</td>\n",
              "      <td>2.3</td>\n",
              "      <td>3</td>\n",
              "      <td>0</td>\n",
              "      <td>0</td>\n",
              "    </tr>\n",
              "    <tr>\n",
              "      <th>1</th>\n",
              "      <td>67</td>\n",
              "      <td>1</td>\n",
              "      <td>4</td>\n",
              "      <td>160</td>\n",
              "      <td>286</td>\n",
              "      <td>0</td>\n",
              "      <td>2</td>\n",
              "      <td>108</td>\n",
              "      <td>1</td>\n",
              "      <td>1.5</td>\n",
              "      <td>2</td>\n",
              "      <td>3</td>\n",
              "      <td>1</td>\n",
              "    </tr>\n",
              "    <tr>\n",
              "      <th>2</th>\n",
              "      <td>67</td>\n",
              "      <td>1</td>\n",
              "      <td>4</td>\n",
              "      <td>120</td>\n",
              "      <td>229</td>\n",
              "      <td>0</td>\n",
              "      <td>2</td>\n",
              "      <td>129</td>\n",
              "      <td>1</td>\n",
              "      <td>2.6</td>\n",
              "      <td>2</td>\n",
              "      <td>2</td>\n",
              "      <td>0</td>\n",
              "    </tr>\n",
              "    <tr>\n",
              "      <th>3</th>\n",
              "      <td>37</td>\n",
              "      <td>1</td>\n",
              "      <td>3</td>\n",
              "      <td>130</td>\n",
              "      <td>250</td>\n",
              "      <td>0</td>\n",
              "      <td>0</td>\n",
              "      <td>187</td>\n",
              "      <td>0</td>\n",
              "      <td>3.5</td>\n",
              "      <td>3</td>\n",
              "      <td>0</td>\n",
              "      <td>0</td>\n",
              "    </tr>\n",
              "    <tr>\n",
              "      <th>4</th>\n",
              "      <td>41</td>\n",
              "      <td>0</td>\n",
              "      <td>2</td>\n",
              "      <td>130</td>\n",
              "      <td>204</td>\n",
              "      <td>0</td>\n",
              "      <td>2</td>\n",
              "      <td>172</td>\n",
              "      <td>0</td>\n",
              "      <td>1.4</td>\n",
              "      <td>1</td>\n",
              "      <td>0</td>\n",
              "      <td>0</td>\n",
              "    </tr>\n",
              "    <tr>\n",
              "      <th>...</th>\n",
              "      <td>...</td>\n",
              "      <td>...</td>\n",
              "      <td>...</td>\n",
              "      <td>...</td>\n",
              "      <td>...</td>\n",
              "      <td>...</td>\n",
              "      <td>...</td>\n",
              "      <td>...</td>\n",
              "      <td>...</td>\n",
              "      <td>...</td>\n",
              "      <td>...</td>\n",
              "      <td>...</td>\n",
              "      <td>...</td>\n",
              "    </tr>\n",
              "    <tr>\n",
              "      <th>298</th>\n",
              "      <td>52</td>\n",
              "      <td>1</td>\n",
              "      <td>1</td>\n",
              "      <td>118</td>\n",
              "      <td>186</td>\n",
              "      <td>0</td>\n",
              "      <td>2</td>\n",
              "      <td>190</td>\n",
              "      <td>0</td>\n",
              "      <td>0.0</td>\n",
              "      <td>2</td>\n",
              "      <td>0</td>\n",
              "      <td>0</td>\n",
              "    </tr>\n",
              "    <tr>\n",
              "      <th>299</th>\n",
              "      <td>43</td>\n",
              "      <td>0</td>\n",
              "      <td>4</td>\n",
              "      <td>132</td>\n",
              "      <td>341</td>\n",
              "      <td>1</td>\n",
              "      <td>2</td>\n",
              "      <td>136</td>\n",
              "      <td>1</td>\n",
              "      <td>3.0</td>\n",
              "      <td>2</td>\n",
              "      <td>0</td>\n",
              "      <td>1</td>\n",
              "    </tr>\n",
              "    <tr>\n",
              "      <th>300</th>\n",
              "      <td>65</td>\n",
              "      <td>1</td>\n",
              "      <td>4</td>\n",
              "      <td>135</td>\n",
              "      <td>254</td>\n",
              "      <td>0</td>\n",
              "      <td>2</td>\n",
              "      <td>127</td>\n",
              "      <td>0</td>\n",
              "      <td>2.8</td>\n",
              "      <td>2</td>\n",
              "      <td>1</td>\n",
              "      <td>1</td>\n",
              "    </tr>\n",
              "    <tr>\n",
              "      <th>301</th>\n",
              "      <td>48</td>\n",
              "      <td>1</td>\n",
              "      <td>4</td>\n",
              "      <td>130</td>\n",
              "      <td>256</td>\n",
              "      <td>1</td>\n",
              "      <td>2</td>\n",
              "      <td>150</td>\n",
              "      <td>1</td>\n",
              "      <td>0.0</td>\n",
              "      <td>1</td>\n",
              "      <td>2</td>\n",
              "      <td>1</td>\n",
              "    </tr>\n",
              "    <tr>\n",
              "      <th>302</th>\n",
              "      <td>63</td>\n",
              "      <td>0</td>\n",
              "      <td>4</td>\n",
              "      <td>150</td>\n",
              "      <td>407</td>\n",
              "      <td>0</td>\n",
              "      <td>2</td>\n",
              "      <td>154</td>\n",
              "      <td>0</td>\n",
              "      <td>4.0</td>\n",
              "      <td>2</td>\n",
              "      <td>3</td>\n",
              "      <td>1</td>\n",
              "    </tr>\n",
              "  </tbody>\n",
              "</table>\n",
              "<p>303 rows × 13 columns</p>\n",
              "</div>"
            ],
            "text/plain": [
              "     age  sex  cp  trestbps  chol  ...  exang  oldpeak  slope  ca  target\n",
              "0     63    1   1       145   233  ...      0      2.3      3   0       0\n",
              "1     67    1   4       160   286  ...      1      1.5      2   3       1\n",
              "2     67    1   4       120   229  ...      1      2.6      2   2       0\n",
              "3     37    1   3       130   250  ...      0      3.5      3   0       0\n",
              "4     41    0   2       130   204  ...      0      1.4      1   0       0\n",
              "..   ...  ...  ..       ...   ...  ...    ...      ...    ...  ..     ...\n",
              "298   52    1   1       118   186  ...      0      0.0      2   0       0\n",
              "299   43    0   4       132   341  ...      1      3.0      2   0       1\n",
              "300   65    1   4       135   254  ...      0      2.8      2   1       1\n",
              "301   48    1   4       130   256  ...      1      0.0      1   2       1\n",
              "302   63    0   4       150   407  ...      0      4.0      2   3       1\n",
              "\n",
              "[303 rows x 13 columns]"
            ]
          },
          "metadata": {
            "tags": []
          },
          "execution_count": 3
        }
      ]
    },
    {
      "cell_type": "markdown",
      "metadata": {
        "id": "qnvCHBLem3zU",
        "colab_type": "text"
      },
      "source": [
        "-------"
      ]
    },
    {
      "cell_type": "markdown",
      "metadata": {
        "id": "b_1MenZrm3zU",
        "colab_type": "text"
      },
      "source": [
        "## <font color=\"blue\"> Question 1\n",
        "    \n",
        "**문제:** 해당 data의 feature 중 'age','trestbps','chol','thalach','oldpeak'를 StandardScaler로 standardization 하시오.\n",
        "    \n",
        "**소문제 1:** StandardScaler를 import하기\n",
        "    \n",
        "**소문제 2:** StandardScaler를 인스턴스하기\n",
        "    \n",
        "**소문제 3:** StandardScaler를 standardization하고 저장하기 (StandardScaler의 어떤 메서드를 사용해야 한다.)"
      ]
    },
    {
      "cell_type": "code",
      "metadata": {
        "id": "iB7iYvqmm3zV",
        "colab_type": "code",
        "colab": {
          "base_uri": "https://localhost:8080/",
          "height": 433
        },
        "outputId": "42727fd8-4309-4cc9-c089-a88e6503a3f8"
      },
      "source": [
        "x_raw1 = raw_df.loc[:,['age','trestbps','chol','thalach','oldpeak']]\n",
        "x_raw1"
      ],
      "execution_count": 4,
      "outputs": [
        {
          "output_type": "execute_result",
          "data": {
            "text/html": [
              "<div>\n",
              "<style scoped>\n",
              "    .dataframe tbody tr th:only-of-type {\n",
              "        vertical-align: middle;\n",
              "    }\n",
              "\n",
              "    .dataframe tbody tr th {\n",
              "        vertical-align: top;\n",
              "    }\n",
              "\n",
              "    .dataframe thead th {\n",
              "        text-align: right;\n",
              "    }\n",
              "</style>\n",
              "<table border=\"1\" class=\"dataframe\">\n",
              "  <thead>\n",
              "    <tr style=\"text-align: right;\">\n",
              "      <th></th>\n",
              "      <th>age</th>\n",
              "      <th>trestbps</th>\n",
              "      <th>chol</th>\n",
              "      <th>thalach</th>\n",
              "      <th>oldpeak</th>\n",
              "    </tr>\n",
              "  </thead>\n",
              "  <tbody>\n",
              "    <tr>\n",
              "      <th>0</th>\n",
              "      <td>63</td>\n",
              "      <td>145</td>\n",
              "      <td>233</td>\n",
              "      <td>150</td>\n",
              "      <td>2.3</td>\n",
              "    </tr>\n",
              "    <tr>\n",
              "      <th>1</th>\n",
              "      <td>67</td>\n",
              "      <td>160</td>\n",
              "      <td>286</td>\n",
              "      <td>108</td>\n",
              "      <td>1.5</td>\n",
              "    </tr>\n",
              "    <tr>\n",
              "      <th>2</th>\n",
              "      <td>67</td>\n",
              "      <td>120</td>\n",
              "      <td>229</td>\n",
              "      <td>129</td>\n",
              "      <td>2.6</td>\n",
              "    </tr>\n",
              "    <tr>\n",
              "      <th>3</th>\n",
              "      <td>37</td>\n",
              "      <td>130</td>\n",
              "      <td>250</td>\n",
              "      <td>187</td>\n",
              "      <td>3.5</td>\n",
              "    </tr>\n",
              "    <tr>\n",
              "      <th>4</th>\n",
              "      <td>41</td>\n",
              "      <td>130</td>\n",
              "      <td>204</td>\n",
              "      <td>172</td>\n",
              "      <td>1.4</td>\n",
              "    </tr>\n",
              "    <tr>\n",
              "      <th>...</th>\n",
              "      <td>...</td>\n",
              "      <td>...</td>\n",
              "      <td>...</td>\n",
              "      <td>...</td>\n",
              "      <td>...</td>\n",
              "    </tr>\n",
              "    <tr>\n",
              "      <th>298</th>\n",
              "      <td>52</td>\n",
              "      <td>118</td>\n",
              "      <td>186</td>\n",
              "      <td>190</td>\n",
              "      <td>0.0</td>\n",
              "    </tr>\n",
              "    <tr>\n",
              "      <th>299</th>\n",
              "      <td>43</td>\n",
              "      <td>132</td>\n",
              "      <td>341</td>\n",
              "      <td>136</td>\n",
              "      <td>3.0</td>\n",
              "    </tr>\n",
              "    <tr>\n",
              "      <th>300</th>\n",
              "      <td>65</td>\n",
              "      <td>135</td>\n",
              "      <td>254</td>\n",
              "      <td>127</td>\n",
              "      <td>2.8</td>\n",
              "    </tr>\n",
              "    <tr>\n",
              "      <th>301</th>\n",
              "      <td>48</td>\n",
              "      <td>130</td>\n",
              "      <td>256</td>\n",
              "      <td>150</td>\n",
              "      <td>0.0</td>\n",
              "    </tr>\n",
              "    <tr>\n",
              "      <th>302</th>\n",
              "      <td>63</td>\n",
              "      <td>150</td>\n",
              "      <td>407</td>\n",
              "      <td>154</td>\n",
              "      <td>4.0</td>\n",
              "    </tr>\n",
              "  </tbody>\n",
              "</table>\n",
              "<p>303 rows × 5 columns</p>\n",
              "</div>"
            ],
            "text/plain": [
              "     age  trestbps  chol  thalach  oldpeak\n",
              "0     63       145   233      150      2.3\n",
              "1     67       160   286      108      1.5\n",
              "2     67       120   229      129      2.6\n",
              "3     37       130   250      187      3.5\n",
              "4     41       130   204      172      1.4\n",
              "..   ...       ...   ...      ...      ...\n",
              "298   52       118   186      190      0.0\n",
              "299   43       132   341      136      3.0\n",
              "300   65       135   254      127      2.8\n",
              "301   48       130   256      150      0.0\n",
              "302   63       150   407      154      4.0\n",
              "\n",
              "[303 rows x 5 columns]"
            ]
          },
          "metadata": {
            "tags": []
          },
          "execution_count": 4
        }
      ]
    },
    {
      "cell_type": "markdown",
      "metadata": {
        "id": "qWDkLeGMm3zY",
        "colab_type": "text"
      },
      "source": [
        "**소문제 1:** StandardScaler를 import하기"
      ]
    },
    {
      "cell_type": "code",
      "metadata": {
        "id": "zMikcEigm3zZ",
        "colab_type": "code",
        "colab": {}
      },
      "source": [
        "### START CODE HERE ### (≈ 1 line of code)\n",
        "from sklearn.preprocessing import StandardScaler\n",
        "### END CODE HERE ###"
      ],
      "execution_count": 6,
      "outputs": []
    },
    {
      "cell_type": "markdown",
      "metadata": {
        "id": "yZg3W9Hem3zc",
        "colab_type": "text"
      },
      "source": [
        "**소문제 2:** StandardScaler를 인스턴스하기"
      ]
    },
    {
      "cell_type": "code",
      "metadata": {
        "id": "XmK4Fpoxm3zd",
        "colab_type": "code",
        "colab": {}
      },
      "source": [
        "### START CODE HERE ### (≈ 1 line of code)\n",
        "sds = StandardScaler()\n",
        "### END CODE HERE ###"
      ],
      "execution_count": 7,
      "outputs": []
    },
    {
      "cell_type": "markdown",
      "metadata": {
        "id": "NVhcOZSDm3zg",
        "colab_type": "text"
      },
      "source": [
        "**소문제 3:** StandardScaler를 standardization하고 저장하기 (StandardScaler의 어떤 메서드를 사용해야 한다.)"
      ]
    },
    {
      "cell_type": "code",
      "metadata": {
        "id": "1VdklNnem3zg",
        "colab_type": "code",
        "colab": {}
      },
      "source": [
        "### START CODE HERE ### (≈ 1 line of code) (2줄로 만들어도 괜찮습니다.)\n",
        "x1 = sds.fit_transform(x_raw1)\n",
        "### END CODE HERE ###"
      ],
      "execution_count": 8,
      "outputs": []
    },
    {
      "cell_type": "code",
      "metadata": {
        "id": "NYCTVKaJm3zk",
        "colab_type": "code",
        "colab": {}
      },
      "source": [
        "# 해당 셀이 실행되어야 정답\n",
        "\n",
        "assert(x1[0][0] == 0.9338398968855933)\n",
        "assert(x1[3][3] == 1.634109448166863)"
      ],
      "execution_count": 9,
      "outputs": []
    },
    {
      "cell_type": "markdown",
      "metadata": {
        "id": "vjzlcdZNm3zo",
        "colab_type": "text"
      },
      "source": [
        "------"
      ]
    },
    {
      "cell_type": "markdown",
      "metadata": {
        "id": "ONKLj4ngm3zp",
        "colab_type": "text"
      },
      "source": [
        ">열| 설명| 특성 타입 | 데이터 타입\n",
        ">------------|--------------------|----------------------|-----------------\n",
        ">Age | 나이 | 수치형 | 정수\n",
        ">Sex | (1 = 남성; 0 = 여성) | 범주형 | 정수\n",
        ">CP | 가슴 통증 유형 (0, 1, 2, 3, 4) | 범주형 | 정수\n",
        ">Trestbpd | 안정 혈압 (병원 입원시 mm Hg) | 수치형 | 정수\n",
        ">Chol | 혈청 콜레스테롤 (mg/dl) | 수치형 | 정수\n",
        ">FBS | (공복 혈당 > 120 mg/dl) (1 = true; 0 = false) | 범주형 | 정수\n",
        ">RestECG | 안정 심전도 결과 (0, 1, 2) | 범주형 | 정수\n",
        ">Thalach | 최대 심박동수 | 수치형 | 정수\n",
        ">Exang | 협심증 유발 운동 (1 = yes; 0 = no) | 범주형 | 정수\n",
        ">Oldpeak | 비교적 안정되기까지 운동으로 유발되는 ST depression | 수치형 | 정수\n",
        ">Slope | 최대 운동 ST segment의 기울기 | 수치형 | 실수\n",
        ">CA | 형광 투시된 주요 혈관의 수 (0-3) | 수치형 | 정수\n",
        ">Thal | 3 = 보통; 6 = 해결된 결함; 7 = 해결가능한 결함 | 범주형 | 문자열\n",
        ">Target | 심장병 진단 (1 = true; 0 = false) | 분류 | 정수"
      ]
    },
    {
      "cell_type": "markdown",
      "metadata": {
        "id": "kJcGIhGzm3zp",
        "colab_type": "text"
      },
      "source": [
        "---------"
      ]
    },
    {
      "cell_type": "markdown",
      "metadata": {
        "id": "RF4DC8dLm3zp",
        "colab_type": "text"
      },
      "source": [
        "## <font color=\"blue\"> Question 2\n",
        "    \n",
        "**문제:** 해당 data의 feature 중 'cp', 'restecg', 'slope', 'ca'를 MinMaxScaler로 normalize (0과 1사이로 minmaxscaling)하시오.\n",
        "    "
      ]
    },
    {
      "cell_type": "code",
      "metadata": {
        "id": "w1aemdQJm3zq",
        "colab_type": "code",
        "colab": {
          "base_uri": "https://localhost:8080/",
          "height": 433
        },
        "outputId": "a3052719-e545-4745-b3bc-388f17fc9d3d"
      },
      "source": [
        "x_raw2 = raw_df.loc[:,['cp', 'restecg', 'slope', 'ca']]\n",
        "x_raw2"
      ],
      "execution_count": 10,
      "outputs": [
        {
          "output_type": "execute_result",
          "data": {
            "text/html": [
              "<div>\n",
              "<style scoped>\n",
              "    .dataframe tbody tr th:only-of-type {\n",
              "        vertical-align: middle;\n",
              "    }\n",
              "\n",
              "    .dataframe tbody tr th {\n",
              "        vertical-align: top;\n",
              "    }\n",
              "\n",
              "    .dataframe thead th {\n",
              "        text-align: right;\n",
              "    }\n",
              "</style>\n",
              "<table border=\"1\" class=\"dataframe\">\n",
              "  <thead>\n",
              "    <tr style=\"text-align: right;\">\n",
              "      <th></th>\n",
              "      <th>cp</th>\n",
              "      <th>restecg</th>\n",
              "      <th>slope</th>\n",
              "      <th>ca</th>\n",
              "    </tr>\n",
              "  </thead>\n",
              "  <tbody>\n",
              "    <tr>\n",
              "      <th>0</th>\n",
              "      <td>1</td>\n",
              "      <td>2</td>\n",
              "      <td>3</td>\n",
              "      <td>0</td>\n",
              "    </tr>\n",
              "    <tr>\n",
              "      <th>1</th>\n",
              "      <td>4</td>\n",
              "      <td>2</td>\n",
              "      <td>2</td>\n",
              "      <td>3</td>\n",
              "    </tr>\n",
              "    <tr>\n",
              "      <th>2</th>\n",
              "      <td>4</td>\n",
              "      <td>2</td>\n",
              "      <td>2</td>\n",
              "      <td>2</td>\n",
              "    </tr>\n",
              "    <tr>\n",
              "      <th>3</th>\n",
              "      <td>3</td>\n",
              "      <td>0</td>\n",
              "      <td>3</td>\n",
              "      <td>0</td>\n",
              "    </tr>\n",
              "    <tr>\n",
              "      <th>4</th>\n",
              "      <td>2</td>\n",
              "      <td>2</td>\n",
              "      <td>1</td>\n",
              "      <td>0</td>\n",
              "    </tr>\n",
              "    <tr>\n",
              "      <th>...</th>\n",
              "      <td>...</td>\n",
              "      <td>...</td>\n",
              "      <td>...</td>\n",
              "      <td>...</td>\n",
              "    </tr>\n",
              "    <tr>\n",
              "      <th>298</th>\n",
              "      <td>1</td>\n",
              "      <td>2</td>\n",
              "      <td>2</td>\n",
              "      <td>0</td>\n",
              "    </tr>\n",
              "    <tr>\n",
              "      <th>299</th>\n",
              "      <td>4</td>\n",
              "      <td>2</td>\n",
              "      <td>2</td>\n",
              "      <td>0</td>\n",
              "    </tr>\n",
              "    <tr>\n",
              "      <th>300</th>\n",
              "      <td>4</td>\n",
              "      <td>2</td>\n",
              "      <td>2</td>\n",
              "      <td>1</td>\n",
              "    </tr>\n",
              "    <tr>\n",
              "      <th>301</th>\n",
              "      <td>4</td>\n",
              "      <td>2</td>\n",
              "      <td>1</td>\n",
              "      <td>2</td>\n",
              "    </tr>\n",
              "    <tr>\n",
              "      <th>302</th>\n",
              "      <td>4</td>\n",
              "      <td>2</td>\n",
              "      <td>2</td>\n",
              "      <td>3</td>\n",
              "    </tr>\n",
              "  </tbody>\n",
              "</table>\n",
              "<p>303 rows × 4 columns</p>\n",
              "</div>"
            ],
            "text/plain": [
              "     cp  restecg  slope  ca\n",
              "0     1        2      3   0\n",
              "1     4        2      2   3\n",
              "2     4        2      2   2\n",
              "3     3        0      3   0\n",
              "4     2        2      1   0\n",
              "..   ..      ...    ...  ..\n",
              "298   1        2      2   0\n",
              "299   4        2      2   0\n",
              "300   4        2      2   1\n",
              "301   4        2      1   2\n",
              "302   4        2      2   3\n",
              "\n",
              "[303 rows x 4 columns]"
            ]
          },
          "metadata": {
            "tags": []
          },
          "execution_count": 10
        }
      ]
    },
    {
      "cell_type": "code",
      "metadata": {
        "id": "IRoFalIGm3zw",
        "colab_type": "code",
        "colab": {}
      },
      "source": [
        "### START CODE HERE ### (≈ 3 line of code) (4줄로 적어도 됩니다.)\n",
        "from sklearn.preprocessing import MinMaxScaler\n",
        "mm = MinMaxScaler()\n",
        "x2 = mm.fit_transform(x_raw2)\n",
        "### END CODE HERE ###"
      ],
      "execution_count": 11,
      "outputs": []
    },
    {
      "cell_type": "code",
      "metadata": {
        "id": "zJocXakLm3z0",
        "colab_type": "code",
        "colab": {}
      },
      "source": [
        "# 해당 셀이 정상적으로 실행되어야 정답입니다.\n",
        "\n",
        "assert(np.array(x2[10] == [1. , 0. , 0.5, 0. ]).all)\n",
        "assert(np.array(x2[100] == [1. , 1. , 0.5, 0. ]).all)"
      ],
      "execution_count": 12,
      "outputs": []
    },
    {
      "cell_type": "markdown",
      "metadata": {
        "id": "IhmkciWkm3z3",
        "colab_type": "text"
      },
      "source": [
        "--------"
      ]
    },
    {
      "cell_type": "markdown",
      "metadata": {
        "id": "xoIBAs_Fm3z4",
        "colab_type": "text"
      },
      "source": [
        "12개 feature를 이제 하나로 합치고 label(y)도 확보해본다."
      ]
    },
    {
      "cell_type": "code",
      "metadata": {
        "id": "ptTUjSZRm3z4",
        "colab_type": "code",
        "colab": {}
      },
      "source": [
        "x1 = pd.DataFrame(x1, columns=['age', 'trestbps','chol', 'thalach', 'oldpeak'])\n",
        "x2 = pd.DataFrame(x2, columns=['cp', 'restecg', 'slope','ca'])\n",
        "x3 = raw_df.loc[:,['exang', 'sex', 'fbs']]\n",
        "y = raw_df.target"
      ],
      "execution_count": 13,
      "outputs": []
    },
    {
      "cell_type": "code",
      "metadata": {
        "id": "rebk956sm3z6",
        "colab_type": "code",
        "colab": {
          "base_uri": "https://localhost:8080/",
          "height": 433
        },
        "outputId": "86a228f8-e2fd-4140-f3b5-2a0d9ace5d93"
      },
      "source": [
        "x = x1.join(x2)\n",
        "x"
      ],
      "execution_count": 14,
      "outputs": [
        {
          "output_type": "execute_result",
          "data": {
            "text/html": [
              "<div>\n",
              "<style scoped>\n",
              "    .dataframe tbody tr th:only-of-type {\n",
              "        vertical-align: middle;\n",
              "    }\n",
              "\n",
              "    .dataframe tbody tr th {\n",
              "        vertical-align: top;\n",
              "    }\n",
              "\n",
              "    .dataframe thead th {\n",
              "        text-align: right;\n",
              "    }\n",
              "</style>\n",
              "<table border=\"1\" class=\"dataframe\">\n",
              "  <thead>\n",
              "    <tr style=\"text-align: right;\">\n",
              "      <th></th>\n",
              "      <th>age</th>\n",
              "      <th>trestbps</th>\n",
              "      <th>chol</th>\n",
              "      <th>thalach</th>\n",
              "      <th>oldpeak</th>\n",
              "      <th>cp</th>\n",
              "      <th>restecg</th>\n",
              "      <th>slope</th>\n",
              "      <th>ca</th>\n",
              "    </tr>\n",
              "  </thead>\n",
              "  <tbody>\n",
              "    <tr>\n",
              "      <th>0</th>\n",
              "      <td>0.933840</td>\n",
              "      <td>0.745781</td>\n",
              "      <td>-0.260087</td>\n",
              "      <td>0.034808</td>\n",
              "      <td>1.068045</td>\n",
              "      <td>0.25</td>\n",
              "      <td>1.0</td>\n",
              "      <td>1.0</td>\n",
              "      <td>0.000000</td>\n",
              "    </tr>\n",
              "    <tr>\n",
              "      <th>1</th>\n",
              "      <td>1.378211</td>\n",
              "      <td>1.592329</td>\n",
              "      <td>0.757388</td>\n",
              "      <td>-1.780616</td>\n",
              "      <td>0.380229</td>\n",
              "      <td>1.00</td>\n",
              "      <td>1.0</td>\n",
              "      <td>0.5</td>\n",
              "      <td>1.000000</td>\n",
              "    </tr>\n",
              "    <tr>\n",
              "      <th>2</th>\n",
              "      <td>1.378211</td>\n",
              "      <td>-0.665131</td>\n",
              "      <td>-0.336877</td>\n",
              "      <td>-0.872904</td>\n",
              "      <td>1.325977</td>\n",
              "      <td>1.00</td>\n",
              "      <td>1.0</td>\n",
              "      <td>0.5</td>\n",
              "      <td>0.666667</td>\n",
              "    </tr>\n",
              "    <tr>\n",
              "      <th>3</th>\n",
              "      <td>-1.954574</td>\n",
              "      <td>-0.100766</td>\n",
              "      <td>0.066273</td>\n",
              "      <td>1.634109</td>\n",
              "      <td>2.099771</td>\n",
              "      <td>0.75</td>\n",
              "      <td>0.0</td>\n",
              "      <td>1.0</td>\n",
              "      <td>0.000000</td>\n",
              "    </tr>\n",
              "    <tr>\n",
              "      <th>4</th>\n",
              "      <td>-1.510203</td>\n",
              "      <td>-0.100766</td>\n",
              "      <td>-0.816818</td>\n",
              "      <td>0.985744</td>\n",
              "      <td>0.294252</td>\n",
              "      <td>0.50</td>\n",
              "      <td>1.0</td>\n",
              "      <td>0.0</td>\n",
              "      <td>0.000000</td>\n",
              "    </tr>\n",
              "    <tr>\n",
              "      <th>...</th>\n",
              "      <td>...</td>\n",
              "      <td>...</td>\n",
              "      <td>...</td>\n",
              "      <td>...</td>\n",
              "      <td>...</td>\n",
              "      <td>...</td>\n",
              "      <td>...</td>\n",
              "      <td>...</td>\n",
              "      <td>...</td>\n",
              "    </tr>\n",
              "    <tr>\n",
              "      <th>298</th>\n",
              "      <td>-0.288181</td>\n",
              "      <td>-0.778004</td>\n",
              "      <td>-1.162375</td>\n",
              "      <td>1.763783</td>\n",
              "      <td>-0.909428</td>\n",
              "      <td>0.25</td>\n",
              "      <td>1.0</td>\n",
              "      <td>0.5</td>\n",
              "      <td>0.000000</td>\n",
              "    </tr>\n",
              "    <tr>\n",
              "      <th>299</th>\n",
              "      <td>-1.288017</td>\n",
              "      <td>0.012107</td>\n",
              "      <td>1.813257</td>\n",
              "      <td>-0.570333</td>\n",
              "      <td>1.669885</td>\n",
              "      <td>1.00</td>\n",
              "      <td>1.0</td>\n",
              "      <td>0.5</td>\n",
              "      <td>0.000000</td>\n",
              "    </tr>\n",
              "    <tr>\n",
              "      <th>300</th>\n",
              "      <td>1.156026</td>\n",
              "      <td>0.181416</td>\n",
              "      <td>0.143064</td>\n",
              "      <td>-0.959353</td>\n",
              "      <td>1.497931</td>\n",
              "      <td>1.00</td>\n",
              "      <td>1.0</td>\n",
              "      <td>0.5</td>\n",
              "      <td>0.333333</td>\n",
              "    </tr>\n",
              "    <tr>\n",
              "      <th>301</th>\n",
              "      <td>-0.732553</td>\n",
              "      <td>-0.100766</td>\n",
              "      <td>0.181459</td>\n",
              "      <td>0.034808</td>\n",
              "      <td>-0.909428</td>\n",
              "      <td>1.00</td>\n",
              "      <td>1.0</td>\n",
              "      <td>0.0</td>\n",
              "      <td>0.666667</td>\n",
              "    </tr>\n",
              "    <tr>\n",
              "      <th>302</th>\n",
              "      <td>0.933840</td>\n",
              "      <td>1.027964</td>\n",
              "      <td>3.080301</td>\n",
              "      <td>0.207705</td>\n",
              "      <td>2.529656</td>\n",
              "      <td>1.00</td>\n",
              "      <td>1.0</td>\n",
              "      <td>0.5</td>\n",
              "      <td>1.000000</td>\n",
              "    </tr>\n",
              "  </tbody>\n",
              "</table>\n",
              "<p>303 rows × 9 columns</p>\n",
              "</div>"
            ],
            "text/plain": [
              "          age  trestbps      chol   thalach  ...    cp  restecg  slope        ca\n",
              "0    0.933840  0.745781 -0.260087  0.034808  ...  0.25      1.0    1.0  0.000000\n",
              "1    1.378211  1.592329  0.757388 -1.780616  ...  1.00      1.0    0.5  1.000000\n",
              "2    1.378211 -0.665131 -0.336877 -0.872904  ...  1.00      1.0    0.5  0.666667\n",
              "3   -1.954574 -0.100766  0.066273  1.634109  ...  0.75      0.0    1.0  0.000000\n",
              "4   -1.510203 -0.100766 -0.816818  0.985744  ...  0.50      1.0    0.0  0.000000\n",
              "..        ...       ...       ...       ...  ...   ...      ...    ...       ...\n",
              "298 -0.288181 -0.778004 -1.162375  1.763783  ...  0.25      1.0    0.5  0.000000\n",
              "299 -1.288017  0.012107  1.813257 -0.570333  ...  1.00      1.0    0.5  0.000000\n",
              "300  1.156026  0.181416  0.143064 -0.959353  ...  1.00      1.0    0.5  0.333333\n",
              "301 -0.732553 -0.100766  0.181459  0.034808  ...  1.00      1.0    0.0  0.666667\n",
              "302  0.933840  1.027964  3.080301  0.207705  ...  1.00      1.0    0.5  1.000000\n",
              "\n",
              "[303 rows x 9 columns]"
            ]
          },
          "metadata": {
            "tags": []
          },
          "execution_count": 14
        }
      ]
    },
    {
      "cell_type": "code",
      "metadata": {
        "id": "hYEyw0sfm3z8",
        "colab_type": "code",
        "colab": {
          "base_uri": "https://localhost:8080/",
          "height": 433
        },
        "outputId": "ebc6bda7-36d1-4c04-f64f-8334daa06ed7"
      },
      "source": [
        "x = x.join(x3)\n",
        "x"
      ],
      "execution_count": 15,
      "outputs": [
        {
          "output_type": "execute_result",
          "data": {
            "text/html": [
              "<div>\n",
              "<style scoped>\n",
              "    .dataframe tbody tr th:only-of-type {\n",
              "        vertical-align: middle;\n",
              "    }\n",
              "\n",
              "    .dataframe tbody tr th {\n",
              "        vertical-align: top;\n",
              "    }\n",
              "\n",
              "    .dataframe thead th {\n",
              "        text-align: right;\n",
              "    }\n",
              "</style>\n",
              "<table border=\"1\" class=\"dataframe\">\n",
              "  <thead>\n",
              "    <tr style=\"text-align: right;\">\n",
              "      <th></th>\n",
              "      <th>age</th>\n",
              "      <th>trestbps</th>\n",
              "      <th>chol</th>\n",
              "      <th>thalach</th>\n",
              "      <th>oldpeak</th>\n",
              "      <th>cp</th>\n",
              "      <th>restecg</th>\n",
              "      <th>slope</th>\n",
              "      <th>ca</th>\n",
              "      <th>exang</th>\n",
              "      <th>sex</th>\n",
              "      <th>fbs</th>\n",
              "    </tr>\n",
              "  </thead>\n",
              "  <tbody>\n",
              "    <tr>\n",
              "      <th>0</th>\n",
              "      <td>0.933840</td>\n",
              "      <td>0.745781</td>\n",
              "      <td>-0.260087</td>\n",
              "      <td>0.034808</td>\n",
              "      <td>1.068045</td>\n",
              "      <td>0.25</td>\n",
              "      <td>1.0</td>\n",
              "      <td>1.0</td>\n",
              "      <td>0.000000</td>\n",
              "      <td>0</td>\n",
              "      <td>1</td>\n",
              "      <td>1</td>\n",
              "    </tr>\n",
              "    <tr>\n",
              "      <th>1</th>\n",
              "      <td>1.378211</td>\n",
              "      <td>1.592329</td>\n",
              "      <td>0.757388</td>\n",
              "      <td>-1.780616</td>\n",
              "      <td>0.380229</td>\n",
              "      <td>1.00</td>\n",
              "      <td>1.0</td>\n",
              "      <td>0.5</td>\n",
              "      <td>1.000000</td>\n",
              "      <td>1</td>\n",
              "      <td>1</td>\n",
              "      <td>0</td>\n",
              "    </tr>\n",
              "    <tr>\n",
              "      <th>2</th>\n",
              "      <td>1.378211</td>\n",
              "      <td>-0.665131</td>\n",
              "      <td>-0.336877</td>\n",
              "      <td>-0.872904</td>\n",
              "      <td>1.325977</td>\n",
              "      <td>1.00</td>\n",
              "      <td>1.0</td>\n",
              "      <td>0.5</td>\n",
              "      <td>0.666667</td>\n",
              "      <td>1</td>\n",
              "      <td>1</td>\n",
              "      <td>0</td>\n",
              "    </tr>\n",
              "    <tr>\n",
              "      <th>3</th>\n",
              "      <td>-1.954574</td>\n",
              "      <td>-0.100766</td>\n",
              "      <td>0.066273</td>\n",
              "      <td>1.634109</td>\n",
              "      <td>2.099771</td>\n",
              "      <td>0.75</td>\n",
              "      <td>0.0</td>\n",
              "      <td>1.0</td>\n",
              "      <td>0.000000</td>\n",
              "      <td>0</td>\n",
              "      <td>1</td>\n",
              "      <td>0</td>\n",
              "    </tr>\n",
              "    <tr>\n",
              "      <th>4</th>\n",
              "      <td>-1.510203</td>\n",
              "      <td>-0.100766</td>\n",
              "      <td>-0.816818</td>\n",
              "      <td>0.985744</td>\n",
              "      <td>0.294252</td>\n",
              "      <td>0.50</td>\n",
              "      <td>1.0</td>\n",
              "      <td>0.0</td>\n",
              "      <td>0.000000</td>\n",
              "      <td>0</td>\n",
              "      <td>0</td>\n",
              "      <td>0</td>\n",
              "    </tr>\n",
              "    <tr>\n",
              "      <th>...</th>\n",
              "      <td>...</td>\n",
              "      <td>...</td>\n",
              "      <td>...</td>\n",
              "      <td>...</td>\n",
              "      <td>...</td>\n",
              "      <td>...</td>\n",
              "      <td>...</td>\n",
              "      <td>...</td>\n",
              "      <td>...</td>\n",
              "      <td>...</td>\n",
              "      <td>...</td>\n",
              "      <td>...</td>\n",
              "    </tr>\n",
              "    <tr>\n",
              "      <th>298</th>\n",
              "      <td>-0.288181</td>\n",
              "      <td>-0.778004</td>\n",
              "      <td>-1.162375</td>\n",
              "      <td>1.763783</td>\n",
              "      <td>-0.909428</td>\n",
              "      <td>0.25</td>\n",
              "      <td>1.0</td>\n",
              "      <td>0.5</td>\n",
              "      <td>0.000000</td>\n",
              "      <td>0</td>\n",
              "      <td>1</td>\n",
              "      <td>0</td>\n",
              "    </tr>\n",
              "    <tr>\n",
              "      <th>299</th>\n",
              "      <td>-1.288017</td>\n",
              "      <td>0.012107</td>\n",
              "      <td>1.813257</td>\n",
              "      <td>-0.570333</td>\n",
              "      <td>1.669885</td>\n",
              "      <td>1.00</td>\n",
              "      <td>1.0</td>\n",
              "      <td>0.5</td>\n",
              "      <td>0.000000</td>\n",
              "      <td>1</td>\n",
              "      <td>0</td>\n",
              "      <td>1</td>\n",
              "    </tr>\n",
              "    <tr>\n",
              "      <th>300</th>\n",
              "      <td>1.156026</td>\n",
              "      <td>0.181416</td>\n",
              "      <td>0.143064</td>\n",
              "      <td>-0.959353</td>\n",
              "      <td>1.497931</td>\n",
              "      <td>1.00</td>\n",
              "      <td>1.0</td>\n",
              "      <td>0.5</td>\n",
              "      <td>0.333333</td>\n",
              "      <td>0</td>\n",
              "      <td>1</td>\n",
              "      <td>0</td>\n",
              "    </tr>\n",
              "    <tr>\n",
              "      <th>301</th>\n",
              "      <td>-0.732553</td>\n",
              "      <td>-0.100766</td>\n",
              "      <td>0.181459</td>\n",
              "      <td>0.034808</td>\n",
              "      <td>-0.909428</td>\n",
              "      <td>1.00</td>\n",
              "      <td>1.0</td>\n",
              "      <td>0.0</td>\n",
              "      <td>0.666667</td>\n",
              "      <td>1</td>\n",
              "      <td>1</td>\n",
              "      <td>1</td>\n",
              "    </tr>\n",
              "    <tr>\n",
              "      <th>302</th>\n",
              "      <td>0.933840</td>\n",
              "      <td>1.027964</td>\n",
              "      <td>3.080301</td>\n",
              "      <td>0.207705</td>\n",
              "      <td>2.529656</td>\n",
              "      <td>1.00</td>\n",
              "      <td>1.0</td>\n",
              "      <td>0.5</td>\n",
              "      <td>1.000000</td>\n",
              "      <td>0</td>\n",
              "      <td>0</td>\n",
              "      <td>0</td>\n",
              "    </tr>\n",
              "  </tbody>\n",
              "</table>\n",
              "<p>303 rows × 12 columns</p>\n",
              "</div>"
            ],
            "text/plain": [
              "          age  trestbps      chol   thalach  ...        ca  exang  sex  fbs\n",
              "0    0.933840  0.745781 -0.260087  0.034808  ...  0.000000      0    1    1\n",
              "1    1.378211  1.592329  0.757388 -1.780616  ...  1.000000      1    1    0\n",
              "2    1.378211 -0.665131 -0.336877 -0.872904  ...  0.666667      1    1    0\n",
              "3   -1.954574 -0.100766  0.066273  1.634109  ...  0.000000      0    1    0\n",
              "4   -1.510203 -0.100766 -0.816818  0.985744  ...  0.000000      0    0    0\n",
              "..        ...       ...       ...       ...  ...       ...    ...  ...  ...\n",
              "298 -0.288181 -0.778004 -1.162375  1.763783  ...  0.000000      0    1    0\n",
              "299 -1.288017  0.012107  1.813257 -0.570333  ...  0.000000      1    0    1\n",
              "300  1.156026  0.181416  0.143064 -0.959353  ...  0.333333      0    1    0\n",
              "301 -0.732553 -0.100766  0.181459  0.034808  ...  0.666667      1    1    1\n",
              "302  0.933840  1.027964  3.080301  0.207705  ...  1.000000      0    0    0\n",
              "\n",
              "[303 rows x 12 columns]"
            ]
          },
          "metadata": {
            "tags": []
          },
          "execution_count": 15
        }
      ]
    },
    {
      "cell_type": "markdown",
      "metadata": {
        "id": "8bDHqudDm3z-",
        "colab_type": "text"
      },
      "source": [
        "-------"
      ]
    },
    {
      "cell_type": "markdown",
      "metadata": {
        "id": "m3e2me3cm3z-",
        "colab_type": "text"
      },
      "source": [
        "## <font color=\"blue\"> Question 3\n",
        "    \n",
        "**문제:** momentum optimizer를 learning rate는 0.001, momentum은 0.9로 설정해서 학습해 보시오.\n",
        " (마지막 layer와 input_dim 설정까지 그동안 배운 지식으로 해보기 바랍니다.) (현재 binary classification입니다.)\n",
        "    \n",
        "**소문제 1:** 사용할 optimizer import\n",
        "    \n",
        "**소문제 2:** momentum optimizer를 learning rate는 0.001, momentum은 0.9로 설정해서 만들기\n",
        "    \n",
        "**소문제 3:** 조건에 맞는 모델 만들기 해당 함수를 만드시오.\n",
        "\n",
        "(1> input_dim 설정 2> binary classification에 맞는 output layer의 2가지 설정 3> loss 설정)"
      ]
    },
    {
      "cell_type": "code",
      "metadata": {
        "id": "a6ZFSWbvm3z-",
        "colab_type": "code",
        "colab": {}
      },
      "source": [
        "from tensorflow.keras.models import Sequential\n",
        "from tensorflow.keras.layers import Dense"
      ],
      "execution_count": 16,
      "outputs": []
    },
    {
      "cell_type": "markdown",
      "metadata": {
        "id": "WogOdt5nm30B",
        "colab_type": "text"
      },
      "source": [
        "**소문제 1:** 사용할 optimizer import"
      ]
    },
    {
      "cell_type": "code",
      "metadata": {
        "id": "iuabSNQqm30C",
        "colab_type": "code",
        "colab": {}
      },
      "source": [
        "### START CODE HERE ### (≈ 1 line of code)\n",
        "from tensorflow.keras.optimizers import SGD\n",
        "### END CODE HERE ###"
      ],
      "execution_count": 17,
      "outputs": []
    },
    {
      "cell_type": "markdown",
      "metadata": {
        "id": "zmAU7Cqkm30E",
        "colab_type": "text"
      },
      "source": [
        "**소문제 2:** momentum optimizer를 learning rate는 0.001, momentum은 0.9로 설정해서 만들기"
      ]
    },
    {
      "cell_type": "code",
      "metadata": {
        "id": "q7GG9MOQm30F",
        "colab_type": "code",
        "colab": {}
      },
      "source": [
        "### START CODE HERE ### (≈ 1 line of code)\n",
        "sgd = SGD(learning_rate=0.001, momentum=0.9)\n",
        "### END CODE HERE ###"
      ],
      "execution_count": 19,
      "outputs": []
    },
    {
      "cell_type": "markdown",
      "metadata": {
        "id": "RQ-vOvwXm30G",
        "colab_type": "text"
      },
      "source": [
        "**소문제 3:** 조건에 맞는 모델 만들기 해당 함수를 만드시오.\n",
        "\n",
        "(1> input_dim 설정 2> binary classification에 맞는 output layer의 2가지 설정 3> loss 설정)"
      ]
    },
    {
      "cell_type": "code",
      "metadata": {
        "id": "dq_9S75Jm30H",
        "colab_type": "code",
        "colab": {}
      },
      "source": [
        "def create_momentum_model():\n",
        "    model = Sequential()\n",
        "    ### START CODE HERE ### (≈ 1 line of code)\n",
        "    model.add(Dense(units = 32,input_dim =12 , activation='relu',))\n",
        "    ### END CODE HERE ###\n",
        "    \n",
        "    model.add(Dense(64, activation = 'relu'))\n",
        "    \n",
        "    ### START CODE HERE ### (≈ 1 line of code)\n",
        "    model.add(Dense(units =1 ,activation='sigmoid'))\n",
        "    ### END CODE HERE ###\n",
        "    \n",
        "    ### START CODE HERE ### (≈ 1 line of code)\n",
        "    model.compile(optimizer = sgd, metrics = ['accuracy'], loss='binary_crossentropy')\n",
        "    ### END CODE HERE ###\n",
        "    \n",
        "    return model"
      ],
      "execution_count": 22,
      "outputs": []
    },
    {
      "cell_type": "code",
      "metadata": {
        "id": "MvJHlQLnm30J",
        "colab_type": "code",
        "colab": {}
      },
      "source": [
        "model = create_momentum_model()"
      ],
      "execution_count": 23,
      "outputs": []
    },
    {
      "cell_type": "code",
      "metadata": {
        "id": "akEHYj8Am30L",
        "colab_type": "code",
        "colab": {
          "base_uri": "https://localhost:8080/",
          "height": 368
        },
        "outputId": "10f85f2e-639e-4887-ddb4-afb447ee902b"
      },
      "source": [
        "history = model.fit(np.array(x),np.array(y),epochs = 10, batch_size = 1, shuffle=False)"
      ],
      "execution_count": 24,
      "outputs": [
        {
          "output_type": "stream",
          "text": [
            "Epoch 1/10\n",
            "303/303 [==============================] - 0s 953us/step - loss: 0.5875 - accuracy: 0.7261\n",
            "Epoch 2/10\n",
            "303/303 [==============================] - 0s 948us/step - loss: 0.4679 - accuracy: 0.7954\n",
            "Epoch 3/10\n",
            "303/303 [==============================] - 0s 888us/step - loss: 0.4318 - accuracy: 0.8020\n",
            "Epoch 4/10\n",
            "303/303 [==============================] - 0s 896us/step - loss: 0.4118 - accuracy: 0.8053\n",
            "Epoch 5/10\n",
            "303/303 [==============================] - 0s 838us/step - loss: 0.3968 - accuracy: 0.8020\n",
            "Epoch 6/10\n",
            "303/303 [==============================] - 0s 861us/step - loss: 0.3845 - accuracy: 0.7987\n",
            "Epoch 7/10\n",
            "303/303 [==============================] - 0s 961us/step - loss: 0.3737 - accuracy: 0.8152\n",
            "Epoch 8/10\n",
            "303/303 [==============================] - 0s 925us/step - loss: 0.3638 - accuracy: 0.8251\n",
            "Epoch 9/10\n",
            "303/303 [==============================] - 0s 965us/step - loss: 0.3552 - accuracy: 0.8350\n",
            "Epoch 10/10\n",
            "303/303 [==============================] - 0s 920us/step - loss: 0.3471 - accuracy: 0.8383\n"
          ],
          "name": "stdout"
        }
      ]
    },
    {
      "cell_type": "markdown",
      "metadata": {
        "id": "dvXkI7f5m30N",
        "colab_type": "text"
      },
      "source": [
        "-------"
      ]
    },
    {
      "cell_type": "markdown",
      "metadata": {
        "id": "IFRoOwwYm30N",
        "colab_type": "text"
      },
      "source": [
        "## <font color=\"blue\"> Question 4\n",
        "\n",
        "**문제:** 모든 layer의 W(weight=kernel)를 he_normal로 initialization 해보시오"
      ]
    },
    {
      "cell_type": "code",
      "metadata": {
        "id": "jeHlZaX_m30N",
        "colab_type": "code",
        "colab": {
          "base_uri": "https://localhost:8080/",
          "height": 170
        },
        "outputId": "87b19475-0764-44d7-845b-1a7b13131715"
      },
      "source": [
        "from tensorflow.keras.datasets import fashion_mnist\n",
        "\n",
        "(x,y), (x_test, y_test) = fashion_mnist.load_data()\n",
        "\n",
        "from tensorflow.keras.utils import to_categorical\n",
        "\n",
        "x = x.astype('float32')\n",
        "x_test = x_test.astype('float32')\n",
        "\n",
        "x = x.reshape(60000,-1)\n",
        "x_test = x_test.reshape(10000,-1)\n",
        "\n",
        "x = x/255.\n",
        "x_test = x/ 255.\n",
        "\n",
        "y = to_categorical(y, 10)\n",
        "y_test = to_categorical(y_test, 10)\n",
        "\n",
        "from sklearn.model_selection import train_test_split\n",
        "\n",
        "x_train, x_val, y_train, y_val = train_test_split(x, y, train_size = 1/2, random_state = 3, stratify=y)\n",
        "\n"
      ],
      "execution_count": 25,
      "outputs": [
        {
          "output_type": "stream",
          "text": [
            "Downloading data from https://storage.googleapis.com/tensorflow/tf-keras-datasets/train-labels-idx1-ubyte.gz\n",
            "32768/29515 [=================================] - 0s 0us/step\n",
            "Downloading data from https://storage.googleapis.com/tensorflow/tf-keras-datasets/train-images-idx3-ubyte.gz\n",
            "26427392/26421880 [==============================] - 0s 0us/step\n",
            "Downloading data from https://storage.googleapis.com/tensorflow/tf-keras-datasets/t10k-labels-idx1-ubyte.gz\n",
            "8192/5148 [===============================================] - 0s 0us/step\n",
            "Downloading data from https://storage.googleapis.com/tensorflow/tf-keras-datasets/t10k-images-idx3-ubyte.gz\n",
            "4423680/4422102 [==============================] - 0s 0us/step\n"
          ],
          "name": "stdout"
        }
      ]
    },
    {
      "cell_type": "code",
      "metadata": {
        "id": "6eBCvV24m30P",
        "colab_type": "code",
        "colab": {}
      },
      "source": [
        "from tensorflow.keras.models import Sequential\n",
        "from tensorflow.keras.layers import Dense\n",
        "\n",
        "def create_hn_model():\n",
        "    model = Sequential()\n",
        "    ### START CODE HERE ### (≈ 4 line of code)\n",
        "    model.add(Dense(64, input_shape=(784,), activation = 'relu', ))\n",
        "    model.add(Dense(128, activation = 'relu', ))\n",
        "    model.add(Dense(256, activation = 'relu', ))\n",
        "    model.add(Dense(10, activation = 'softmax', ))\n",
        "    ### END CODE HERE ###\n",
        "    \n",
        "    model.compile(optimizer = 'adam', loss = 'categorical_crossentropy', metrics = ['accuracy'])\n",
        "    return model"
      ],
      "execution_count": 26,
      "outputs": []
    },
    {
      "cell_type": "code",
      "metadata": {
        "id": "N9mhOBCmm30Q",
        "colab_type": "code",
        "colab": {}
      },
      "source": [
        "model_hn = create_hn_model()"
      ],
      "execution_count": 27,
      "outputs": []
    },
    {
      "cell_type": "code",
      "metadata": {
        "id": "P1nWgKvsm30R",
        "colab_type": "code",
        "colab": {
          "base_uri": "https://localhost:8080/",
          "height": 368
        },
        "outputId": "e3c45e61-b850-4e54-e6e3-03088940b501"
      },
      "source": [
        "history_hn = model_hn.fit(x_train, y_train, validation_data=(x_val, y_val), epochs=10)"
      ],
      "execution_count": 28,
      "outputs": [
        {
          "output_type": "stream",
          "text": [
            "Epoch 1/10\n",
            "938/938 [==============================] - 3s 3ms/step - loss: 0.5614 - accuracy: 0.8001 - val_loss: 0.4361 - val_accuracy: 0.8420\n",
            "Epoch 2/10\n",
            "938/938 [==============================] - 3s 3ms/step - loss: 0.4080 - accuracy: 0.8513 - val_loss: 0.4516 - val_accuracy: 0.8378\n",
            "Epoch 3/10\n",
            "938/938 [==============================] - 3s 3ms/step - loss: 0.3673 - accuracy: 0.8649 - val_loss: 0.3710 - val_accuracy: 0.8622\n",
            "Epoch 4/10\n",
            "938/938 [==============================] - 3s 3ms/step - loss: 0.3430 - accuracy: 0.8722 - val_loss: 0.3674 - val_accuracy: 0.8667\n",
            "Epoch 5/10\n",
            "938/938 [==============================] - 3s 3ms/step - loss: 0.3216 - accuracy: 0.8800 - val_loss: 0.3543 - val_accuracy: 0.8735\n",
            "Epoch 6/10\n",
            "938/938 [==============================] - 3s 3ms/step - loss: 0.3076 - accuracy: 0.8858 - val_loss: 0.3940 - val_accuracy: 0.8680\n",
            "Epoch 7/10\n",
            "938/938 [==============================] - 3s 3ms/step - loss: 0.2924 - accuracy: 0.8904 - val_loss: 0.3508 - val_accuracy: 0.8717\n",
            "Epoch 8/10\n",
            "938/938 [==============================] - 3s 3ms/step - loss: 0.2791 - accuracy: 0.8958 - val_loss: 0.3457 - val_accuracy: 0.8738\n",
            "Epoch 9/10\n",
            "938/938 [==============================] - 3s 3ms/step - loss: 0.2719 - accuracy: 0.8980 - val_loss: 0.3794 - val_accuracy: 0.8693\n",
            "Epoch 10/10\n",
            "938/938 [==============================] - 3s 3ms/step - loss: 0.2542 - accuracy: 0.9044 - val_loss: 0.3675 - val_accuracy: 0.8725\n"
          ],
          "name": "stdout"
        }
      ]
    },
    {
      "cell_type": "code",
      "metadata": {
        "id": "NX4pLUKUm30T",
        "colab_type": "code",
        "colab": {}
      },
      "source": [
        "import matplotlib.pyplot as plt\n",
        "\n",
        "%matplotlib inline"
      ],
      "execution_count": 29,
      "outputs": []
    },
    {
      "cell_type": "code",
      "metadata": {
        "id": "5WyCqYqdm30U",
        "colab_type": "code",
        "colab": {
          "base_uri": "https://localhost:8080/",
          "height": 315
        },
        "outputId": "4f7544e1-1975-458e-e92a-9f2b1caa8155"
      },
      "source": [
        "loss = history_hn.history['loss']\n",
        "val_loss = history_hn.history['val_loss']\n",
        "\n",
        "epochs = range(1, len(loss)+1)\n",
        "\n",
        "plt.plot(epochs, loss, 'r', label='Training loss')\n",
        "plt.plot(epochs, val_loss, 'b', label='Validation loss')\n",
        "plt.title('Training and validation loss')\n",
        "plt.xlabel('Epochs')\n",
        "plt.ylabel('Loss')\n",
        "plt.legend()\n",
        "\n",
        "plt.show()"
      ],
      "execution_count": 33,
      "outputs": [
        {
          "output_type": "display_data",
          "data": {
            "image/png": "[encoded data removed]",
            "text/plain": [
              "<Figure size 432x288 with 1 Axes>"
            ]
          },
          "metadata": {
            "tags": [],
            "needs_background": "light"
          }
        }
      ]
    },
    {
      "cell_type": "markdown",
      "metadata": {
        "id": "-_oPDPK3m30V",
        "colab_type": "text"
      },
      "source": [
        "### 6주차 과제는 glorot_uniform었고 epoch 10에서 loss가 0.28정도였는데\n",
        "\n",
        "### he_normal이 fashion_mnist에서 더 잘 학습되는 것을 알 수 있습니다."
      ]
    }
  ]
}