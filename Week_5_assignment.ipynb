{
  "nbformat": 4,
  "nbformat_minor": 0,
  "metadata": {
    "kernelspec": {
      "display_name": "Python 3",
      "language": "python",
      "name": "python3"
    },
    "language_info": {
      "codemirror_mode": {
        "name": "ipython",
        "version": 3
      },
      "file_extension": ".py",
      "mimetype": "text/x-python",
      "name": "python",
      "nbconvert_exporter": "python",
      "pygments_lexer": "ipython3",
      "version": "3.7.4"
    },
    "colab": {
      "name": "Week 5 assignment.ipynb",
      "provenance": [],
      "include_colab_link": true
    }
  },
  "cells": [
    {
      "cell_type": "markdown",
      "metadata": {
        "id": "view-in-github",
        "colab_type": "text"
      },
      "source": [
        "<a href=\"https://colab.research.google.com/github/jinwoongokRe/AI_basic_study/blob/master/Week_5_assignment.ipynb\" target=\"_parent\"><img src=\"https://colab.research.google.com/assets/colab-badge.svg\" alt=\"Open In Colab\"/></a>"
      ]
    },
    {
      "cell_type": "markdown",
      "metadata": {
        "id": "6XAd8vmSchy2",
        "colab_type": "text"
      },
      "source": [
        "# Week 5 Assignment: Holdout, Build the model"
      ]
    },
    {
      "cell_type": "markdown",
      "metadata": {
        "id": "RO01fmCxchy4",
        "colab_type": "text"
      },
      "source": [
        "-----"
      ]
    },
    {
      "cell_type": "markdown",
      "metadata": {
        "id": "y5Eji3ERchy5",
        "colab_type": "text"
      },
      "source": [
        "## <font color=\"blue\"> Question 0\n",
        "    \n",
        "**문제:** mnist data를 불러오시오"
      ]
    },
    {
      "cell_type": "code",
      "metadata": {
        "id": "sji0BDewchy6",
        "colab_type": "code",
        "colab": {},
        "outputId": "759f3081-19d2-4834-cc04-4da7f2a11e97"
      },
      "source": [
        "!pip install tensorflow"
      ],
      "execution_count": null,
      "outputs": [
        {
          "output_type": "stream",
          "text": [
            "Collecting tensorflow\n",
            "  Downloading tensorflow-2.3.0-cp37-cp37m-macosx_10_11_x86_64.whl (165.1 MB)\n",
            "\u001b[K     |████████████████████████████████| 165.1 MB 65 kB/s  eta 0:00:01    |███████████████████▎            | 99.5 MB 425 kB/s eta 0:02:35     |████████████████████████████▉   | 148.7 MB 374 kB/s eta 0:00:44\n",
            "\u001b[?25hCollecting grpcio>=1.8.6\n",
            "  Downloading grpcio-1.31.0-cp37-cp37m-macosx_10_9_x86_64.whl (3.0 MB)\n",
            "\u001b[K     |████████████████████████████████| 3.0 MB 460 kB/s eta 0:00:01\n",
            "\u001b[?25hRequirement already satisfied: wrapt>=1.11.1 in /Users/jangjinwoong/opt/anaconda3/lib/python3.7/site-packages (from tensorflow) (1.11.2)\n",
            "Collecting h5py<2.11.0,>=2.10.0\n",
            "  Downloading h5py-2.10.0-cp37-cp37m-macosx_10_6_intel.whl (3.0 MB)\n",
            "\u001b[K     |████████████████████████████████| 3.0 MB 468 kB/s eta 0:00:01\n",
            "\u001b[?25hCollecting keras-preprocessing<1.2,>=1.1.1\n",
            "  Using cached Keras_Preprocessing-1.1.2-py2.py3-none-any.whl (42 kB)\n",
            "Requirement already satisfied: numpy<1.19.0,>=1.16.0 in /Users/jangjinwoong/opt/anaconda3/lib/python3.7/site-packages (from tensorflow) (1.17.2)\n",
            "Requirement already satisfied: wheel>=0.26 in /Users/jangjinwoong/opt/anaconda3/lib/python3.7/site-packages (from tensorflow) (0.33.6)\n",
            "Collecting opt-einsum>=2.3.2\n",
            "  Using cached opt_einsum-3.3.0-py3-none-any.whl (65 kB)\n",
            "Collecting tensorboard<3,>=2.3.0\n",
            "  Using cached tensorboard-2.3.0-py3-none-any.whl (6.8 MB)\n",
            "Collecting scipy==1.4.1\n",
            "  Downloading scipy-1.4.1-cp37-cp37m-macosx_10_6_intel.whl (28.4 MB)\n",
            "\u001b[K     |████████████████████████████████| 28.4 MB 258 kB/s eta 0:00:01     |██████████████████████████      | 23.0 MB 311 kB/s eta 0:00:18\n",
            "\u001b[?25hCollecting absl-py>=0.7.0\n",
            "  Using cached absl_py-0.10.0-py3-none-any.whl (127 kB)\n",
            "Collecting protobuf>=3.9.2\n",
            "  Downloading protobuf-3.13.0-cp37-cp37m-macosx_10_9_x86_64.whl (1.3 MB)\n",
            "\u001b[K     |████████████████████████████████| 1.3 MB 186 kB/s eta 0:00:01\n",
            "\u001b[?25hCollecting google-pasta>=0.1.8\n",
            "  Using cached google_pasta-0.2.0-py3-none-any.whl (57 kB)\n",
            "Requirement already satisfied: six>=1.12.0 in /Users/jangjinwoong/opt/anaconda3/lib/python3.7/site-packages (from tensorflow) (1.12.0)\n",
            "Collecting gast==0.3.3\n",
            "  Using cached gast-0.3.3-py2.py3-none-any.whl (9.7 kB)\n",
            "Collecting astunparse==1.6.3\n",
            "  Using cached astunparse-1.6.3-py2.py3-none-any.whl (12 kB)\n",
            "Collecting tensorflow-estimator<2.4.0,>=2.3.0\n",
            "  Using cached tensorflow_estimator-2.3.0-py2.py3-none-any.whl (459 kB)\n",
            "Collecting termcolor>=1.1.0\n",
            "  Using cached termcolor-1.1.0.tar.gz (3.9 kB)\n",
            "Collecting markdown>=2.6.8\n",
            "  Using cached Markdown-3.2.2-py3-none-any.whl (88 kB)\n",
            "Requirement already satisfied: werkzeug>=0.11.15 in /Users/jangjinwoong/opt/anaconda3/lib/python3.7/site-packages (from tensorboard<3,>=2.3.0->tensorflow) (0.16.0)\n",
            "Collecting google-auth-oauthlib<0.5,>=0.4.1\n",
            "  Using cached google_auth_oauthlib-0.4.1-py2.py3-none-any.whl (18 kB)\n",
            "Collecting google-auth<2,>=1.6.3\n",
            "  Using cached google_auth-1.21.0-py2.py3-none-any.whl (92 kB)\n",
            "Requirement already satisfied: setuptools>=41.0.0 in /Users/jangjinwoong/opt/anaconda3/lib/python3.7/site-packages (from tensorboard<3,>=2.3.0->tensorflow) (41.4.0)\n",
            "Collecting tensorboard-plugin-wit>=1.6.0\n",
            "  Using cached tensorboard_plugin_wit-1.7.0-py3-none-any.whl (779 kB)\n",
            "Requirement already satisfied: requests<3,>=2.21.0 in /Users/jangjinwoong/opt/anaconda3/lib/python3.7/site-packages (from tensorboard<3,>=2.3.0->tensorflow) (2.22.0)\n",
            "Requirement already satisfied: importlib-metadata; python_version < \"3.8\" in /Users/jangjinwoong/opt/anaconda3/lib/python3.7/site-packages (from markdown>=2.6.8->tensorboard<3,>=2.3.0->tensorflow) (0.23)\n",
            "Collecting requests-oauthlib>=0.7.0\n",
            "  Using cached requests_oauthlib-1.3.0-py2.py3-none-any.whl (23 kB)\n",
            "Collecting cachetools<5.0,>=2.0.0\n",
            "  Using cached cachetools-4.1.1-py3-none-any.whl (10 kB)\n",
            "Collecting pyasn1-modules>=0.2.1\n",
            "  Using cached pyasn1_modules-0.2.8-py2.py3-none-any.whl (155 kB)\n",
            "Collecting rsa<5,>=3.1.4; python_version >= \"3.5\"\n",
            "  Using cached rsa-4.6-py3-none-any.whl (47 kB)\n",
            "Requirement already satisfied: idna<2.9,>=2.5 in /Users/jangjinwoong/opt/anaconda3/lib/python3.7/site-packages (from requests<3,>=2.21.0->tensorboard<3,>=2.3.0->tensorflow) (2.8)\n",
            "Requirement already satisfied: chardet<3.1.0,>=3.0.2 in /Users/jangjinwoong/opt/anaconda3/lib/python3.7/site-packages (from requests<3,>=2.21.0->tensorboard<3,>=2.3.0->tensorflow) (3.0.4)\n",
            "Requirement already satisfied: urllib3!=1.25.0,!=1.25.1,<1.26,>=1.21.1 in /Users/jangjinwoong/opt/anaconda3/lib/python3.7/site-packages (from requests<3,>=2.21.0->tensorboard<3,>=2.3.0->tensorflow) (1.24.2)\n",
            "Requirement already satisfied: certifi>=2017.4.17 in /Users/jangjinwoong/opt/anaconda3/lib/python3.7/site-packages (from requests<3,>=2.21.0->tensorboard<3,>=2.3.0->tensorflow) (2019.9.11)\n",
            "Requirement already satisfied: zipp>=0.5 in /Users/jangjinwoong/opt/anaconda3/lib/python3.7/site-packages (from importlib-metadata; python_version < \"3.8\"->markdown>=2.6.8->tensorboard<3,>=2.3.0->tensorflow) (0.6.0)\n",
            "Collecting oauthlib>=3.0.0\n",
            "  Using cached oauthlib-3.1.0-py2.py3-none-any.whl (147 kB)\n",
            "Collecting pyasn1<0.5.0,>=0.4.6\n",
            "  Using cached pyasn1-0.4.8-py2.py3-none-any.whl (77 kB)\n",
            "Requirement already satisfied: more-itertools in /Users/jangjinwoong/opt/anaconda3/lib/python3.7/site-packages (from zipp>=0.5->importlib-metadata; python_version < \"3.8\"->markdown>=2.6.8->tensorboard<3,>=2.3.0->tensorflow) (7.2.0)\n",
            "Building wheels for collected packages: termcolor\n",
            "  Building wheel for termcolor (setup.py) ... \u001b[?25ldone\n",
            "\u001b[?25h  Created wheel for termcolor: filename=termcolor-1.1.0-py3-none-any.whl size=4830 sha256=7a0ac97ebb78b91cac35f91964458d68cf5e0fff7e84475272fac4b78183cd8c\n",
            "  Stored in directory: /Users/jangjinwoong/Library/Caches/pip/wheels/3f/e3/ec/8a8336ff196023622fbcb36de0c5a5c218cbb24111d1d4c7f2\n",
            "Successfully built termcolor\n",
            "Installing collected packages: grpcio, h5py, keras-preprocessing, opt-einsum, absl-py, markdown, protobuf, oauthlib, requests-oauthlib, cachetools, pyasn1, pyasn1-modules, rsa, google-auth, google-auth-oauthlib, tensorboard-plugin-wit, tensorboard, scipy, google-pasta, gast, astunparse, tensorflow-estimator, termcolor, tensorflow\n",
            "  Attempting uninstall: h5py\n",
            "    Found existing installation: h5py 2.9.0\n",
            "    Uninstalling h5py-2.9.0:\n",
            "      Successfully uninstalled h5py-2.9.0\n",
            "  Attempting uninstall: scipy\n",
            "    Found existing installation: scipy 1.3.1\n",
            "    Uninstalling scipy-1.3.1:\n",
            "      Successfully uninstalled scipy-1.3.1\n",
            "Successfully installed absl-py-0.10.0 astunparse-1.6.3 cachetools-4.1.1 gast-0.3.3 google-auth-1.21.0 google-auth-oauthlib-0.4.1 google-pasta-0.2.0 grpcio-1.31.0 h5py-2.10.0 keras-preprocessing-1.1.2 markdown-3.2.2 oauthlib-3.1.0 opt-einsum-3.3.0 protobuf-3.13.0 pyasn1-0.4.8 pyasn1-modules-0.2.8 requests-oauthlib-1.3.0 rsa-4.6 scipy-1.4.1 tensorboard-2.3.0 tensorboard-plugin-wit-1.7.0 tensorflow-2.3.0 tensorflow-estimator-2.3.0 termcolor-1.1.0\n"
          ],
          "name": "stdout"
        }
      ]
    },
    {
      "cell_type": "code",
      "metadata": {
        "id": "v05wdyG2chzB",
        "colab_type": "code",
        "colab": {}
      },
      "source": [
        "from tensorflow.keras.datasets import mnist\n",
        "import matplotlib.pyplot as plt\n",
        "\n",
        "%matplotlib inline"
      ],
      "execution_count": null,
      "outputs": []
    },
    {
      "cell_type": "code",
      "metadata": {
        "id": "cwZydIp4chzG",
        "colab_type": "code",
        "colab": {
          "base_uri": "https://localhost:8080/",
          "height": 51
        },
        "outputId": "0824a529-d34e-4e11-8182-1ed3071a4665"
      },
      "source": [
        "### START CODE HERE ### (≈ 1 line of code)\n",
        "(X, y), (X_test, y_test) = mnist.load_data()\n",
        "### END CODE HERE ###"
      ],
      "execution_count": null,
      "outputs": [
        {
          "output_type": "stream",
          "text": [
            "Downloading data from https://storage.googleapis.com/tensorflow/tf-keras-datasets/mnist.npz\n",
            "11493376/11490434 [==============================] - 0s 0us/step\n"
          ],
          "name": "stdout"
        }
      ]
    },
    {
      "cell_type": "code",
      "metadata": {
        "id": "9Khf8EUrchzJ",
        "colab_type": "code",
        "colab": {
          "base_uri": "https://localhost:8080/",
          "height": 207
        },
        "outputId": "97f5db5a-e3ab-4baa-de54-7249ed3b6307"
      },
      "source": [
        "plt.figure(figsize=(6,3))\n",
        "for i in range(8):\n",
        "    plt.subplot(2,4,i+1)\n",
        "    plt.xticks([])\n",
        "    plt.yticks([])\n",
        "    plt.grid(False)\n",
        "    plt.imshow(X[i], cmap=plt.cm.binary)\n",
        "    plt.xlabel(str(y[i]))\n",
        "plt.show()"
      ],
      "execution_count": null,
      "outputs": [
        {
          "output_type": "display_data",
          "data": {
            "image/png": "[encoded data removed]",
            "text/plain": [
              "<Figure size 432x216 with 8 Axes>"
            ]
          },
          "metadata": {
            "tags": []
          }
        }
      ]
    },
    {
      "cell_type": "markdown",
      "metadata": {
        "id": "ct2WZsP0chzN",
        "colab_type": "text"
      },
      "source": [
        "5041\n",
        "\n",
        "9213\n",
        "\n",
        "이 나오는지 확인하기"
      ]
    },
    {
      "cell_type": "markdown",
      "metadata": {
        "id": "vfzb77PJchzN",
        "colab_type": "text"
      },
      "source": [
        "-------"
      ]
    },
    {
      "cell_type": "markdown",
      "metadata": {
        "id": "fKa0cYtgchzO",
        "colab_type": "text"
      },
      "source": [
        "## <font color=\"blue\"> Question 1\n",
        "    \n",
        "**문제:** slicing 기법을 사용하여 X_test와 y_test를 7:3으로 split 하시오\n",
        "    \n",
        "(X_half1은 앞에서부터 7000개, X_half2는 뒤에서부터 3000개로 split한다. y도 마찬가지로 split한다.)"
      ]
    },
    {
      "cell_type": "code",
      "metadata": {
        "id": "aaVvDpHFchzO",
        "colab_type": "code",
        "colab": {
          "base_uri": "https://localhost:8080/",
          "height": 34
        },
        "outputId": "9d3859dd-223e-4f48-c992-2ff27b353d21"
      },
      "source": [
        "X_test.shape\n",
        "y_test.shape"
      ],
      "execution_count": null,
      "outputs": [
        {
          "output_type": "execute_result",
          "data": {
            "text/plain": [
              "(10000,)"
            ]
          },
          "metadata": {
            "tags": []
          },
          "execution_count": 10
        }
      ]
    },
    {
      "cell_type": "code",
      "metadata": {
        "id": "aHm8b61HchzR",
        "colab_type": "code",
        "colab": {}
      },
      "source": [
        "### START CODE HERE ### (≈ 4 line of code)\n",
        "X_half1 = X_test[:7000]\n",
        "X_half2 = X_test[7000:]\n",
        "y_half1 = y_test[:7000]\n",
        "y_half2 = y_test[7000:]\n",
        "### END CODE HERE ###"
      ],
      "execution_count": null,
      "outputs": []
    },
    {
      "cell_type": "code",
      "metadata": {
        "id": "802kuDc1chzU",
        "colab_type": "code",
        "colab": {}
      },
      "source": [
        "assert(X_half1.shape == (7000,28,28))\n",
        "assert(X_half2.shape == (3000,28,28))\n",
        "assert((y_half1[0] + y_half2[0]) == 8)"
      ],
      "execution_count": null,
      "outputs": []
    },
    {
      "cell_type": "markdown",
      "metadata": {
        "id": "KYA2Gmm0chzX",
        "colab_type": "text"
      },
      "source": [
        "error가 나지 않는다면 정답입니다."
      ]
    },
    {
      "cell_type": "markdown",
      "metadata": {
        "id": "vB_Mp_OachzX",
        "colab_type": "text"
      },
      "source": [
        "-------"
      ]
    },
    {
      "cell_type": "markdown",
      "metadata": {
        "id": "2X7cBdYNchzY",
        "colab_type": "text"
      },
      "source": [
        "## <font color=\"blue\"> Question 2\n",
        "\n",
        "**소문제1:** train_test_split 함수를 import 해오시오.    \n",
        "    \n",
        "**소문제2:** train_test_split 기법을 사용하여 X, y에서 validation set을 15000개 확보하시오.\n",
        "    \n",
        "(RandomState는 3으로 설정하고 shuffle은 진행하지 않는다.)\n",
        "    \n",
        "(argument는 train_size 말고 test_size를 이용한다.)"
      ]
    },
    {
      "cell_type": "code",
      "metadata": {
        "id": "P_ThX4c6chzY",
        "colab_type": "code",
        "colab": {}
      },
      "source": [
        "# 소문제 1\n",
        "\n",
        "### START CODE HERE ### (≈ 1 line of code)\n",
        "from sklearn.model_selection import train_test_split\n",
        "### END CODE HERE ###"
      ],
      "execution_count": null,
      "outputs": []
    },
    {
      "cell_type": "code",
      "metadata": {
        "id": "erQFsLf4chzb",
        "colab_type": "code",
        "colab": {}
      },
      "source": [
        "### START CODE HERE ### (≈ 1 line of code)\n",
        "X_train, X_val, y_train, y_val = train_test_split(X, y, test_size=0.25, random_state=3, shuffle=False)\n",
        "### END CODE HERE ###"
      ],
      "execution_count": null,
      "outputs": []
    },
    {
      "cell_type": "code",
      "metadata": {
        "id": "FmYChTxSchzc",
        "colab_type": "code",
        "colab": {
          "base_uri": "https://localhost:8080/",
          "height": 282
        },
        "outputId": "a52c11d5-6bd1-48ea-afea-3a86ac0a3f71"
      },
      "source": [
        "assert(X_val.shape == (15000, 28, 28))\n",
        "plt.imshow(X_train[0], cmap=plt.cm.binary)"
      ],
      "execution_count": null,
      "outputs": [
        {
          "output_type": "execute_result",
          "data": {
            "text/plain": [
              "<matplotlib.image.AxesImage at 0x7fc41507aba8>"
            ]
          },
          "metadata": {
            "tags": []
          },
          "execution_count": 17
        },
        {
          "output_type": "display_data",
          "data": {
            "image/png": "[encoded data removed]",
            "text/plain": [
              "<Figure size 432x288 with 1 Axes>"
            ]
          },
          "metadata": {
            "tags": [],
            "needs_background": "light"
          }
        }
      ]
    },
    {
      "cell_type": "markdown",
      "metadata": {
        "id": "3Cx_Qhefchze",
        "colab_type": "text"
      },
      "source": [
        "그림이 5가 그려지면 성공"
      ]
    },
    {
      "cell_type": "markdown",
      "metadata": {
        "id": "Y5rxOMrrchzf",
        "colab_type": "text"
      },
      "source": [
        "---------"
      ]
    },
    {
      "cell_type": "markdown",
      "metadata": {
        "id": "QUyLe4_rchzf",
        "colab_type": "text"
      },
      "source": [
        "## <font color=\"blue\"> Question 3\n",
        "    \n",
        "**문제:** slack에 올린 모델을 직접 만들어 보시오.\n",
        "    \n",
        "**소문제1:** Sequential를 import 해오시오.\n",
        "    \n",
        "**소문제2:** Dense를 import 해오시오.\n",
        "    \n",
        "**소문제3:** add 메소드를 이용해서 모델을 만드시오."
      ]
    },
    {
      "cell_type": "code",
      "metadata": {
        "id": "5zQA1CDochzg",
        "colab_type": "code",
        "colab": {}
      },
      "source": [
        "# 소문제 1\n",
        "\n",
        "### START CODE HERE ### (≈ 1 line of code)\n",
        "from tensorflow.keras.models import Sequential\n",
        "### END CODE HERE ###"
      ],
      "execution_count": null,
      "outputs": []
    },
    {
      "cell_type": "code",
      "metadata": {
        "id": "lzTxTNUZchzi",
        "colab_type": "code",
        "colab": {}
      },
      "source": [
        "# 소문제 2\n",
        "\n",
        "### START CODE HERE ### (≈ 1 line of code)\n",
        "from tensorflow.keras.layers import Dense\n",
        "### END CODE HERE ###"
      ],
      "execution_count": null,
      "outputs": []
    },
    {
      "cell_type": "code",
      "metadata": {
        "id": "xz5_RziIchzj",
        "colab_type": "code",
        "colab": {}
      },
      "source": [
        "# 소문제 3 (자유롭게 만들어보기)\n",
        "\n",
        "model = Sequential()\n",
        "### START CODE HERE ### \n",
        "model.add(Dense(128, activation= 'relu', input_shape = (784,)))\n",
        "model.add(Dense(64, activation='relu'))\n",
        "model.add(Dense(10, activation='relu'))\n",
        "model.add(Dense(1, activation='sigmoid'))\n",
        "### END CODE HERE ###"
      ],
      "execution_count": null,
      "outputs": []
    },
    {
      "cell_type": "code",
      "metadata": {
        "id": "Fjr8_wCZchzm",
        "colab_type": "code",
        "colab": {
          "base_uri": "https://localhost:8080/",
          "height": 289
        },
        "outputId": "e3d3b8d7-6cf9-44d4-b33c-b844a88419cd"
      },
      "source": [
        "model.summary()"
      ],
      "execution_count": null,
      "outputs": [
        {
          "output_type": "stream",
          "text": [
            "Model: \"sequential\"\n",
            "_________________________________________________________________\n",
            "Layer (type)                 Output Shape              Param #   \n",
            "=================================================================\n",
            "dense (Dense)                (None, 128)               100480    \n",
            "_________________________________________________________________\n",
            "dense_1 (Dense)              (None, 64)                8256      \n",
            "_________________________________________________________________\n",
            "dense_2 (Dense)              (None, 10)                650       \n",
            "_________________________________________________________________\n",
            "dense_3 (Dense)              (None, 1)                 11        \n",
            "=================================================================\n",
            "Total params: 109,397\n",
            "Trainable params: 109,397\n",
            "Non-trainable params: 0\n",
            "_________________________________________________________________\n"
          ],
          "name": "stdout"
        }
      ]
    },
    {
      "cell_type": "code",
      "metadata": {
        "id": "uuJMyEeEy40e",
        "colab_type": "code",
        "colab": {}
      },
      "source": [
        "from tensorflow.keras.models import Sequential\n",
        "from tensorflow.keras.layers import Dense"
      ],
      "execution_count": 22,
      "outputs": []
    },
    {
      "cell_type": "code",
      "metadata": {
        "id": "86QgOiCEzQwV",
        "colab_type": "code",
        "colab": {}
      },
      "source": [
        "model = Sequential()\n",
        "model.add(Dense(4, activation='sigmoid', input_shape =(3,)))\n",
        "model.add(Dense(1, activation='sigmoid'))"
      ],
      "execution_count": 23,
      "outputs": []
    },
    {
      "cell_type": "code",
      "metadata": {
        "id": "at2gVZ8tzlJM",
        "colab_type": "code",
        "colab": {
          "base_uri": "https://localhost:8080/",
          "height": 221
        },
        "outputId": "45065707-8cb0-4280-a7ce-c09e084f4fa6"
      },
      "source": [
        "model.summary()"
      ],
      "execution_count": 24,
      "outputs": [
        {
          "output_type": "stream",
          "text": [
            "Model: \"sequential_1\"\n",
            "_________________________________________________________________\n",
            "Layer (type)                 Output Shape              Param #   \n",
            "=================================================================\n",
            "dense_4 (Dense)              (None, 4)                 16        \n",
            "_________________________________________________________________\n",
            "dense_5 (Dense)              (None, 1)                 5         \n",
            "=================================================================\n",
            "Total params: 21\n",
            "Trainable params: 21\n",
            "Non-trainable params: 0\n",
            "_________________________________________________________________\n"
          ],
          "name": "stdout"
        }
      ]
    },
    {
      "cell_type": "code",
      "metadata": {
        "id": "ajr-6vdMzmm4",
        "colab_type": "code",
        "colab": {}
      },
      "source": [
        "model.compile(optimizer='adam', loss='binary_crossentropy', metrics=['accuracy'])"
      ],
      "execution_count": 25,
      "outputs": []
    },
    {
      "cell_type": "code",
      "metadata": {
        "id": "1whGi3eb0jfk",
        "colab_type": "code",
        "colab": {}
      },
      "source": [
        ""
      ],
      "execution_count": null,
      "outputs": []
    }
  ]
}