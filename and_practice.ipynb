{
  "nbformat": 4,
  "nbformat_minor": 0,
  "metadata": {
    "colab": {
      "name": "and_practice.ipynb",
      "provenance": [],
      "authorship_tag": "ABX9TyMM72S6+B77+C5AmIIN9cC5",
      "include_colab_link": true
    },
    "kernelspec": {
      "name": "python3",
      "display_name": "Python 3"
    }
  },
  "cells": [
    {
      "cell_type": "markdown",
      "metadata": {
        "id": "view-in-github",
        "colab_type": "text"
      },
      "source": [
        "<a href=\"https://colab.research.google.com/github/jinwoongokRe/AI_basic_study/blob/master/and_practice.ipynb\" target=\"_parent\"><img src=\"https://colab.research.google.com/assets/colab-badge.svg\" alt=\"Open In Colab\"/></a>"
      ]
    },
    {
      "cell_type": "code",
      "metadata": {
        "id": "5KKe7mOMCmL1",
        "outputId": "129ec0c6-9cad-498c-da64-436096656fff",
        "colab": {
          "base_uri": "https://localhost:8080/"
        }
      },
      "source": [
        "#라이브러리 읽어들이기(*1)\n",
        "from sklearn.svm import LinearSVC\n",
        "from sklearn.metrics import accuracy_score\n",
        "\n",
        "#학습 전용 데이터와 결과 준비하기 (*2)\n",
        "\n",
        "# X, Y\n",
        "learn_data= [[0,0,], [1,0], [0,1], [1,1]]\n",
        "# X and Y\n",
        "learn_label = [0, 0 , 0 , 1]\n",
        "\n",
        "#알고리즘 지정하기 (LinearSVC) (*3)\n",
        "clf = LinearSVC()\n",
        "\n",
        "#학습 전용 데이터와 결과 학습하기 (*4)\n",
        "clf.fit(learn_data, learn_label)\n",
        "\n",
        "#테스트 데이터로 예측하기 (*5)\n",
        "test_data = [[0,0], [0,1,], [1,0], [1,1]]\n",
        "test_label = clf.predict(test_data)\n",
        "\n",
        "#예측 결과 평가하기 (*6)\n",
        "print(test_data, \"의 예측결과 : \", test_label)\n",
        "print(\"정답률 = \", accuracy_score([0,0,0,1], test_label))"
      ],
      "execution_count": 6,
      "outputs": [
        {
          "output_type": "stream",
          "text": [
            "[[0, 0], [0, 1], [1, 0], [1, 1]] 의 예측결과 :  [0 0 0 1]\n",
            "정답률 =  1.0\n"
          ],
          "name": "stdout"
        }
      ]
    },
    {
      "cell_type": "code",
      "metadata": {
        "id": "LQIl15vvFg98",
        "outputId": "4f31637d-b0ad-481f-febb-53f012a60f2f",
        "colab": {
          "base_uri": "https://localhost:8080/"
        }
      },
      "source": [
        "#라이브러리 읽어들이기(*1)\n",
        "from sklearn.neighbors import KNeighborsClassifier\n",
        "from sklearn.metrics import accuracy_score\n",
        "\n",
        "#학습 전용 데이터와 결과 준비하기 (*2)\n",
        "\n",
        "# X, Y\n",
        "learn_data= [[0,0,], [1,0], [0,1], [1,1]]\n",
        "# X and Y\n",
        "learn_label = [0, 1 , 1 , 0] #xor 전용 으로 변경\n",
        "\n",
        "#알고리즘 지정하기 (KNeighborsClassifier) (*3)\n",
        "clf = KNeighborsClassifier(n_neighbors=1)\n",
        "\n",
        "#학습 전용 데이터와 결과 학습하기 (*4)\n",
        "clf.fit(learn_data, learn_label)\n",
        "\n",
        "#테스트 데이터로 예측하기 (*5)\n",
        "test_data = [[0,0], [0,1,], [1,0], [1,1]]\n",
        "test_label = clf.predict(test_data)\n",
        "\n",
        "#예측 결과 평가하기 (*6)\n",
        "print(test_data, \"의 예측결과 : \", test_label)\n",
        "print(\"정답률 = \", accuracy_score([0,1,1,0], test_label))"
      ],
      "execution_count": 12,
      "outputs": [
        {
          "output_type": "stream",
          "text": [
            "[[0, 0], [0, 1], [1, 0], [1, 1]] 의 예측결과 :  [0 1 1 0]\n",
            "정답률 =  1.0\n"
          ],
          "name": "stdout"
        }
      ]
    },
    {
      "cell_type": "code",
      "metadata": {
        "id": "D9k_anfxGSaG"
      },
      "source": [
        ""
      ],
      "execution_count": 12,
      "outputs": []
    }
  ]
}