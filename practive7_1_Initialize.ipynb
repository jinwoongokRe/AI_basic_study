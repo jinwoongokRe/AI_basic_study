{
  "nbformat": 4,
  "nbformat_minor": 0,
  "metadata": {
    "colab": {
      "name": "practive7-1-Initialize.ipynb",
      "provenance": [],
      "authorship_tag": "ABX9TyP6jODOS0r5hpYRY8e+6BRc",
      "include_colab_link": true
    },
    "kernelspec": {
      "name": "python3",
      "display_name": "Python 3"
    }
  },
  "cells": [
    {
      "cell_type": "markdown",
      "metadata": {
        "id": "view-in-github",
        "colab_type": "text"
      },
      "source": [
        "<a href=\"https://colab.research.google.com/github/jinwoongokRe/AI_basic_study/blob/master/practive7_1_Initialize.ipynb\" target=\"_parent\"><img src=\"https://colab.research.google.com/assets/colab-badge.svg\" alt=\"Open In Colab\"/></a>"
      ]
    },
    {
      "cell_type": "code",
      "metadata": {
        "id": "-amrVQG_y871",
        "colab_type": "code",
        "colab": {
          "base_uri": "https://localhost:8080/",
          "height": 153
        },
        "outputId": "92c8b467-c8d3-46a5-c878-e7125a29dddd"
      },
      "source": [
        "from tensorflow.keras.datasets import fashion_mnist\n",
        "(x,y), (x_test, y_test) = fashion_mnist.load_data()"
      ],
      "execution_count": 2,
      "outputs": [
        {
          "output_type": "stream",
          "text": [
            "Downloading data from https://storage.googleapis.com/tensorflow/tf-keras-datasets/train-labels-idx1-ubyte.gz\n",
            "32768/29515 [=================================] - 0s 0us/step\n",
            "Downloading data from https://storage.googleapis.com/tensorflow/tf-keras-datasets/train-images-idx3-ubyte.gz\n",
            "26427392/26421880 [==============================] - 0s 0us/step\n",
            "Downloading data from https://storage.googleapis.com/tensorflow/tf-keras-datasets/t10k-labels-idx1-ubyte.gz\n",
            "8192/5148 [===============================================] - 0s 0us/step\n",
            "Downloading data from https://storage.googleapis.com/tensorflow/tf-keras-datasets/t10k-images-idx3-ubyte.gz\n",
            "4423680/4422102 [==============================] - 0s 0us/step\n"
          ],
          "name": "stdout"
        }
      ]
    },
    {
      "cell_type": "code",
      "metadata": {
        "id": "HuVcEm2Im_OE",
        "colab_type": "code",
        "colab": {}
      },
      "source": [
        "from tensorflow.keras.utils import to_categorical\n",
        "\n",
        "x = x.astype('float32')\n",
        "x_test = x_test.astype('float')\n",
        "\n",
        "x= x.reshape(60000, -1)\n",
        "x_test = x_test.reshape(10000, -1)\n",
        "\n",
        "x= x/255.\n",
        "x_test = x / 255.\n",
        "\n",
        "y = to_categorical(y,10)\n",
        "y_test = to_categorical(y_test, 10)"
      ],
      "execution_count": 5,
      "outputs": []
    },
    {
      "cell_type": "code",
      "metadata": {
        "id": "YRpv307lnXb7",
        "colab_type": "code",
        "colab": {}
      },
      "source": [
        "from tensorflow.keras.models import Sequential\n",
        "from tensorflow.keras.layers import Dense"
      ],
      "execution_count": 6,
      "outputs": []
    },
    {
      "cell_type": "code",
      "metadata": {
        "id": "k84aPz43o6Wd",
        "colab_type": "code",
        "colab": {}
      },
      "source": [
        "#zero initialization"
      ],
      "execution_count": 7,
      "outputs": []
    },
    {
      "cell_type": "code",
      "metadata": {
        "id": "_0bV9GzQo9Mn",
        "colab_type": "code",
        "colab": {}
      },
      "source": [
        "def create_zero_initialize_model():\n",
        "  model = Sequential()\n",
        "  model.add(Dense(64, input_shape=(784,), activation='relu', kernel_initializer='zeros'))\n",
        "  model.add(Dense(128, activation= 'relu', kernel_initializer='zeros'))\n",
        "  model.add(Dense(256, activation='relu', kernel_initializer='zeros'))\n",
        "  model.add(Dense(10, activation='softmax', kernel_initializer='zeros'))\n",
        "\n",
        "  model.compile(optimizer='adam', loss='categorical_crossentropy', metrics=['accuracy'])\n",
        "  return model"
      ],
      "execution_count": 8,
      "outputs": []
    },
    {
      "cell_type": "code",
      "metadata": {
        "id": "LMKPf9dNdL_Y",
        "colab_type": "code",
        "colab": {}
      },
      "source": [
        "model_zero = create_zero_initialize_model()"
      ],
      "execution_count": 9,
      "outputs": []
    },
    {
      "cell_type": "code",
      "metadata": {
        "id": "N35UqvVrdfLd",
        "colab_type": "code",
        "colab": {
          "base_uri": "https://localhost:8080/",
          "height": 204
        },
        "outputId": "8bae0207-4aac-4f26-94c3-f47fb42b023e"
      },
      "source": [
        "model_zero.fit(x,y,epochs=5, validation_split=1/6, verbose=1, batch_size= 50000)"
      ],
      "execution_count": 12,
      "outputs": [
        {
          "output_type": "stream",
          "text": [
            "Epoch 1/5\n",
            "1/1 [==============================] - 0s 237ms/step - loss: 2.3026 - accuracy: 0.0995 - val_loss: 2.3026 - val_accuracy: 0.0955\n",
            "Epoch 2/5\n",
            "1/1 [==============================] - 0s 64ms/step - loss: 2.3026 - accuracy: 0.1009 - val_loss: 2.3026 - val_accuracy: 0.0955\n",
            "Epoch 3/5\n",
            "1/1 [==============================] - 0s 66ms/step - loss: 2.3026 - accuracy: 0.1009 - val_loss: 2.3027 - val_accuracy: 0.0955\n",
            "Epoch 4/5\n",
            "1/1 [==============================] - 0s 65ms/step - loss: 2.3026 - accuracy: 0.1009 - val_loss: 2.3027 - val_accuracy: 0.0955\n",
            "Epoch 5/5\n",
            "1/1 [==============================] - 0s 67ms/step - loss: 2.3026 - accuracy: 0.1009 - val_loss: 2.3027 - val_accuracy: 0.0955\n"
          ],
          "name": "stdout"
        },
        {
          "output_type": "execute_result",
          "data": {
            "text/plain": [
              "<tensorflow.python.keras.callbacks.History at 0x7f2c6c0d0d30>"
            ]
          },
          "metadata": {
            "tags": []
          },
          "execution_count": 12
        }
      ]
    },
    {
      "cell_type": "code",
      "metadata": {
        "id": "B8uroU4PgTRQ",
        "colab_type": "code",
        "colab": {}
      },
      "source": [
        "def create_glorot_initialize_model():\n",
        "  model = Sequential()\n",
        "  model.add(Dense(64, input_shape=(784,), activation='relu'))\n",
        "  model.add(Dense(128, activation= 'relu'))\n",
        "  model.add(Dense(256, activation= 'relu'))\n",
        "  model.add(Dense(10, activation='softmax'))\n",
        "\n",
        "  model.compile(optimizer='adam', loss='categorical_crossentropy', metrics=['accuracy'])\n",
        "  return model"
      ],
      "execution_count": 14,
      "outputs": []
    },
    {
      "cell_type": "code",
      "metadata": {
        "id": "DJq8V7IEhjo_",
        "colab_type": "code",
        "colab": {
          "base_uri": "https://localhost:8080/",
          "height": 289
        },
        "outputId": "3ceb4bd6-02a6-429d-a2cf-2dc79a078846"
      },
      "source": [
        "model_glorot = create_glorot_initialize_model()\n",
        "model_glorot.summary()"
      ],
      "execution_count": 15,
      "outputs": [
        {
          "output_type": "stream",
          "text": [
            "Model: \"sequential_1\"\n",
            "_________________________________________________________________\n",
            "Layer (type)                 Output Shape              Param #   \n",
            "=================================================================\n",
            "dense_4 (Dense)              (None, 64)                50240     \n",
            "_________________________________________________________________\n",
            "dense_5 (Dense)              (None, 128)               8320      \n",
            "_________________________________________________________________\n",
            "dense_6 (Dense)              (None, 256)               33024     \n",
            "_________________________________________________________________\n",
            "dense_7 (Dense)              (None, 10)                2570      \n",
            "=================================================================\n",
            "Total params: 94,154\n",
            "Trainable params: 94,154\n",
            "Non-trainable params: 0\n",
            "_________________________________________________________________\n"
          ],
          "name": "stdout"
        }
      ]
    },
    {
      "cell_type": "code",
      "metadata": {
        "id": "eAY7dlX1iYQ4",
        "colab_type": "code",
        "colab": {
          "base_uri": "https://localhost:8080/",
          "height": 204
        },
        "outputId": "f0cc6eec-1902-45a9-a91e-05a9b9391bab"
      },
      "source": [
        "model_glorot.fit(x,y,epochs=5,validation_split=1/6, verbose=1, batch_size= 50000)"
      ],
      "execution_count": 16,
      "outputs": [
        {
          "output_type": "stream",
          "text": [
            "Epoch 1/5\n",
            "1/1 [==============================] - 0s 192ms/step - loss: 2.3025 - accuracy: 0.1024 - val_loss: 2.3017 - val_accuracy: 0.1268\n",
            "Epoch 2/5\n",
            "1/1 [==============================] - 0s 64ms/step - loss: 2.3016 - accuracy: 0.1344 - val_loss: 2.3009 - val_accuracy: 0.1462\n",
            "Epoch 3/5\n",
            "1/1 [==============================] - 0s 65ms/step - loss: 2.3009 - accuracy: 0.1546 - val_loss: 2.3001 - val_accuracy: 0.1560\n",
            "Epoch 4/5\n",
            "1/1 [==============================] - 0s 63ms/step - loss: 2.3000 - accuracy: 0.1629 - val_loss: 2.2992 - val_accuracy: 0.2104\n",
            "Epoch 5/5\n",
            "1/1 [==============================] - 0s 63ms/step - loss: 2.2991 - accuracy: 0.2219 - val_loss: 2.2981 - val_accuracy: 0.2367\n"
          ],
          "name": "stdout"
        },
        {
          "output_type": "execute_result",
          "data": {
            "text/plain": [
              "<tensorflow.python.keras.callbacks.History at 0x7f2c69160978>"
            ]
          },
          "metadata": {
            "tags": []
          },
          "execution_count": 16
        }
      ]
    },
    {
      "cell_type": "code",
      "metadata": {
        "id": "uAopF_TwijRU",
        "colab_type": "code",
        "colab": {}
      },
      "source": [
        ""
      ],
      "execution_count": null,
      "outputs": []
    }
  ]
}