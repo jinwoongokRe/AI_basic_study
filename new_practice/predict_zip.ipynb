{
  "nbformat": 4,
  "nbformat_minor": 0,
  "metadata": {
    "colab": {
      "name": "predict_zip.ipynb",
      "provenance": [],
      "collapsed_sections": [],
      "mount_file_id": "16lAn60VOuB2geHICNQZdtOMOgL-un2kN",
      "authorship_tag": "ABX9TyNHmMjuiEbCPTIP3ineT9Zs",
      "include_colab_link": true
    },
    "kernelspec": {
      "name": "python3",
      "display_name": "Python 3"
    }
  },
  "cells": [
    {
      "cell_type": "markdown",
      "metadata": {
        "id": "view-in-github",
        "colab_type": "text"
      },
      "source": [
        "<a href=\"https://colab.research.google.com/github/jinwoongokRe/AI_basic_study/blob/master/new_practice/predict_zip.ipynb\" target=\"_parent\"><img src=\"https://colab.research.google.com/assets/colab-badge.svg\" alt=\"Open In Colab\"/></a>"
      ]
    },
    {
      "cell_type": "code",
      "metadata": {
        "id": "6JKqwytKnwSw"
      },
      "source": [
        ""
      ],
      "execution_count": 14,
      "outputs": []
    },
    {
      "cell_type": "code",
      "metadata": {
        "colab": {
          "base_uri": "https://localhost:8080/"
        },
        "id": "wcXBsZMgAT5j",
        "outputId": "0e3180d6-42a2-4621-9cd8-dd11d04bd429"
      },
      "source": [
        "cd /content/drive/MyDrive/20210101_엽서우편번호"
      ],
      "execution_count": 15,
      "outputs": [
        {
          "output_type": "stream",
          "text": [
            "/content/drive/MyDrive/20210101_엽서우편번호\n"
          ],
          "name": "stdout"
        }
      ]
    },
    {
      "cell_type": "code",
      "metadata": {
        "colab": {
          "base_uri": "https://localhost:8080/",
          "height": 269
        },
        "id": "AKD_6YKl_za2",
        "outputId": "78bd2fb2-8614-43d2-8efd-762986e7d238"
      },
      "source": [
        "import cv2\n",
        "import matplotlib.pyplot as plt\n",
        "\n",
        "#엽서 이미지에서 우편 번호를 추출하는 함수\n",
        "def detect_zipno(fname):\n",
        "  img = cv2.imread(fname)\n",
        "  #이미지 크기 구하기\n",
        "  h, w = img.shape[:2]\n",
        "  #이미지의 오른쪽 윗부분만 추출하기(*1)\n",
        "  img = img[0:h//2, w//3:]\n",
        "\n",
        "  #이미지 이진화하기(*2)\n",
        "  gray = cv2.cvtColor(img, cv2.COLOR_BGR2GRAY)\n",
        "  gray = cv2.GaussianBlur(gray, (3,3), 0)\n",
        "  im2 = cv2.threshold(gray, 140, 255, cv2.THRESH_BINARY_INV)[1]\n",
        "\n",
        "  #윤곽 검출하기(*3)\n",
        "  cnts = cv2.findContours(im2, \n",
        "                          cv2.RETR_LIST,\n",
        "                          cv2.CHAIN_APPROX_SIMPLE)[0]\n",
        "  \n",
        "  #추출한 이미지에서 윤곽 추출하기 (*4)\n",
        "  result = []\n",
        "  for pt in cnts:\n",
        "    x, y, w, h = cv2.boundingRect(pt)\n",
        "    # 너무 크거나 너무 작은 부분 제거하기 (*5)\n",
        "    if not(50 < w < 70) : continue\n",
        "    result.append([x,y,w,h])\n",
        "    #추출한 윤곽을 위치에 따라 정렬하기(*6)\n",
        "    result = sorted(result, key=lambda x : x[0])\n",
        "    #추출한 윤곽이 너무 가까운 것들 제거하기 (*7)\n",
        "    result2=[]\n",
        "    lastx = -100\n",
        "    for x, y, w, h in result:\n",
        "      if(x - lastx) < 10 : continue\n",
        "      result2.append([x, y, w, h])\n",
        "      lastx = x\n",
        "    \n",
        "    #초록색 테두리 출력하기 (*8)\n",
        "    for x, y, w, h in result2:\n",
        "      cv2.rectangle(img, (x,y), (x+w, y+h), (0, 255,0), 3)\n",
        "    \n",
        "    return result2, img\n",
        "\n",
        "\n",
        "if __name__ == '__main__':\n",
        "  #이미지를 지정해서 우편번호 추출하기\n",
        "  cnts, img = detect_zipno(\"/content/drive/MyDrive/20210101_엽서우편번호/hagaki1.png\")\n",
        "\n",
        "  #결과 출력하기\n",
        "  plt.imshow(cv2.cvtColor(img, cv2.COLOR_BGR2RGB))\n",
        "  plt.savefig(\"detect-zip.png\", dpi=200)\n",
        "  plt.show()\n",
        "\n"
      ],
      "execution_count": 16,
      "outputs": [
        {
          "output_type": "display_data",
          "data": {
            "image/png": "[encoded data removed]",
            "text/plain": [
              "<Figure size 432x288 with 1 Axes>"
            ]
          },
          "metadata": {
            "tags": [],
            "needs_background": "light"
          }
        }
      ]
    },
    {
      "cell_type": "code",
      "metadata": {
        "id": "_jcQ79PgAM5S"
      },
      "source": [
        "import matplotlib.pyplot as plt\n",
        "from sklearn.externals import joblib"
      ],
      "execution_count": 17,
      "outputs": []
    },
    {
      "cell_type": "code",
      "metadata": {
        "id": "K78U_dlfBEeC"
      },
      "source": [
        "#학습한 데이터 읽어들이기\n",
        "clf = joblib.load(\"/content/drive/MyDrive/20201231_mnist/digits.pkl\")"
      ],
      "execution_count": 19,
      "outputs": []
    },
    {
      "cell_type": "code",
      "metadata": {
        "id": "54efHoSBBKia"
      },
      "source": [
        "#이미지에서 영역 읽어 들이기\n",
        "cnts, img = detect_zipno(\"/content/drive/MyDrive/20210101_엽서우편번호/hagaki1.png\")"
      ],
      "execution_count": 20,
      "outputs": []
    },
    {
      "cell_type": "code",
      "metadata": {
        "colab": {
          "base_uri": "https://localhost:8080/",
          "height": 165
        },
        "id": "6KDnJeaICBxo",
        "outputId": "55752a56-e9d0-4cb9-edc2-712db0a0d38c"
      },
      "source": [
        "#읽어 들인 데이터 출력하기\n",
        "for i, pt in enumerate(cnts):\n",
        "  x, y, w, h = pt\n",
        "  #윤곽으로 감싼 부분을 작게 만들기\n",
        "  x+=8\n",
        "  y+=8\n",
        "  w-=16\n",
        "  h-=16\n",
        "  #이미지 데이터 추출하기\n",
        "  im2 = img[y:y+h, x: x+w]\n",
        "  #데이터를 학습에 적합하게 변환하기\n",
        "  im2gray = cv2.cvtColor(im2, cv2.COLOR_BGR2GRAY) #그레이 스케일\n",
        "  im2gray = cv2.resize(im2gray, (8,8)) #크기 변경\n",
        "  im2gray = 15- im2gray //16 #이진화\n",
        "  im2gray = im2gray.reshape((-1,64)) #차원 변환\n",
        "\n",
        "  #데이터 예측하기\n",
        "  res = clf.predict(im2gray)\n",
        "\n",
        "  #출력하기\n",
        "  plt.subplot(1,7, i+1)\n",
        "  plt.imshow(im2)\n",
        "  plt.axis(\"off\")\n",
        "  plt.title(res)\n",
        "\n",
        "plt.show()\n"
      ],
      "execution_count": 21,
      "outputs": [
        {
          "output_type": "stream",
          "text": [
            "/usr/local/lib/python3.6/dist-packages/matplotlib/text.py:1165: FutureWarning: elementwise comparison failed; returning scalar instead, but in the future will perform elementwise comparison\n",
            "  if s != self._text:\n"
          ],
          "name": "stderr"
        },
        {
          "output_type": "display_data",
          "data": {
            "image/png": "[encoded data removed]",
            "text/plain": [
              "<Figure size 432x288 with 1 Axes>"
            ]
          },
          "metadata": {
            "tags": [],
            "needs_background": "light"
          }
        }
      ]
    },
    {
      "cell_type": "code",
      "metadata": {
        "id": "In4R27K5ne_C"
      },
      "source": [
        "#학습이 잘 안된걸까... 결과가 너무 안좋다."
      ],
      "execution_count": null,
      "outputs": []
    }
  ]
}