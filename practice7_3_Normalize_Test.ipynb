{
  "nbformat": 4,
  "nbformat_minor": 0,
  "metadata": {
    "colab": {
      "name": "practice7-2-Normalize Test.ipynb",
      "provenance": [],
      "authorship_tag": "ABX9TyM3+SnwFkH1KNhlPRE82LIg",
      "include_colab_link": true
    },
    "kernelspec": {
      "name": "python3",
      "display_name": "Python 3"
    }
  },
  "cells": [
    {
      "cell_type": "markdown",
      "metadata": {
        "id": "view-in-github",
        "colab_type": "text"
      },
      "source": [
        "<a href=\"https://colab.research.google.com/github/jinwoongokRe/AI_basic_study/blob/master/practice7_2_Normalize_Test.ipynb\" target=\"_parent\"><img src=\"https://colab.research.google.com/assets/colab-badge.svg\" alt=\"Open In Colab\"/></a>"
      ]
    },
    {
      "cell_type": "markdown",
      "metadata": {
        "id": "jIE-nVDUUZv9",
        "colab_type": "text"
      },
      "source": [
        "Normalize Test"
      ]
    },
    {
      "cell_type": "code",
      "metadata": {
        "id": "ljg5qGwjUYe9",
        "colab_type": "code",
        "colab": {
          "base_uri": "https://localhost:8080/",
          "height": 153
        },
        "outputId": "8e98f7d6-c64f-444b-db90-e078ad7fc7fe"
      },
      "source": [
        "from tensorflow.keras.datasets import fashion_mnist\n",
        "(x,y), (x_test, y_test) = fashion_mnist.load_data()"
      ],
      "execution_count": 1,
      "outputs": [
        {
          "output_type": "stream",
          "text": [
            "Downloading data from https://storage.googleapis.com/tensorflow/tf-keras-datasets/train-labels-idx1-ubyte.gz\n",
            "32768/29515 [=================================] - 0s 0us/step\n",
            "Downloading data from https://storage.googleapis.com/tensorflow/tf-keras-datasets/train-images-idx3-ubyte.gz\n",
            "26427392/26421880 [==============================] - 0s 0us/step\n",
            "Downloading data from https://storage.googleapis.com/tensorflow/tf-keras-datasets/t10k-labels-idx1-ubyte.gz\n",
            "8192/5148 [===============================================] - 0s 0us/step\n",
            "Downloading data from https://storage.googleapis.com/tensorflow/tf-keras-datasets/t10k-images-idx3-ubyte.gz\n",
            "4423680/4422102 [==============================] - 0s 0us/step\n"
          ],
          "name": "stdout"
        }
      ]
    },
    {
      "cell_type": "markdown",
      "metadata": {
        "id": "B5Xv-9LvU4wX",
        "colab_type": "text"
      },
      "source": [
        "### **Not Normalized**"
      ]
    },
    {
      "cell_type": "code",
      "metadata": {
        "id": "GTjVzrbXUnAm",
        "colab_type": "code",
        "colab": {}
      },
      "source": [
        "from tensorflow.keras.utils import to_categorical\n",
        "\n",
        "x= x.astype('float32')\n",
        "x_test = x_test.astype('float32')\n",
        "\n",
        "x = x.reshape(60000, -1)\n",
        "x_test = x_test.reshape(10000, -1)\n",
        "\n",
        "y= to_categorical(y, 10)\n",
        "y_test = to_categorical(y_test, 10)"
      ],
      "execution_count": 5,
      "outputs": []
    },
    {
      "cell_type": "code",
      "metadata": {
        "id": "AWlbwcRYVMGM",
        "colab_type": "code",
        "colab": {
          "base_uri": "https://localhost:8080/",
          "height": 34
        },
        "outputId": "35febb8f-94ab-4067-945d-8add09c9f02b"
      },
      "source": [
        "import numpy as np\n",
        "np.max(x)"
      ],
      "execution_count": 6,
      "outputs": [
        {
          "output_type": "execute_result",
          "data": {
            "text/plain": [
              "255.0"
            ]
          },
          "metadata": {
            "tags": []
          },
          "execution_count": 6
        }
      ]
    },
    {
      "cell_type": "code",
      "metadata": {
        "id": "YjyI-t2BV5Jz",
        "colab_type": "code",
        "colab": {}
      },
      "source": [
        "from tensorflow.keras.models import Sequential\n",
        "from tensorflow.keras.layers import Dense"
      ],
      "execution_count": 7,
      "outputs": []
    },
    {
      "cell_type": "code",
      "metadata": {
        "id": "_aE4UmCvWN6y",
        "colab_type": "code",
        "colab": {}
      },
      "source": [
        "def create_model():\n",
        "  model = Sequential()\n",
        "  model.add(Dense(64, input_shape=(784,), activation='relu'))\n",
        "  model.add(Dense(128, activation='relu'))\n",
        "  model.add(Dense(256, activation='relu'))\n",
        "  model.add(Dense(10, activation='softmax', kernel_initializer='zeros'))\n",
        "\n",
        "  model.compile(optimizer= 'sgd', loss = 'categorical_crossentropy', metrics =['accuracy'])\n",
        "  return model"
      ],
      "execution_count": 9,
      "outputs": []
    },
    {
      "cell_type": "code",
      "metadata": {
        "id": "SIO_okKQWlYs",
        "colab_type": "code",
        "colab": {}
      },
      "source": [
        "model_not_normalized = create_model()"
      ],
      "execution_count": 10,
      "outputs": []
    },
    {
      "cell_type": "code",
      "metadata": {
        "id": "ScV9WheTYyX0",
        "colab_type": "code",
        "colab": {
          "base_uri": "https://localhost:8080/",
          "height": 204
        },
        "outputId": "0f405168-e7d4-4ed7-8931-a151c2aaeda1"
      },
      "source": [
        "model_not_normalized.fit(x,y, epochs=5, validation_split=1/6, verbose=1)"
      ],
      "execution_count": 11,
      "outputs": [
        {
          "output_type": "stream",
          "text": [
            "Epoch 1/5\n",
            "1563/1563 [==============================] - 3s 2ms/step - loss: nan - accuracy: 0.1003 - val_loss: nan - val_accuracy: 0.1023\n",
            "Epoch 2/5\n",
            "1563/1563 [==============================] - 3s 2ms/step - loss: nan - accuracy: 0.0995 - val_loss: nan - val_accuracy: 0.1023\n",
            "Epoch 3/5\n",
            "1563/1563 [==============================] - 3s 2ms/step - loss: nan - accuracy: 0.0995 - val_loss: nan - val_accuracy: 0.1023\n",
            "Epoch 4/5\n",
            "1563/1563 [==============================] - 4s 2ms/step - loss: nan - accuracy: 0.0995 - val_loss: nan - val_accuracy: 0.1023\n",
            "Epoch 5/5\n",
            "1563/1563 [==============================] - 4s 2ms/step - loss: nan - accuracy: 0.0995 - val_loss: nan - val_accuracy: 0.1023\n"
          ],
          "name": "stdout"
        },
        {
          "output_type": "execute_result",
          "data": {
            "text/plain": [
              "<tensorflow.python.keras.callbacks.History at 0x7f830c113208>"
            ]
          },
          "metadata": {
            "tags": []
          },
          "execution_count": 11
        }
      ]
    },
    {
      "cell_type": "markdown",
      "metadata": {
        "id": "W8vkpXXYZQJ0",
        "colab_type": "text"
      },
      "source": [
        "### **Normalized**"
      ]
    },
    {
      "cell_type": "code",
      "metadata": {
        "id": "JuNbf75jY8g1",
        "colab_type": "code",
        "colab": {}
      },
      "source": [
        "x_normalized = x/255\n",
        "x_test_normalized = x_test/255"
      ],
      "execution_count": 12,
      "outputs": []
    },
    {
      "cell_type": "code",
      "metadata": {
        "id": "RNvwvjn7Zpzd",
        "colab_type": "code",
        "colab": {}
      },
      "source": [
        "model_normalized = create_model()"
      ],
      "execution_count": 13,
      "outputs": []
    },
    {
      "cell_type": "code",
      "metadata": {
        "id": "5xbPZmF8ZuDL",
        "colab_type": "code",
        "colab": {
          "base_uri": "https://localhost:8080/",
          "height": 204
        },
        "outputId": "fa22678b-d34e-4f1d-ef61-2064bdae4025"
      },
      "source": [
        "model_normalized.fit(x_normalized,y,epochs=5, validation_split=1/6, verbose=1)"
      ],
      "execution_count": 14,
      "outputs": [
        {
          "output_type": "stream",
          "text": [
            "Epoch 1/5\n",
            "1563/1563 [==============================] - 3s 2ms/step - loss: 1.1411 - accuracy: 0.5921 - val_loss: 0.6632 - val_accuracy: 0.7565\n",
            "Epoch 2/5\n",
            "1563/1563 [==============================] - 3s 2ms/step - loss: 0.5982 - accuracy: 0.7863 - val_loss: 0.6095 - val_accuracy: 0.7876\n",
            "Epoch 3/5\n",
            "1563/1563 [==============================] - 3s 2ms/step - loss: 0.5096 - accuracy: 0.8206 - val_loss: 0.5700 - val_accuracy: 0.8084\n",
            "Epoch 4/5\n",
            "1563/1563 [==============================] - 3s 2ms/step - loss: 0.4671 - accuracy: 0.8353 - val_loss: 0.4604 - val_accuracy: 0.8366\n",
            "Epoch 5/5\n",
            "1563/1563 [==============================] - 3s 2ms/step - loss: 0.4417 - accuracy: 0.8437 - val_loss: 0.4873 - val_accuracy: 0.8303\n"
          ],
          "name": "stdout"
        },
        {
          "output_type": "execute_result",
          "data": {
            "text/plain": [
              "<tensorflow.python.keras.callbacks.History at 0x7f8309a5b630>"
            ]
          },
          "metadata": {
            "tags": []
          },
          "execution_count": 14
        }
      ]
    },
    {
      "cell_type": "code",
      "metadata": {
        "id": "k4orqhUqZ1Y7",
        "colab_type": "code",
        "colab": {}
      },
      "source": [
        ""
      ],
      "execution_count": null,
      "outputs": []
    }
  ]
}
