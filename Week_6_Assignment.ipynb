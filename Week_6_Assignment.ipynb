{
  "nbformat": 4,
  "nbformat_minor": 0,
  "metadata": {
    "kernelspec": {
      "display_name": "Python 3",
      "language": "python",
      "name": "python3"
    },
    "language_info": {
      "codemirror_mode": {
        "name": "ipython",
        "version": 3
      },
      "file_extension": ".py",
      "mimetype": "text/x-python",
      "name": "python",
      "nbconvert_exporter": "python",
      "pygments_lexer": "ipython3",
      "version": "3.7.4"
    },
    "colab": {
      "name": "Week 6 Assignment.ipynb",
      "provenance": [],
      "include_colab_link": true
    }
  },
  "cells": [
    {
      "cell_type": "markdown",
      "metadata": {
        "id": "view-in-github",
        "colab_type": "text"
      },
      "source": [
        "<a href=\"https://colab.research.google.com/github/jinwoongokRe/AI_basic_study/blob/master/Week_6_Assignment.ipynb\" target=\"_parent\"><img src=\"https://colab.research.google.com/assets/colab-badge.svg\" alt=\"Open In Colab\"/></a>"
      ]
    },
    {
      "cell_type": "markdown",
      "metadata": {
        "id": "_3nA3JFpzOQc",
        "colab_type": "text"
      },
      "source": [
        "# Week 6 Assignment: Deep Learning tutorial, Prevent overfit"
      ]
    },
    {
      "cell_type": "markdown",
      "metadata": {
        "id": "Ku4DWGfjzOQe",
        "colab_type": "text"
      },
      "source": [
        "-------------"
      ]
    },
    {
      "cell_type": "markdown",
      "metadata": {
        "id": "pcA3miFbzOQf",
        "colab_type": "text"
      },
      "source": [
        "## 0 .data 업로드 / 확인 / 전처리\n",
        "\n",
        "10개의 범주(category)와 70,000개의 흑백 이미지로 구성된 패션 MNIST 데이터셋을 사용하겠습니다. "
      ]
    },
    {
      "cell_type": "code",
      "metadata": {
        "id": "mijnTlK7zOQg",
        "colab_type": "code",
        "colab": {}
      },
      "source": [
        "from tensorflow.keras.datasets import fashion_mnist"
      ],
      "execution_count": 1,
      "outputs": []
    },
    {
      "cell_type": "code",
      "metadata": {
        "id": "3aGGU-GVzOQq",
        "colab_type": "code",
        "colab": {
          "base_uri": "https://localhost:8080/",
          "height": 153
        },
        "outputId": "e919ee2c-07fa-400b-81ef-160150803811"
      },
      "source": [
        "(x, y), (x_test, y_test) = fashion_mnist.load_data()"
      ],
      "execution_count": 2,
      "outputs": [
        {
          "output_type": "stream",
          "text": [
            "Downloading data from https://storage.googleapis.com/tensorflow/tf-keras-datasets/train-labels-idx1-ubyte.gz\n",
            "32768/29515 [=================================] - 0s 0us/step\n",
            "Downloading data from https://storage.googleapis.com/tensorflow/tf-keras-datasets/train-images-idx3-ubyte.gz\n",
            "26427392/26421880 [==============================] - 0s 0us/step\n",
            "Downloading data from https://storage.googleapis.com/tensorflow/tf-keras-datasets/t10k-labels-idx1-ubyte.gz\n",
            "8192/5148 [===============================================] - 0s 0us/step\n",
            "Downloading data from https://storage.googleapis.com/tensorflow/tf-keras-datasets/t10k-images-idx3-ubyte.gz\n",
            "4423680/4422102 [==============================] - 0s 0us/step\n"
          ],
          "name": "stdout"
        }
      ]
    },
    {
      "cell_type": "markdown",
      "metadata": {
        "id": "8-wABL-yzOQv",
        "colab_type": "text"
      },
      "source": [
        "이전 mnist처럼 shape이 (data개수 = 60000개, 가로 pixel 수 = 28, 세로 pixel 수 = 28) 입니다."
      ]
    },
    {
      "cell_type": "code",
      "metadata": {
        "id": "6hFnncBBzOQw",
        "colab_type": "code",
        "colab": {
          "base_uri": "https://localhost:8080/",
          "height": 34
        },
        "outputId": "3b142ead-5bf5-489d-a7b3-b65aad75152c"
      },
      "source": [
        "x.shape"
      ],
      "execution_count": 3,
      "outputs": [
        {
          "output_type": "execute_result",
          "data": {
            "text/plain": [
              "(60000, 28, 28)"
            ]
          },
          "metadata": {
            "tags": []
          },
          "execution_count": 3
        }
      ]
    },
    {
      "cell_type": "markdown",
      "metadata": {
        "id": "hkkRkggyzOQ0",
        "colab_type": "text"
      },
      "source": [
        "각 class와 숫자가 아래와 같이 연결되어 있습니다."
      ]
    },
    {
      "cell_type": "markdown",
      "metadata": {
        "id": "Q4TsoDfXzOQ1",
        "colab_type": "text"
      },
      "source": [
        "<table>\n",
        "  <tr>\n",
        "    <th>레이블</th>\n",
        "    <th>클래스</th>\n",
        "  </tr>\n",
        "  <tr>\n",
        "    <td>0</td>\n",
        "    <td>T-shirt/top</td>\n",
        "  </tr>\n",
        "  <tr>\n",
        "    <td>1</td>\n",
        "    <td>Trouser</td>\n",
        "  </tr>\n",
        "    <tr>\n",
        "    <td>2</td>\n",
        "    <td>Pullover</td>\n",
        "  </tr>\n",
        "    <tr>\n",
        "    <td>3</td>\n",
        "    <td>Dress</td>\n",
        "  </tr>\n",
        "    <tr>\n",
        "    <td>4</td>\n",
        "    <td>Coat</td>\n",
        "  </tr>\n",
        "    <tr>\n",
        "    <td>5</td>\n",
        "    <td>Sandal</td>\n",
        "  </tr>\n",
        "    <tr>\n",
        "    <td>6</td>\n",
        "    <td>Shirt</td>\n",
        "  </tr>\n",
        "    <tr>\n",
        "    <td>7</td>\n",
        "    <td>Sneaker</td>\n",
        "  </tr>\n",
        "    <tr>\n",
        "    <td>8</td>\n",
        "    <td>Bag</td>\n",
        "  </tr>\n",
        "    <tr>\n",
        "    <td>9</td>\n",
        "    <td>Ankle boot</td>\n",
        "  </tr>\n",
        "</table>"
      ]
    },
    {
      "cell_type": "code",
      "metadata": {
        "id": "dm4Fw-eQzOQ2",
        "colab_type": "code",
        "colab": {}
      },
      "source": [
        "class_names = ['T-shirt/top', 'Trouser', 'Pullover', 'Dress', 'Coat',\n",
        "               'Sandal', 'Shirt', 'Sneaker', 'Bag', 'Ankle boot']"
      ],
      "execution_count": 4,
      "outputs": []
    },
    {
      "cell_type": "code",
      "metadata": {
        "id": "8vvIxnMRzOQ6",
        "colab_type": "code",
        "colab": {
          "base_uri": "https://localhost:8080/",
          "height": 299
        },
        "outputId": "208b85c4-f16d-41e3-e47b-632415f3f9c9"
      },
      "source": [
        "import matplotlib.pyplot as plt\n",
        "%matplotlib inline \n",
        "\n",
        "\n",
        "index = 0 # index 설정에 따라 원하는 data를 골라서 그릴 수 있고 / 0~59999까지 대입 가능합니다.\n",
        "print(str(y[index]) + ' == ' + str(class_names[y[index]]))\n",
        "img = x[index]\n",
        "plt.imshow(img, cmap='gray')"
      ],
      "execution_count": 5,
      "outputs": [
        {
          "output_type": "stream",
          "text": [
            "9 == Ankle boot\n"
          ],
          "name": "stdout"
        },
        {
          "output_type": "execute_result",
          "data": {
            "text/plain": [
              "<matplotlib.image.AxesImage at 0x7f13991cda58>"
            ]
          },
          "metadata": {
            "tags": []
          },
          "execution_count": 5
        },
        {
          "output_type": "display_data",
          "data": {
            "image/png": "[encoded data removed]",
            "text/plain": [
              "<Figure size 432x288 with 1 Axes>"
            ]
          },
          "metadata": {
            "tags": [],
            "needs_background": "light"
          }
        }
      ]
    },
    {
      "cell_type": "markdown",
      "metadata": {
        "id": "Rn-NjgwVzOQ8",
        "colab_type": "text"
      },
      "source": [
        "---------"
      ]
    },
    {
      "cell_type": "markdown",
      "metadata": {
        "id": "9d2-BGuEzOQ9",
        "colab_type": "text"
      },
      "source": [
        "## <font color=\"blue\"> Question 1\n",
        "    \n",
        "**문제:** y와 y_test에 one-hot encoding을 하시오."
      ]
    },
    {
      "cell_type": "code",
      "metadata": {
        "id": "7pvoKaYfzOQ9",
        "colab_type": "code",
        "colab": {}
      },
      "source": [
        "from tensorflow.keras.utils import to_categorical"
      ],
      "execution_count": 6,
      "outputs": []
    },
    {
      "cell_type": "code",
      "metadata": {
        "id": "D4K2dRjozORA",
        "colab_type": "code",
        "colab": {}
      },
      "source": [
        "x = x.astype('float32') \n",
        "x_test = x_test.astype('float32')\n",
        "\n",
        "x /= 255\n",
        "x_test /= 255\n",
        "\n",
        "### START CODE HERE ### (≈ 2 line of code)\n",
        "y = to_categorical(y, 10)\n",
        "y_test = to_categorical(y_test, 10)\n",
        "### END CODE HERE ###"
      ],
      "execution_count": 7,
      "outputs": []
    },
    {
      "cell_type": "code",
      "metadata": {
        "id": "k3g9YLefzORD",
        "colab_type": "code",
        "colab": {}
      },
      "source": [
        "import numpy as np\n",
        "\n",
        "assert(np.sum(y) == 60000) # assert에서 error가 일어나지 않아야 정답입니다."
      ],
      "execution_count": 8,
      "outputs": []
    },
    {
      "cell_type": "markdown",
      "metadata": {
        "id": "tmJ6hoTKzORF",
        "colab_type": "text"
      },
      "source": [
        "----------"
      ]
    },
    {
      "cell_type": "markdown",
      "metadata": {
        "id": "fFfMQRQ4zORF",
        "colab_type": "text"
      },
      "source": [
        "## 미리 split하고 진행한다.\n",
        "\n",
        "1) 매번 split 되는 data를 일정하게 하려고 random_state 값도 고정으로 설정했다.\n",
        "\n",
        "2) data를 정교하게 split하려고 'stratify=y'를 사용해서 각 class가 같은 비율로 split 되게 했다."
      ]
    },
    {
      "cell_type": "code",
      "metadata": {
        "id": "zTI2KYYHzORG",
        "colab_type": "code",
        "colab": {
          "base_uri": "https://localhost:8080/",
          "height": 187
        },
        "outputId": "c8694160-80fe-4778-a0cc-bc23004c1979"
      },
      "source": [
        "np.unique(y, axis=0) # y의 행 중 존재하는 값들만 중복없이 출력 -> 그래서 10개이다."
      ],
      "execution_count": 9,
      "outputs": [
        {
          "output_type": "execute_result",
          "data": {
            "text/plain": [
              "array([[0., 0., 0., 0., 0., 0., 0., 0., 0., 1.],\n",
              "       [0., 0., 0., 0., 0., 0., 0., 0., 1., 0.],\n",
              "       [0., 0., 0., 0., 0., 0., 0., 1., 0., 0.],\n",
              "       [0., 0., 0., 0., 0., 0., 1., 0., 0., 0.],\n",
              "       [0., 0., 0., 0., 0., 1., 0., 0., 0., 0.],\n",
              "       [0., 0., 0., 0., 1., 0., 0., 0., 0., 0.],\n",
              "       [0., 0., 0., 1., 0., 0., 0., 0., 0., 0.],\n",
              "       [0., 0., 1., 0., 0., 0., 0., 0., 0., 0.],\n",
              "       [0., 1., 0., 0., 0., 0., 0., 0., 0., 0.],\n",
              "       [1., 0., 0., 0., 0., 0., 0., 0., 0., 0.]], dtype=float32)"
            ]
          },
          "metadata": {
            "tags": []
          },
          "execution_count": 9
        }
      ]
    },
    {
      "cell_type": "code",
      "metadata": {
        "id": "B5uvkClPzORJ",
        "colab_type": "code",
        "colab": {
          "base_uri": "https://localhost:8080/",
          "height": 34
        },
        "outputId": "011d88d1-22e1-47e2-c71f-19ca2d6acdbc"
      },
      "source": [
        "y.shape"
      ],
      "execution_count": 10,
      "outputs": [
        {
          "output_type": "execute_result",
          "data": {
            "text/plain": [
              "(60000, 10)"
            ]
          },
          "metadata": {
            "tags": []
          },
          "execution_count": 10
        }
      ]
    },
    {
      "cell_type": "code",
      "metadata": {
        "id": "7V280vOBzORM",
        "colab_type": "code",
        "colab": {}
      },
      "source": [
        "from sklearn.model_selection import train_test_split"
      ],
      "execution_count": 11,
      "outputs": []
    },
    {
      "cell_type": "code",
      "metadata": {
        "id": "P_fe-6KbzORO",
        "colab_type": "code",
        "colab": {}
      },
      "source": [
        "x_train, x_val, y_train, y_val = train_test_split(x, y, train_size = 1/2, random_state = 3, stratify=y)"
      ],
      "execution_count": 12,
      "outputs": []
    },
    {
      "cell_type": "code",
      "metadata": {
        "id": "VMMOW0BUzORQ",
        "colab_type": "code",
        "colab": {
          "base_uri": "https://localhost:8080/",
          "height": 136
        },
        "outputId": "8bc15d2e-268d-44af-8d88-1bd8900c8f35"
      },
      "source": [
        "y_val"
      ],
      "execution_count": 13,
      "outputs": [
        {
          "output_type": "execute_result",
          "data": {
            "text/plain": [
              "array([[0., 0., 0., ..., 0., 0., 0.],\n",
              "       [0., 0., 0., ..., 0., 0., 1.],\n",
              "       [1., 0., 0., ..., 0., 0., 0.],\n",
              "       ...,\n",
              "       [0., 0., 0., ..., 0., 1., 0.],\n",
              "       [1., 0., 0., ..., 0., 0., 0.],\n",
              "       [0., 0., 0., ..., 0., 0., 1.]], dtype=float32)"
            ]
          },
          "metadata": {
            "tags": []
          },
          "execution_count": 13
        }
      ]
    },
    {
      "cell_type": "code",
      "metadata": {
        "id": "E8bx8zBrzORT",
        "colab_type": "code",
        "colab": {
          "base_uri": "https://localhost:8080/",
          "height": 51
        },
        "outputId": "7730989e-59d4-44db-d830-052b3b31b53b"
      },
      "source": [
        "np.sum(y_val, axis=0) # 'stratify=y' 덕분이다."
      ],
      "execution_count": 14,
      "outputs": [
        {
          "output_type": "execute_result",
          "data": {
            "text/plain": [
              "array([3000., 3000., 3000., 3000., 3000., 3000., 3000., 3000., 3000.,\n",
              "       3000.], dtype=float32)"
            ]
          },
          "metadata": {
            "tags": []
          },
          "execution_count": 14
        }
      ]
    },
    {
      "cell_type": "markdown",
      "metadata": {
        "id": "9T9cpwpbzORW",
        "colab_type": "text"
      },
      "source": [
        "-------"
      ]
    },
    {
      "cell_type": "markdown",
      "metadata": {
        "id": "gU4JAUzHzORX",
        "colab_type": "text"
      },
      "source": [
        "### <font color=\"red\"> 정확한 비교를 위해서는 dropout, regularizer 이외에는 다른 요인을 바꾸지 않는 것이 좋다.\n",
        "    \n",
        "#### <font color=\"red\"> (모델의 층과 unit 개수, activation 등 다른 hyperparameter는 바꾸려면 3개 모델을 같이 바꿔야한다.)"
      ]
    },
    {
      "cell_type": "markdown",
      "metadata": {
        "id": "eh2CpI38zORY",
        "colab_type": "text"
      },
      "source": [
        "# 1. 기본 모델"
      ]
    },
    {
      "cell_type": "markdown",
      "metadata": {
        "id": "B8aJfhK3zORZ",
        "colab_type": "text"
      },
      "source": [
        "## <font color=\"blue\"> Question 2\n",
        "    \n",
        "**문제:** 해당 조건에 맞는 모델을 만드시오\n",
        "    \n",
        "**조건:** \n",
        "    \n",
        "1) 1번째 layer는 dense가 아닌 flatten하는 과정을 가진다. (parameter를 가지는 layer는 아니다.)\n",
        "    \n",
        "2) 2번째 layer는 unit이 32, activation은 'relu'이다.\n",
        "\n",
        "3) 3번째 layer는 unit이 64, activation은 'relu'이다.\n",
        "    \n",
        "4) 4번째 layer는 unit이 128, activation은 'relu'이다.\n",
        "    \n",
        "5) 5번째 layer는 multiclass classification의 output layer의 규칙에 맞게 만든다.\n",
        "(단, optimizer는 adam으로 설정하고 metric(s)은 'accuracy'만 사용한다.)"
      ]
    },
    {
      "cell_type": "code",
      "metadata": {
        "id": "jmogZmAfzORZ",
        "colab_type": "code",
        "colab": {}
      },
      "source": [
        "from tensorflow.keras.models import Sequential\n",
        "from tensorflow.keras.layers import Activation, Dense, Flatten"
      ],
      "execution_count": 15,
      "outputs": []
    },
    {
      "cell_type": "code",
      "metadata": {
        "id": "DobLHdu2zORb",
        "colab_type": "code",
        "colab": {}
      },
      "source": [
        "def basic_model():\n",
        "    model = Sequential()\n",
        "    ### START CODE HERE ### (≈ 6 line of code)\n",
        "    model.add(Flatten(input_shape=(28,28)))\n",
        "    model.add(Dense(32, activation='relu'))\n",
        "    model.add(Dense(64,'relu'))\n",
        "    model.add(Dense(128, 'relu'))\n",
        "    model.add(Dense(units=10, activation='softmax'))\n",
        "    model.compile(optimizer='adam', loss='categorical_crossentropy', metrics=['accuracy'])\n",
        "    ### END CODE HERE ###\n",
        "    return model\n"
      ],
      "execution_count": 20,
      "outputs": []
    },
    {
      "cell_type": "code",
      "metadata": {
        "id": "nY1TNOvVzORe",
        "colab_type": "code",
        "colab": {}
      },
      "source": [
        "model_basic = basic_model()\n",
        "\n",
        "# 이 부분에서 error가 날 경우 다시 Question 2를 푸시오.\n",
        "assert(len(model_basic.layers)==5)\n",
        "assert(len(model_basic.weights)==8)\n",
        "assert(len(model_basic.weights[4].numpy())==64)"
      ],
      "execution_count": 21,
      "outputs": []
    },
    {
      "cell_type": "code",
      "metadata": {
        "id": "8new58s9zORh",
        "colab_type": "code",
        "colab": {
          "base_uri": "https://localhost:8080/",
          "height": 323
        },
        "outputId": "273afc0b-4f7b-4bf2-9e48-9ff4d49d5754"
      },
      "source": [
        "model_basic.summary()"
      ],
      "execution_count": 22,
      "outputs": [
        {
          "output_type": "stream",
          "text": [
            "Model: \"sequential_2\"\n",
            "_________________________________________________________________\n",
            "Layer (type)                 Output Shape              Param #   \n",
            "=================================================================\n",
            "flatten_1 (Flatten)          (None, 784)               0         \n",
            "_________________________________________________________________\n",
            "dense_3 (Dense)              (None, 32)                25120     \n",
            "_________________________________________________________________\n",
            "dense_4 (Dense)              (None, 64)                2112      \n",
            "_________________________________________________________________\n",
            "dense_5 (Dense)              (None, 128)               8320      \n",
            "_________________________________________________________________\n",
            "dense_6 (Dense)              (None, 10)                1290      \n",
            "=================================================================\n",
            "Total params: 36,842\n",
            "Trainable params: 36,842\n",
            "Non-trainable params: 0\n",
            "_________________________________________________________________\n"
          ],
          "name": "stdout"
        }
      ]
    },
    {
      "cell_type": "markdown",
      "metadata": {
        "id": "uyFyCv6VzORj",
        "colab_type": "text"
      },
      "source": [
        "-------------"
      ]
    },
    {
      "cell_type": "markdown",
      "metadata": {
        "id": "y_pOGZ_YzORk",
        "colab_type": "text"
      },
      "source": [
        "## <font color=\"blue\"> Question 3\n",
        "    \n",
        "**문제:** 해당 조건에 맞게 train 하시오.\n",
        "    \n",
        "1) 3-way holdout을 맨 위에서 split한 data(x_train, y_train, x_val, y_val)을 이용해서 진행\n",
        "\n",
        "2) epochs은 20으로 설정한다."
      ]
    },
    {
      "cell_type": "code",
      "metadata": {
        "id": "kotJwhf2zORl",
        "colab_type": "code",
        "colab": {
          "base_uri": "https://localhost:8080/",
          "height": 697
        },
        "outputId": "5d282afa-1d40-4df7-830d-c9fc58fdfe4a"
      },
      "source": [
        "### START CODE HERE ### (≈ 1 line of code)\n",
        "history_basic = model_basic.fit(x_train, y_train, validation_data=(x_val, y_val), epochs=20)\n",
        "### END CODE HERE ###"
      ],
      "execution_count": 24,
      "outputs": [
        {
          "output_type": "stream",
          "text": [
            "Epoch 1/20\n",
            "938/938 [==============================] - 3s 3ms/step - loss: 0.5999 - accuracy: 0.7816 - val_loss: 0.4893 - val_accuracy: 0.8242\n",
            "Epoch 2/20\n",
            "938/938 [==============================] - 3s 3ms/step - loss: 0.4262 - accuracy: 0.8438 - val_loss: 0.4246 - val_accuracy: 0.8465\n",
            "Epoch 3/20\n",
            "938/938 [==============================] - 3s 3ms/step - loss: 0.3841 - accuracy: 0.8614 - val_loss: 0.3821 - val_accuracy: 0.8637\n",
            "Epoch 4/20\n",
            "938/938 [==============================] - 3s 3ms/step - loss: 0.3637 - accuracy: 0.8681 - val_loss: 0.3868 - val_accuracy: 0.8626\n",
            "Epoch 5/20\n",
            "938/938 [==============================] - 2s 3ms/step - loss: 0.3364 - accuracy: 0.8779 - val_loss: 0.3940 - val_accuracy: 0.8609\n",
            "Epoch 6/20\n",
            "938/938 [==============================] - 3s 3ms/step - loss: 0.3243 - accuracy: 0.8793 - val_loss: 0.3693 - val_accuracy: 0.8690\n",
            "Epoch 7/20\n",
            "938/938 [==============================] - 3s 3ms/step - loss: 0.3099 - accuracy: 0.8863 - val_loss: 0.3728 - val_accuracy: 0.8659\n",
            "Epoch 8/20\n",
            "938/938 [==============================] - 3s 3ms/step - loss: 0.3008 - accuracy: 0.8868 - val_loss: 0.3717 - val_accuracy: 0.8672\n",
            "Epoch 9/20\n",
            "938/938 [==============================] - 3s 3ms/step - loss: 0.2910 - accuracy: 0.8924 - val_loss: 0.3960 - val_accuracy: 0.8615\n",
            "Epoch 10/20\n",
            "938/938 [==============================] - 2s 3ms/step - loss: 0.2803 - accuracy: 0.8955 - val_loss: 0.3591 - val_accuracy: 0.8669\n",
            "Epoch 11/20\n",
            "938/938 [==============================] - 2s 2ms/step - loss: 0.2743 - accuracy: 0.8980 - val_loss: 0.3760 - val_accuracy: 0.8702\n",
            "Epoch 12/20\n",
            "938/938 [==============================] - 2s 3ms/step - loss: 0.2644 - accuracy: 0.9004 - val_loss: 0.3627 - val_accuracy: 0.8755\n",
            "Epoch 13/20\n",
            "938/938 [==============================] - 2s 3ms/step - loss: 0.2582 - accuracy: 0.9025 - val_loss: 0.3913 - val_accuracy: 0.8671\n",
            "Epoch 14/20\n",
            "938/938 [==============================] - 2s 3ms/step - loss: 0.2529 - accuracy: 0.9050 - val_loss: 0.3710 - val_accuracy: 0.8768\n",
            "Epoch 15/20\n",
            "938/938 [==============================] - 2s 3ms/step - loss: 0.2448 - accuracy: 0.9073 - val_loss: 0.3629 - val_accuracy: 0.8782\n",
            "Epoch 16/20\n",
            "938/938 [==============================] - 2s 3ms/step - loss: 0.2358 - accuracy: 0.9119 - val_loss: 0.3856 - val_accuracy: 0.8680\n",
            "Epoch 17/20\n",
            "938/938 [==============================] - 2s 2ms/step - loss: 0.2330 - accuracy: 0.9124 - val_loss: 0.3708 - val_accuracy: 0.8792\n",
            "Epoch 18/20\n",
            "938/938 [==============================] - 2s 3ms/step - loss: 0.2260 - accuracy: 0.9149 - val_loss: 0.3763 - val_accuracy: 0.8780\n",
            "Epoch 19/20\n",
            "938/938 [==============================] - 2s 3ms/step - loss: 0.2209 - accuracy: 0.9166 - val_loss: 0.3782 - val_accuracy: 0.8774\n",
            "Epoch 20/20\n",
            "938/938 [==============================] - 2s 3ms/step - loss: 0.2139 - accuracy: 0.9182 - val_loss: 0.3807 - val_accuracy: 0.8766\n"
          ],
          "name": "stdout"
        }
      ]
    },
    {
      "cell_type": "code",
      "metadata": {
        "id": "Minn5lDGzORn",
        "colab_type": "code",
        "colab": {
          "base_uri": "https://localhost:8080/",
          "height": 295
        },
        "outputId": "8fb1786d-8074-4a53-abe1-f94c4fca4997"
      },
      "source": [
        "loss = history_basic.history['loss']\n",
        "val_loss = history_basic.history['val_loss']\n",
        "\n",
        "epochs = range(1, len(loss) + 1)\n",
        "\n",
        "plt.plot(epochs, loss, 'r', label = 'Training loss')\n",
        "plt.plot(epochs, val_loss, 'b', label = 'Validation loss')\n",
        "plt.title('Training and validation loss')\n",
        "plt.xlabel('Epochs')\n",
        "plt.ylabel('Loss')\n",
        "plt.legend()\n",
        "\n",
        "plt.show()"
      ],
      "execution_count": 25,
      "outputs": [
        {
          "output_type": "display_data",
          "data": {
            "image/png": "[encoded data removed]",
            "text/plain": [
              "<Figure size 432x288 with 1 Axes>"
            ]
          },
          "metadata": {
            "tags": [],
            "needs_background": "light"
          }
        }
      ]
    },
    {
      "cell_type": "code",
      "metadata": {
        "id": "fFt4B4CezORq",
        "colab_type": "code",
        "colab": {
          "base_uri": "https://localhost:8080/",
          "height": 295
        },
        "outputId": "1e664d9b-0372-4eb0-ec80-782ef678fda9"
      },
      "source": [
        "acc = history_basic.history['accuracy']\n",
        "val_acc = history_basic.history['val_accuracy']\n",
        "\n",
        "plt.plot(epochs, acc, 'r', label = 'Training accuracy')\n",
        "plt.plot(epochs, val_acc, 'b', label = 'Validation accuracy')\n",
        "plt.title('Training and validation accuracy')\n",
        "plt.xlabel('Epochs')\n",
        "plt.ylabel('Accuracy')\n",
        "plt.legend()\n",
        "\n",
        "plt.show()"
      ],
      "execution_count": 26,
      "outputs": [
        {
          "output_type": "display_data",
          "data": {
            "image/png": "[encoded data removed]",
            "text/plain": [
              "<Figure size 432x288 with 1 Axes>"
            ]
          },
          "metadata": {
            "tags": [],
            "needs_background": "light"
          }
        }
      ]
    },
    {
      "cell_type": "markdown",
      "metadata": {
        "id": "g5vFfm5KzORs",
        "colab_type": "text"
      },
      "source": [
        "-----------------"
      ]
    },
    {
      "cell_type": "markdown",
      "metadata": {
        "id": "Zb-SthTAzORs",
        "colab_type": "text"
      },
      "source": [
        "# 2. Regularizer"
      ]
    },
    {
      "cell_type": "markdown",
      "metadata": {
        "id": "eF3PDogazORt",
        "colab_type": "text"
      },
      "source": [
        "공식문서: https://keras.io/regularizers/"
      ]
    },
    {
      "cell_type": "markdown",
      "metadata": {
        "id": "ku43Ys1NzORt",
        "colab_type": "text"
      },
      "source": [
        "## <font color=\"blue\"> Question 4\n",
        "    \n",
        "**문제:** 해당 조건에 맞는 모델을 만드시오.\n",
        "    \n",
        "1) 위의 model_basic(Question 2)과 똑같은 구조로 모델을 만든다.\n",
        "\n",
        "2) L2 regularizer를 unit이 64인 부분과 128인 부분에 각각 λ(람다)를 0.001로 설정한다."
      ]
    },
    {
      "cell_type": "code",
      "metadata": {
        "id": "UUWMlBG8zORu",
        "colab_type": "code",
        "colab": {}
      },
      "source": [
        "from tensorflow.keras import regularizers"
      ],
      "execution_count": 27,
      "outputs": []
    },
    {
      "cell_type": "code",
      "metadata": {
        "id": "Fd-PVOZvzORx",
        "colab_type": "code",
        "colab": {}
      },
      "source": [
        "def regularizer_model():\n",
        "    model = Sequential()\n",
        "    ### START CODE HERE ### (≈ 6 line of code)\n",
        "    model.add(Flatten(input_shape=(28,28)))\n",
        "    model.add(Dense(units=32, activation='relu'))\n",
        "    model.add(Dense(64, 'relu', kernel_regularizer=regularizers.l2(0.001)))\n",
        "    model.add(Dense(128, 'relu', kernel_regularizer=regularizers.l2(0.001)))\n",
        "    model.add(Dense(units=10, activation='softmax'))\n",
        "\n",
        "    model.compile(optimizer='adam', loss='categorical_crossentropy', metrics=['accuracy'])\n",
        "    ### END CODE HERE ###\n",
        "    return model"
      ],
      "execution_count": 29,
      "outputs": []
    },
    {
      "cell_type": "code",
      "metadata": {
        "id": "fkjesZ2czORz",
        "colab_type": "code",
        "colab": {}
      },
      "source": [
        "model_rgrz = regularizer_model()\n",
        "\n",
        "# 이 부분에서 error가 날 경우 다시 Question 4를 푸시오.\n",
        "assert(len(model_rgrz.layers)==5)\n",
        "assert(len(model_rgrz.weights)==8)\n",
        "assert(len(model_rgrz.weights[4].numpy())==64)"
      ],
      "execution_count": 30,
      "outputs": []
    },
    {
      "cell_type": "code",
      "metadata": {
        "id": "yyAg8lmozOR1",
        "colab_type": "code",
        "colab": {
          "base_uri": "https://localhost:8080/",
          "height": 323
        },
        "outputId": "7c4f46e7-3705-4170-caac-58d3aa25f335"
      },
      "source": [
        "model_rgrz.summary()"
      ],
      "execution_count": 31,
      "outputs": [
        {
          "output_type": "stream",
          "text": [
            "Model: \"sequential_3\"\n",
            "_________________________________________________________________\n",
            "Layer (type)                 Output Shape              Param #   \n",
            "=================================================================\n",
            "flatten_2 (Flatten)          (None, 784)               0         \n",
            "_________________________________________________________________\n",
            "dense_7 (Dense)              (None, 32)                25120     \n",
            "_________________________________________________________________\n",
            "dense_8 (Dense)              (None, 64)                2112      \n",
            "_________________________________________________________________\n",
            "dense_9 (Dense)              (None, 128)               8320      \n",
            "_________________________________________________________________\n",
            "dense_10 (Dense)             (None, 10)                1290      \n",
            "=================================================================\n",
            "Total params: 36,842\n",
            "Trainable params: 36,842\n",
            "Non-trainable params: 0\n",
            "_________________________________________________________________\n"
          ],
          "name": "stdout"
        }
      ]
    },
    {
      "cell_type": "markdown",
      "metadata": {
        "id": "UIHBnP48zOR5",
        "colab_type": "text"
      },
      "source": [
        "-----------"
      ]
    },
    {
      "cell_type": "markdown",
      "metadata": {
        "id": "-4xFLQ-SzOR5",
        "colab_type": "text"
      },
      "source": [
        "## <font color=\"blue\"> Question 5\n",
        "    \n",
        "**문제:** 해당 조건에 맞게 train 하시오. (Question 3와 동일하게 train)\n",
        "    \n",
        "1) 3-way holdout을 맨 위에서 split한 data(x_train, y_train, x_val, y_val)을 이용해서 진행\n",
        "\n",
        "2) epochs은 20으로 설정한다."
      ]
    },
    {
      "cell_type": "code",
      "metadata": {
        "id": "JYhDHvPuzOR5",
        "colab_type": "code",
        "colab": {
          "base_uri": "https://localhost:8080/",
          "height": 697
        },
        "outputId": "3c63d6e2-725b-4161-ef4d-2a09e386d10c"
      },
      "source": [
        "### START CODE HERE ### (≈ 1 line of code)\n",
        "history_regularizer = model_rgrz.fit(x_train, y_train, validation_data=(x_val, y_val), epochs=20)\n",
        "### END CODE HERE ### "
      ],
      "execution_count": 33,
      "outputs": [
        {
          "output_type": "stream",
          "text": [
            "Epoch 1/20\n",
            "938/938 [==============================] - 3s 3ms/step - loss: 0.6946 - accuracy: 0.7793 - val_loss: 0.6037 - val_accuracy: 0.8170\n",
            "Epoch 2/20\n",
            "938/938 [==============================] - 2s 3ms/step - loss: 0.5047 - accuracy: 0.8431 - val_loss: 0.4749 - val_accuracy: 0.8527\n",
            "Epoch 3/20\n",
            "938/938 [==============================] - 2s 3ms/step - loss: 0.4531 - accuracy: 0.8564 - val_loss: 0.4660 - val_accuracy: 0.8537\n",
            "Epoch 4/20\n",
            "938/938 [==============================] - 2s 3ms/step - loss: 0.4230 - accuracy: 0.8649 - val_loss: 0.4357 - val_accuracy: 0.8598\n",
            "Epoch 5/20\n",
            "938/938 [==============================] - 2s 3ms/step - loss: 0.4007 - accuracy: 0.8695 - val_loss: 0.4393 - val_accuracy: 0.8571\n",
            "Epoch 6/20\n",
            "938/938 [==============================] - 3s 3ms/step - loss: 0.3844 - accuracy: 0.8731 - val_loss: 0.4215 - val_accuracy: 0.8624\n",
            "Epoch 7/20\n",
            "938/938 [==============================] - 5s 6ms/step - loss: 0.3687 - accuracy: 0.8784 - val_loss: 0.4067 - val_accuracy: 0.8660\n",
            "Epoch 8/20\n",
            "938/938 [==============================] - 4s 4ms/step - loss: 0.3535 - accuracy: 0.8834 - val_loss: 0.4205 - val_accuracy: 0.8598\n",
            "Epoch 9/20\n",
            "938/938 [==============================] - 3s 3ms/step - loss: 0.3456 - accuracy: 0.8868 - val_loss: 0.3956 - val_accuracy: 0.8711\n",
            "Epoch 10/20\n",
            "938/938 [==============================] - 2s 3ms/step - loss: 0.3352 - accuracy: 0.8889 - val_loss: 0.3774 - val_accuracy: 0.8742\n",
            "Epoch 11/20\n",
            "938/938 [==============================] - 2s 2ms/step - loss: 0.3259 - accuracy: 0.8912 - val_loss: 0.4096 - val_accuracy: 0.8632\n",
            "Epoch 12/20\n",
            "938/938 [==============================] - 2s 2ms/step - loss: 0.3204 - accuracy: 0.8948 - val_loss: 0.4098 - val_accuracy: 0.8655\n",
            "Epoch 13/20\n",
            "938/938 [==============================] - 2s 2ms/step - loss: 0.3173 - accuracy: 0.8940 - val_loss: 0.3835 - val_accuracy: 0.8733\n",
            "Epoch 14/20\n",
            "938/938 [==============================] - 2s 2ms/step - loss: 0.3052 - accuracy: 0.8973 - val_loss: 0.3797 - val_accuracy: 0.8753\n",
            "Epoch 15/20\n",
            "938/938 [==============================] - 2s 2ms/step - loss: 0.3028 - accuracy: 0.8992 - val_loss: 0.3845 - val_accuracy: 0.8723\n",
            "Epoch 16/20\n",
            "938/938 [==============================] - 2s 2ms/step - loss: 0.2989 - accuracy: 0.9007 - val_loss: 0.3823 - val_accuracy: 0.8732\n",
            "Epoch 17/20\n",
            "938/938 [==============================] - 2s 3ms/step - loss: 0.2922 - accuracy: 0.9031 - val_loss: 0.3718 - val_accuracy: 0.8786\n",
            "Epoch 18/20\n",
            "938/938 [==============================] - 2s 2ms/step - loss: 0.2896 - accuracy: 0.9038 - val_loss: 0.3872 - val_accuracy: 0.8754\n",
            "Epoch 19/20\n",
            "938/938 [==============================] - 2s 2ms/step - loss: 0.2820 - accuracy: 0.9049 - val_loss: 0.3983 - val_accuracy: 0.8690\n",
            "Epoch 20/20\n",
            "938/938 [==============================] - 2s 2ms/step - loss: 0.2799 - accuracy: 0.9054 - val_loss: 0.3856 - val_accuracy: 0.8743\n"
          ],
          "name": "stdout"
        }
      ]
    },
    {
      "cell_type": "code",
      "metadata": {
        "id": "6ePYoSP5zOR7",
        "colab_type": "code",
        "colab": {
          "base_uri": "https://localhost:8080/",
          "height": 295
        },
        "outputId": "2930a81c-d313-411e-96f3-cee081d7cedd"
      },
      "source": [
        "loss = history_regularizer .history['loss']\n",
        "val_loss = history_regularizer .history['val_loss']\n",
        "\n",
        "epochs = range(1, len(loss) + 1)\n",
        "\n",
        "plt.plot(epochs, loss, 'r', label = 'Training loss')\n",
        "plt.plot(epochs, val_loss, 'b', label = 'Validation loss')\n",
        "plt.title('Training and validation loss')\n",
        "plt.xlabel('Epochs')\n",
        "plt.ylabel('Loss')\n",
        "plt.legend()\n",
        "plt.show()"
      ],
      "execution_count": 34,
      "outputs": [
        {
          "output_type": "display_data",
          "data": {
            "image/png": "[encoded data removed]",
            "text/plain": [
              "<Figure size 432x288 with 1 Axes>"
            ]
          },
          "metadata": {
            "tags": [],
            "needs_background": "light"
          }
        }
      ]
    },
    {
      "cell_type": "code",
      "metadata": {
        "id": "BeM35ZyLzOR9",
        "colab_type": "code",
        "colab": {
          "base_uri": "https://localhost:8080/",
          "height": 295
        },
        "outputId": "4bef6395-3091-4a44-bbdf-48fb6e20cf68"
      },
      "source": [
        "acc = history_regularizer .history['accuracy']\n",
        "val_acc = history_regularizer .history['val_accuracy']\n",
        "\n",
        "plt.plot(epochs, acc, 'r', label = 'Training accuracy')\n",
        "plt.plot(epochs, val_acc, 'b', label = 'Validation accuracy')\n",
        "plt.title('Training and validation accuracy')\n",
        "plt.xlabel('Epochs')\n",
        "plt.ylabel('Accuracy')\n",
        "plt.legend()\n",
        "\n",
        "plt.show()"
      ],
      "execution_count": 35,
      "outputs": [
        {
          "output_type": "display_data",
          "data": {
            "image/png": "[encoded data removed]",
            "text/plain": [
              "<Figure size 432x288 with 1 Axes>"
            ]
          },
          "metadata": {
            "tags": [],
            "needs_background": "light"
          }
        }
      ]
    },
    {
      "cell_type": "markdown",
      "metadata": {
        "id": "9tBZB7mNzOSA",
        "colab_type": "text"
      },
      "source": [
        "-------------"
      ]
    },
    {
      "cell_type": "markdown",
      "metadata": {
        "id": "3UY_HZ8uzOSA",
        "colab_type": "text"
      },
      "source": [
        "# 3. Dropout"
      ]
    },
    {
      "cell_type": "markdown",
      "metadata": {
        "id": "hdDaKuAMzOSA",
        "colab_type": "text"
      },
      "source": [
        "## <font color=\"blue\"> Question 6\n",
        "    \n",
        "**문제:** 해당 조건에 맞는 모델을 만드시오.\n",
        "    \n",
        "1) 위의 model_basic(Question 2)과 똑같은 구조로 모델을 만든다.\n",
        "\n",
        "2) Dropout을 unit이 64인 부분에 0.3을, 적용 128인 부분에 0.5를 적용한다."
      ]
    },
    {
      "cell_type": "code",
      "metadata": {
        "id": "DcfF2OqpzOSB",
        "colab_type": "code",
        "colab": {}
      },
      "source": [
        "from tensorflow.keras.layers import Dropout"
      ],
      "execution_count": 36,
      "outputs": []
    },
    {
      "cell_type": "code",
      "metadata": {
        "id": "lFv8On5ZzOSE",
        "colab_type": "code",
        "colab": {}
      },
      "source": [
        "def dropout_model():\n",
        "    model = Sequential()\n",
        "    ### START CODE HERE ### (≈ 8 line of code)\n",
        "    model.add(Flatten(input_shape=(28,28)))\n",
        "    model.add(Dense(units=32, activation='relu'))\n",
        "    model.add(Dense(64, 'relu'))\n",
        "    model.add(Dropout(0.3))\n",
        "    model.add(Dense(128, 'relu'))\n",
        "    model.add(Dropout(0.5))\n",
        "    model.add(Dense(units=10, activation='softmax'))\n",
        "    model.compile(optimizer='adam',\n",
        "                  loss='categorical_crossentropy',\n",
        "                  metrics=['accuracy'])\n",
        "    ### END CODE HERE ###\n",
        "    return model"
      ],
      "execution_count": 37,
      "outputs": []
    },
    {
      "cell_type": "code",
      "metadata": {
        "id": "0SSEwBH7zOSG",
        "colab_type": "code",
        "colab": {}
      },
      "source": [
        "model_dpt = dropout_model()\n",
        "\n",
        "# 이 부분에서 error가 날 경우 다시 Question 6를 푸시오.\n",
        "assert(len(model_dpt.layers)==7)\n",
        "assert(len(model_dpt.weights)==8)\n",
        "assert(len(model_dpt.weights[4].numpy())==64)"
      ],
      "execution_count": 38,
      "outputs": []
    },
    {
      "cell_type": "code",
      "metadata": {
        "id": "ZDY_zzOMzOSI",
        "colab_type": "code",
        "colab": {
          "base_uri": "https://localhost:8080/",
          "height": 391
        },
        "outputId": "bcf7a275-7bd2-4eb9-d482-b5d52e67906d"
      },
      "source": [
        "model_dpt.summary()"
      ],
      "execution_count": 39,
      "outputs": [
        {
          "output_type": "stream",
          "text": [
            "Model: \"sequential_4\"\n",
            "_________________________________________________________________\n",
            "Layer (type)                 Output Shape              Param #   \n",
            "=================================================================\n",
            "flatten_3 (Flatten)          (None, 784)               0         \n",
            "_________________________________________________________________\n",
            "dense_11 (Dense)             (None, 32)                25120     \n",
            "_________________________________________________________________\n",
            "dense_12 (Dense)             (None, 64)                2112      \n",
            "_________________________________________________________________\n",
            "dropout (Dropout)            (None, 64)                0         \n",
            "_________________________________________________________________\n",
            "dense_13 (Dense)             (None, 128)               8320      \n",
            "_________________________________________________________________\n",
            "dropout_1 (Dropout)          (None, 128)               0         \n",
            "_________________________________________________________________\n",
            "dense_14 (Dense)             (None, 10)                1290      \n",
            "=================================================================\n",
            "Total params: 36,842\n",
            "Trainable params: 36,842\n",
            "Non-trainable params: 0\n",
            "_________________________________________________________________\n"
          ],
          "name": "stdout"
        }
      ]
    },
    {
      "cell_type": "markdown",
      "metadata": {
        "id": "qvnLoVhwzOSJ",
        "colab_type": "text"
      },
      "source": [
        "----------"
      ]
    },
    {
      "cell_type": "markdown",
      "metadata": {
        "id": "7592vVgbzOSJ",
        "colab_type": "text"
      },
      "source": [
        "## <font color=\"blue\"> Question 7\n",
        "    \n",
        "**문제:** 해당 조건에 맞게 train 하시오. (Question 3와 동일하게 train)\n",
        "    \n",
        "1) 3-way holdout을 맨 위에서 split한 data(x_train, y_train, x_val, y_val)을 이용해서 진행\n",
        "\n",
        "2) epochs은 20으로 설정한다."
      ]
    },
    {
      "cell_type": "code",
      "metadata": {
        "id": "Q0VDlrggzOSK",
        "colab_type": "code",
        "colab": {
          "base_uri": "https://localhost:8080/",
          "height": 697
        },
        "outputId": "d416be4b-a337-4c2f-ce35-af36ae595fac"
      },
      "source": [
        "### START CODE HERE ### (≈ 1 line of code)\n",
        "history_dropout = model_dpt.fit(x_train, y_train, validation_data=(x_val, y_val), epochs= 20)\n",
        "### END CODE HERE ###"
      ],
      "execution_count": 40,
      "outputs": [
        {
          "output_type": "stream",
          "text": [
            "Epoch 1/20\n",
            "938/938 [==============================] - 3s 3ms/step - loss: 0.8071 - accuracy: 0.7076 - val_loss: 0.4984 - val_accuracy: 0.8250\n",
            "Epoch 2/20\n",
            "938/938 [==============================] - 2s 3ms/step - loss: 0.5141 - accuracy: 0.8220 - val_loss: 0.4332 - val_accuracy: 0.8440\n",
            "Epoch 3/20\n",
            "938/938 [==============================] - 2s 3ms/step - loss: 0.4680 - accuracy: 0.8394 - val_loss: 0.4246 - val_accuracy: 0.8482\n",
            "Epoch 4/20\n",
            "938/938 [==============================] - 3s 3ms/step - loss: 0.4388 - accuracy: 0.8481 - val_loss: 0.3913 - val_accuracy: 0.8594\n",
            "Epoch 5/20\n",
            "938/938 [==============================] - 2s 3ms/step - loss: 0.4131 - accuracy: 0.8567 - val_loss: 0.3883 - val_accuracy: 0.8633\n",
            "Epoch 6/20\n",
            "938/938 [==============================] - 2s 3ms/step - loss: 0.3968 - accuracy: 0.8620 - val_loss: 0.3830 - val_accuracy: 0.8620\n",
            "Epoch 7/20\n",
            "938/938 [==============================] - 3s 3ms/step - loss: 0.3892 - accuracy: 0.8654 - val_loss: 0.4188 - val_accuracy: 0.8494\n",
            "Epoch 8/20\n",
            "938/938 [==============================] - 2s 3ms/step - loss: 0.3774 - accuracy: 0.8682 - val_loss: 0.3636 - val_accuracy: 0.8708\n",
            "Epoch 9/20\n",
            "938/938 [==============================] - 3s 3ms/step - loss: 0.3650 - accuracy: 0.8710 - val_loss: 0.3754 - val_accuracy: 0.8674\n",
            "Epoch 10/20\n",
            "938/938 [==============================] - 2s 3ms/step - loss: 0.3561 - accuracy: 0.8738 - val_loss: 0.3791 - val_accuracy: 0.8674\n",
            "Epoch 11/20\n",
            "938/938 [==============================] - 2s 3ms/step - loss: 0.3481 - accuracy: 0.8775 - val_loss: 0.3892 - val_accuracy: 0.8630\n",
            "Epoch 12/20\n",
            "938/938 [==============================] - 2s 3ms/step - loss: 0.3417 - accuracy: 0.8784 - val_loss: 0.3738 - val_accuracy: 0.8742\n",
            "Epoch 13/20\n",
            "938/938 [==============================] - 2s 3ms/step - loss: 0.3350 - accuracy: 0.8804 - val_loss: 0.3892 - val_accuracy: 0.8691\n",
            "Epoch 14/20\n",
            "938/938 [==============================] - 2s 3ms/step - loss: 0.3348 - accuracy: 0.8798 - val_loss: 0.3752 - val_accuracy: 0.8715\n",
            "Epoch 15/20\n",
            "938/938 [==============================] - 2s 3ms/step - loss: 0.3222 - accuracy: 0.8840 - val_loss: 0.3768 - val_accuracy: 0.8735\n",
            "Epoch 16/20\n",
            "938/938 [==============================] - 2s 3ms/step - loss: 0.3171 - accuracy: 0.8873 - val_loss: 0.3667 - val_accuracy: 0.8758\n",
            "Epoch 17/20\n",
            "938/938 [==============================] - 3s 3ms/step - loss: 0.3145 - accuracy: 0.8886 - val_loss: 0.3729 - val_accuracy: 0.8735\n",
            "Epoch 18/20\n",
            "938/938 [==============================] - 3s 3ms/step - loss: 0.3139 - accuracy: 0.8886 - val_loss: 0.3776 - val_accuracy: 0.8743\n",
            "Epoch 19/20\n",
            "938/938 [==============================] - 2s 3ms/step - loss: 0.3052 - accuracy: 0.8894 - val_loss: 0.3804 - val_accuracy: 0.8722\n",
            "Epoch 20/20\n",
            "938/938 [==============================] - 2s 3ms/step - loss: 0.3032 - accuracy: 0.8918 - val_loss: 0.3828 - val_accuracy: 0.8743\n"
          ],
          "name": "stdout"
        }
      ]
    },
    {
      "cell_type": "code",
      "metadata": {
        "id": "XjbkVyPvzOSL",
        "colab_type": "code",
        "colab": {
          "base_uri": "https://localhost:8080/",
          "height": 295
        },
        "outputId": "c46aa92a-dde3-4a57-e03b-86d2106498c1"
      },
      "source": [
        "loss = history_dropout.history['loss']\n",
        "val_loss = history_dropout.history['val_loss']\n",
        "\n",
        "epochs = range(1, len(loss) + 1)\n",
        "\n",
        "plt.plot(epochs, loss, 'r', label = 'Training loss')\n",
        "plt.plot(epochs, val_loss, 'b', label = 'Validation loss')\n",
        "plt.title('Training and validation loss')\n",
        "plt.xlabel('Epochs')\n",
        "plt.ylabel('Loss')\n",
        "plt.legend()       \n",
        "\n",
        "plt.show()"
      ],
      "execution_count": 41,
      "outputs": [
        {
          "output_type": "display_data",
          "data": {
            "image/png": "[encoded data removed]",
            "text/plain": [
              "<Figure size 432x288 with 1 Axes>"
            ]
          },
          "metadata": {
            "tags": [],
            "needs_background": "light"
          }
        }
      ]
    },
    {
      "cell_type": "code",
      "metadata": {
        "id": "Z-CB7_IqzOSN",
        "colab_type": "code",
        "colab": {
          "base_uri": "https://localhost:8080/",
          "height": 295
        },
        "outputId": "bad70a96-f905-4ec6-eda2-e1a979db6125"
      },
      "source": [
        "acc = history_dropout.history['accuracy']\n",
        "val_acc = history_dropout.history['val_accuracy']\n",
        "\n",
        "plt.plot(epochs, acc, 'r', label = 'Training accuracy')\n",
        "plt.plot(epochs, val_acc, 'b', label = 'Validation accuracy')\n",
        "plt.title('Training and validation accuracy')\n",
        "plt.xlabel('Epochs')\n",
        "plt.ylabel('Accuracy')\n",
        "plt.legend()\n",
        "\n",
        "plt.show()"
      ],
      "execution_count": 42,
      "outputs": [
        {
          "output_type": "display_data",
          "data": {
            "image/png": "[encoded data removed]",
            "text/plain": [
              "<Figure size 432x288 with 1 Axes>"
            ]
          },
          "metadata": {
            "tags": [],
            "needs_background": "light"
          }
        }
      ]
    },
    {
      "cell_type": "code",
      "metadata": {
        "id": "je8P7LuhzOSP",
        "colab_type": "code",
        "colab": {}
      },
      "source": [
        "def plot_history(histories, key='accuracy'):\n",
        "    plt.figure(figsize=(16,10))\n",
        "\n",
        "    for name, history in histories:\n",
        "        val = plt.plot(history.epoch, history.history['val_'+key],\n",
        "                       '--', label=name.title()+' Val')\n",
        "        plt.plot(history.epoch, history.history[key], color=val[0].get_color(),\n",
        "                 label=name.title()+' Train')\n",
        "\n",
        "    plt.xlabel('Epochs')\n",
        "    plt.ylabel(key.replace('_',' ').title())\n",
        "    plt.legend()\n",
        "\n",
        "    plt.xlim([0,max(history.epoch)])"
      ],
      "execution_count": 43,
      "outputs": []
    },
    {
      "cell_type": "code",
      "metadata": {
        "id": "v2faLnIlzOSR",
        "colab_type": "code",
        "colab": {
          "base_uri": "https://localhost:8080/",
          "height": 606
        },
        "outputId": "6a9b416f-7784-4b43-c218-7c91516963cc"
      },
      "source": [
        "plot_history([('basic', history_basic),\n",
        "              ('regularization', history_regularizer),\n",
        "              ('dropout', history_dropout)])"
      ],
      "execution_count": 45,
      "outputs": [
        {
          "output_type": "display_data",
          "data": {
            "image/png": "[encoded data removed]",
            "text/plain": [
              "<Figure size 1152x720 with 1 Axes>"
            ]
          },
          "metadata": {
            "tags": [],
            "needs_background": "light"
          }
        }
      ]
    },
    {
      "cell_type": "markdown",
      "metadata": {
        "id": "gLIkHy7NzOST",
        "colab_type": "text"
      },
      "source": [
        "#### <font color=\"orange\"> overfitting이 없어지긴 했으나 생각만큼 performance가 좋지 않을 것입니다.\n",
        "    \n",
        "#### <font color=\"orange\"> 그 이유는 무엇일까요? \n",
        "    "
      ]
    },
    {
      "cell_type": "markdown",
      "metadata": {
        "id": "r8SZ14oTzOST",
        "colab_type": "text"
      },
      "source": [
        "#### <font color=\"red\"> 과제를 다 해결하셨다면 밑의 ...을 클릭해서 그 이유를 보시기 바랍니다."
      ]
    },
    {
      "cell_type": "markdown",
      "metadata": {
        "jupyter": {
          "source_hidden": true
        },
        "id": "weNeIEoXzOSU",
        "colab_type": "text"
      },
      "source": [
        "    \n",
        "#### <font color=\"orange\"> 현재 상황은 overfit보다는 underfit에 가깝고 underfit을 해결하는 것이 우선이기 때문입니다. (C2 W1 L3)\n",
        "    \n",
        "#### <font color=\"orange\"> 프로젝트 하실 때 overfit보다 underfit이 심한데 dropout과 같은 기법을 우선으로 쓰는 경우들이 많습니다.\n",
        "    \n",
        "#### <font color=\"orange\"> 꼭 underfit일 때는 그에 맞는 전략을 먼저 사용해야 합니다.\n",
        "    \n",
        "#### <font color=\"orange\"> underfit을 해결하는 전략은 7주차 수업 때 배우게 됩니다."
      ]
    },
    {
      "cell_type": "code",
      "metadata": {
        "id": "Wl7hXAy2zOSV",
        "colab_type": "code",
        "colab": {}
      },
      "source": [
        ""
      ],
      "execution_count": null,
      "outputs": []
    }
  ]
}