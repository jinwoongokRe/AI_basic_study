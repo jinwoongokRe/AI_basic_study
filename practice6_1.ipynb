{
  "nbformat": 4,
  "nbformat_minor": 0,
  "metadata": {
    "colab": {
      "name": "practice6-1.ipynb",
      "provenance": [],
      "authorship_tag": "ABX9TyNLv7444Ff2qytDTKjrU1NB",
      "include_colab_link": true
    },
    "kernelspec": {
      "name": "python3",
      "display_name": "Python 3"
    }
  },
  "cells": [
    {
      "cell_type": "markdown",
      "metadata": {
        "id": "view-in-github",
        "colab_type": "text"
      },
      "source": [
        "<a href=\"https://colab.research.google.com/github/jinwoongokRe/AI_basic_study/blob/master/practice6_1.ipynb\" target=\"_parent\"><img src=\"https://colab.research.google.com/assets/colab-badge.svg\" alt=\"Open In Colab\"/></a>"
      ]
    },
    {
      "cell_type": "code",
      "metadata": {
        "id": "l2oAlWFT35bB",
        "colab_type": "code",
        "colab": {}
      },
      "source": [
        "from tensorflow.keras.datasets import mnist # data 불러오기(손 글씨 숫자 데이터넷)"
      ],
      "execution_count": 2,
      "outputs": []
    },
    {
      "cell_type": "code",
      "metadata": {
        "id": "vLbJipF64El7",
        "colab_type": "code",
        "colab": {
          "base_uri": "https://localhost:8080/",
          "height": 51
        },
        "outputId": "14162184-d58b-4712-95dd-814254336ba4"
      },
      "source": [
        "(x_train, y_train), (x_test, y_test) = mnist.load_data()"
      ],
      "execution_count": 3,
      "outputs": [
        {
          "output_type": "stream",
          "text": [
            "Downloading data from https://storage.googleapis.com/tensorflow/tf-keras-datasets/mnist.npz\n",
            "11493376/11490434 [==============================] - 0s 0us/step\n"
          ],
          "name": "stdout"
        }
      ]
    },
    {
      "cell_type": "code",
      "metadata": {
        "id": "lkIyu6Ld4Q_V",
        "colab_type": "code",
        "colab": {
          "base_uri": "https://localhost:8080/",
          "height": 34
        },
        "outputId": "46f4400a-96eb-4fbf-f64d-e8cc15f551f9"
      },
      "source": [
        "x_train.shape"
      ],
      "execution_count": 4,
      "outputs": [
        {
          "output_type": "execute_result",
          "data": {
            "text/plain": [
              "(60000, 28, 28)"
            ]
          },
          "metadata": {
            "tags": []
          },
          "execution_count": 4
        }
      ]
    },
    {
      "cell_type": "code",
      "metadata": {
        "id": "MGsTFS6E4Z6k",
        "colab_type": "code",
        "colab": {}
      },
      "source": [
        "#data 잘 불러왔는지 확인"
      ],
      "execution_count": 5,
      "outputs": []
    },
    {
      "cell_type": "code",
      "metadata": {
        "id": "6L513qzN4hCQ",
        "colab_type": "code",
        "colab": {
          "base_uri": "https://localhost:8080/",
          "height": 299
        },
        "outputId": "94999a37-e13f-4b03-d66b-3a436a22f981"
      },
      "source": [
        "import matplotlib.pyplot as plt\n",
        "%matplotlib inline \n",
        "#셀 안에 그림 그리는 조건\n",
        "\n",
        "index= 50 #index설정에 따라 원하는 data를 골라서 그릴 수 있다.\n",
        "img = x_train[index]\n",
        "print(y_train[index])\n",
        "plt.imshow(img, cmap='gray')"
      ],
      "execution_count": 6,
      "outputs": [
        {
          "output_type": "stream",
          "text": [
            "3\n"
          ],
          "name": "stdout"
        },
        {
          "output_type": "execute_result",
          "data": {
            "text/plain": [
              "<matplotlib.image.AxesImage at 0x7fbe0c14c860>"
            ]
          },
          "metadata": {
            "tags": []
          },
          "execution_count": 6
        },
        {
          "output_type": "display_data",
          "data": {
            "image/png": "[encoded data removed]",
            "text/plain": [
              "<Figure size 432x288 with 1 Axes>"
            ]
          },
          "metadata": {
            "tags": [],
            "needs_background": "light"
          }
        }
      ]
    },
    {
      "cell_type": "code",
      "metadata": {
        "id": "b0z6SRWH479z",
        "colab_type": "code",
        "colab": {}
      },
      "source": [
        "#1) 형변환 (astype)"
      ],
      "execution_count": 7,
      "outputs": []
    },
    {
      "cell_type": "code",
      "metadata": {
        "id": "CIaIHgEAs6r1",
        "colab_type": "code",
        "colab": {}
      },
      "source": [
        "x_train = x_train.astype('float32') #32bit 실수형 / np.ndarray.astype은 numpy에 검색하면 형 변환 해주는 함수\n",
        "x_test = x_test.astype('float32')"
      ],
      "execution_count": 8,
      "outputs": []
    },
    {
      "cell_type": "code",
      "metadata": {
        "id": "k-jKBAlho83f",
        "colab_type": "code",
        "colab": {
          "base_uri": "https://localhost:8080/",
          "height": 34
        },
        "outputId": "60bcb4fd-9de5-4a0c-e5cc-9becdebb8fd7"
      },
      "source": [
        "#2) normalize\n",
        "x_train /= 255\n",
        "x_test /= 255\n",
        "#flatten 전\n",
        "x_train.shape"
      ],
      "execution_count": 9,
      "outputs": [
        {
          "output_type": "execute_result",
          "data": {
            "text/plain": [
              "(60000, 28, 28)"
            ]
          },
          "metadata": {
            "tags": []
          },
          "execution_count": 9
        }
      ]
    },
    {
      "cell_type": "code",
      "metadata": {
        "id": "pDgIstzRpUlg",
        "colab_type": "code",
        "colab": {}
      },
      "source": [
        "#3)flatten\n",
        "x_train = x_train.reshape(60000, 28*28)\n",
        "x_test = x_test.reshape(10000, 28*28)"
      ],
      "execution_count": 10,
      "outputs": []
    },
    {
      "cell_type": "code",
      "metadata": {
        "id": "oXHMmIwH-09U",
        "colab_type": "code",
        "colab": {
          "base_uri": "https://localhost:8080/",
          "height": 34
        },
        "outputId": "44cfd749-2de0-4913-d01b-1b6e78bd3b94"
      },
      "source": [
        "x_train.shape"
      ],
      "execution_count": 11,
      "outputs": [
        {
          "output_type": "execute_result",
          "data": {
            "text/plain": [
              "(60000, 784)"
            ]
          },
          "metadata": {
            "tags": []
          },
          "execution_count": 11
        }
      ]
    },
    {
      "cell_type": "code",
      "metadata": {
        "id": "tTBoEOGo_Fay",
        "colab_type": "code",
        "colab": {
          "base_uri": "https://localhost:8080/",
          "height": 34
        },
        "outputId": "68c83b0c-3d52-484d-c9b9-d2e917e12326"
      },
      "source": [
        "y_train"
      ],
      "execution_count": 12,
      "outputs": [
        {
          "output_type": "execute_result",
          "data": {
            "text/plain": [
              "array([5, 0, 4, ..., 5, 6, 8], dtype=uint8)"
            ]
          },
          "metadata": {
            "tags": []
          },
          "execution_count": 12
        }
      ]
    },
    {
      "cell_type": "code",
      "metadata": {
        "id": "xo4jtMneBUsr",
        "colab_type": "code",
        "colab": {}
      },
      "source": [
        "#4) one-hot encoding\n",
        "\n",
        "#아직하지 않기."
      ],
      "execution_count": 13,
      "outputs": []
    },
    {
      "cell_type": "markdown",
      "metadata": {
        "id": "yEeOJ-6IBqGn",
        "colab_type": "text"
      },
      "source": [
        "## **4.모델만들기**\n",
        "\n",
        "1> 첫 번째 layer는 input_dim(feature 개수)을 설정해야 한다.\n",
        "\n",
        "2> 마지막 layer는 우리가 진행하는 일이 regression, binary, multiclass이냐에 따라 다르게 설정한다."
      ]
    },
    {
      "cell_type": "code",
      "metadata": {
        "id": "UkgJ1P2ABmER",
        "colab_type": "code",
        "colab": {}
      },
      "source": [
        "from tensorflow.keras.models import Sequential\n",
        "from tensorflow.keras.layers import Activation, Dense\n"
      ],
      "execution_count": 14,
      "outputs": []
    },
    {
      "cell_type": "code",
      "metadata": {
        "id": "XPqLy3m6DXI4",
        "colab_type": "code",
        "colab": {}
      },
      "source": [
        "model = Sequential()\n",
        "model.add(Dense(units=64, input_dim = 28*28, activation='relu')) #input_dim 대신에 input_shape사용가능\n",
        "model.add(Dense(17, 'relu'))\n",
        "model.add(Dense(units= 10, activation='softmax')) #마지막 layer는 multiclass여서 activation을 softmax"
      ],
      "execution_count": 15,
      "outputs": []
    },
    {
      "cell_type": "code",
      "metadata": {
        "id": "s3q3RpDEFQVo",
        "colab_type": "code",
        "colab": {
          "base_uri": "https://localhost:8080/",
          "height": 255
        },
        "outputId": "ae3251ba-6f4f-46fe-d939-0e1f3ee553d0"
      },
      "source": [
        "model.summary()"
      ],
      "execution_count": 16,
      "outputs": [
        {
          "output_type": "stream",
          "text": [
            "Model: \"sequential\"\n",
            "_________________________________________________________________\n",
            "Layer (type)                 Output Shape              Param #   \n",
            "=================================================================\n",
            "dense (Dense)                (None, 64)                50240     \n",
            "_________________________________________________________________\n",
            "dense_1 (Dense)              (None, 17)                1105      \n",
            "_________________________________________________________________\n",
            "dense_2 (Dense)              (None, 10)                180       \n",
            "=================================================================\n",
            "Total params: 51,525\n",
            "Trainable params: 51,525\n",
            "Non-trainable params: 0\n",
            "_________________________________________________________________\n"
          ],
          "name": "stdout"
        }
      ]
    },
    {
      "cell_type": "markdown",
      "metadata": {
        "id": "FYlYzYVBH2mP",
        "colab_type": "text"
      },
      "source": [
        "5.모델의 학습과정 설정"
      ]
    },
    {
      "cell_type": "code",
      "metadata": {
        "id": "5GKqiRCZFTBg",
        "colab_type": "code",
        "colab": {}
      },
      "source": [
        "model.compile(optimizer= 'adam',\n",
        "              loss = 'sparse_categorical_crossentropy',\n",
        "              metrics = ['accuracy'])"
      ],
      "execution_count": 17,
      "outputs": []
    },
    {
      "cell_type": "markdown",
      "metadata": {
        "id": "xZKbSJAFIfyx",
        "colab_type": "text"
      },
      "source": [
        "6.모델학습"
      ]
    },
    {
      "cell_type": "code",
      "metadata": {
        "id": "9qRpIdksIYfd",
        "colab_type": "code",
        "colab": {}
      },
      "source": [
        "#fit"
      ],
      "execution_count": 18,
      "outputs": []
    },
    {
      "cell_type": "code",
      "metadata": {
        "id": "CiPMiSn7Ixau",
        "colab_type": "code",
        "colab": {
          "base_uri": "https://localhost:8080/",
          "height": 187
        },
        "outputId": "fbd4bc4b-5839-4d83-b00b-d80563426e93"
      },
      "source": [
        "history = model.fit(x_train, y_train, validation_split=1/6, epochs=5)"
      ],
      "execution_count": 19,
      "outputs": [
        {
          "output_type": "stream",
          "text": [
            "Epoch 1/5\n",
            "1563/1563 [==============================] - 3s 2ms/step - loss: 0.3310 - accuracy: 0.9047 - val_loss: 0.1735 - val_accuracy: 0.9539\n",
            "Epoch 2/5\n",
            "1563/1563 [==============================] - 2s 2ms/step - loss: 0.1593 - accuracy: 0.9525 - val_loss: 0.1405 - val_accuracy: 0.9596\n",
            "Epoch 3/5\n",
            "1563/1563 [==============================] - 2s 2ms/step - loss: 0.1146 - accuracy: 0.9654 - val_loss: 0.1119 - val_accuracy: 0.9676\n",
            "Epoch 4/5\n",
            "1563/1563 [==============================] - 3s 2ms/step - loss: 0.0914 - accuracy: 0.9727 - val_loss: 0.1162 - val_accuracy: 0.9660\n",
            "Epoch 5/5\n",
            "1563/1563 [==============================] - 2s 2ms/step - loss: 0.0742 - accuracy: 0.9768 - val_loss: 0.1095 - val_accuracy: 0.9676\n"
          ],
          "name": "stdout"
        }
      ]
    },
    {
      "cell_type": "code",
      "metadata": {
        "id": "8DgmFl3YJVru",
        "colab_type": "code",
        "colab": {}
      },
      "source": [
        "#history\n",
        "#1. model.fit의 return값\n",
        "#2. train 과정에서 일어나는 현상들을 기록"
      ],
      "execution_count": 20,
      "outputs": []
    },
    {
      "cell_type": "code",
      "metadata": {
        "id": "7Zg_PdnzLIDN",
        "colab_type": "code",
        "colab": {
          "base_uri": "https://localhost:8080/",
          "height": 102
        },
        "outputId": "7de9b0f1-8593-405a-f5fd-95a7b2f601df"
      },
      "source": [
        "history.history['loss']"
      ],
      "execution_count": 21,
      "outputs": [
        {
          "output_type": "execute_result",
          "data": {
            "text/plain": [
              "[0.33100461959838867,\n",
              " 0.15927942097187042,\n",
              " 0.11461985111236572,\n",
              " 0.09144673496484756,\n",
              " 0.07423920929431915]"
            ]
          },
          "metadata": {
            "tags": []
          },
          "execution_count": 21
        }
      ]
    },
    {
      "cell_type": "code",
      "metadata": {
        "id": "_4lM83P0LTbb",
        "colab_type": "code",
        "colab": {
          "base_uri": "https://localhost:8080/",
          "height": 459
        },
        "outputId": "4e5c0526-43c0-46cc-b893-673d5d99c4c6"
      },
      "source": [
        "vars(history) #vars:python내장함수, 해당객체의 모듈,클래스, 인스턴스의 값을 넘긴다.\n"
      ],
      "execution_count": 22,
      "outputs": [
        {
          "output_type": "execute_result",
          "data": {
            "text/plain": [
              "{'_chief_worker_only': None,\n",
              " '_supports_tf_logs': False,\n",
              " 'epoch': [0, 1, 2, 3, 4],\n",
              " 'history': {'accuracy': [0.9047200083732605,\n",
              "   0.9525200128555298,\n",
              "   0.965399980545044,\n",
              "   0.9726999998092651,\n",
              "   0.9768199920654297],\n",
              "  'loss': [0.33100461959838867,\n",
              "   0.15927942097187042,\n",
              "   0.11461985111236572,\n",
              "   0.09144673496484756,\n",
              "   0.07423920929431915],\n",
              "  'val_accuracy': [0.9538999795913696,\n",
              "   0.9595999717712402,\n",
              "   0.9675999879837036,\n",
              "   0.9660000205039978,\n",
              "   0.9675999879837036],\n",
              "  'val_loss': [0.1734805703163147,\n",
              "   0.1404874473810196,\n",
              "   0.11187492311000824,\n",
              "   0.11619505286216736,\n",
              "   0.10945229232311249]},\n",
              " 'model': <tensorflow.python.keras.engine.sequential.Sequential at 0x7fbe0c0b0d68>,\n",
              " 'params': {'epochs': 5, 'steps': 1563, 'verbose': 1},\n",
              " 'validation_data': None}"
            ]
          },
          "metadata": {
            "tags": []
          },
          "execution_count": 22
        }
      ]
    },
    {
      "cell_type": "code",
      "metadata": {
        "id": "USLLSCCILiut",
        "colab_type": "code",
        "colab": {}
      },
      "source": [
        "class FourCal:\n",
        "  def __init__(self, first, second):\n",
        "    self.first = first\n",
        "    self.second = second\n",
        "  a=1\n",
        "\n",
        "  def setdata(self, first, second):\n",
        "    self.first = first\n",
        "    self.second = second\n",
        "  def add(self):\n",
        "    result= self.first + self.second\n",
        "    return result\n",
        "  def mul(self):\n",
        "    result = self.first * self.second\n",
        "    return result\n",
        "  def sub(self):\n",
        "    result = self.first - self.second\n",
        "    return result\n",
        "  def div(self):\n",
        "    result = self.first / self.second\n",
        "    return result\n"
      ],
      "execution_count": 24,
      "outputs": []
    },
    {
      "cell_type": "code",
      "metadata": {
        "id": "V5lG7qatqEBb",
        "colab_type": "code",
        "colab": {
          "base_uri": "https://localhost:8080/",
          "height": 204
        },
        "outputId": "08edb4ca-6e6a-4b78-a1e4-5d1b4105cd73"
      },
      "source": [
        "vars(FourCal)"
      ],
      "execution_count": 25,
      "outputs": [
        {
          "output_type": "execute_result",
          "data": {
            "text/plain": [
              "mappingproxy({'__dict__': <attribute '__dict__' of 'FourCal' objects>,\n",
              "              '__doc__': None,\n",
              "              '__init__': <function __main__.FourCal.__init__>,\n",
              "              '__module__': '__main__',\n",
              "              '__weakref__': <attribute '__weakref__' of 'FourCal' objects>,\n",
              "              'a': 1,\n",
              "              'add': <function __main__.FourCal.add>,\n",
              "              'div': <function __main__.FourCal.div>,\n",
              "              'mul': <function __main__.FourCal.mul>,\n",
              "              'setdata': <function __main__.FourCal.setdata>,\n",
              "              'sub': <function __main__.FourCal.sub>})"
            ]
          },
          "metadata": {
            "tags": []
          },
          "execution_count": 25
        }
      ]
    },
    {
      "cell_type": "code",
      "metadata": {
        "id": "G875wP-jsLli",
        "colab_type": "code",
        "colab": {
          "base_uri": "https://localhost:8080/",
          "height": 187
        },
        "outputId": "685bd3e0-4467-49f0-85b6-34150e1f1aec"
      },
      "source": [
        "# add메서드의 단점\n",
        "history = model.fit(x_train, y_train, validation_split=1/6, epochs=5)"
      ],
      "execution_count": 26,
      "outputs": [
        {
          "output_type": "stream",
          "text": [
            "Epoch 1/5\n",
            "1563/1563 [==============================] - 3s 2ms/step - loss: 0.0632 - accuracy: 0.9802 - val_loss: 0.1003 - val_accuracy: 0.9724\n",
            "Epoch 2/5\n",
            "1563/1563 [==============================] - 3s 2ms/step - loss: 0.0526 - accuracy: 0.9836 - val_loss: 0.0942 - val_accuracy: 0.9730\n",
            "Epoch 3/5\n",
            "1563/1563 [==============================] - 3s 2ms/step - loss: 0.0446 - accuracy: 0.9862 - val_loss: 0.1087 - val_accuracy: 0.9701\n",
            "Epoch 4/5\n",
            "1563/1563 [==============================] - 2s 2ms/step - loss: 0.0385 - accuracy: 0.9876 - val_loss: 0.1081 - val_accuracy: 0.9714\n",
            "Epoch 5/5\n",
            "1563/1563 [==============================] - 2s 2ms/step - loss: 0.0346 - accuracy: 0.9889 - val_loss: 0.1170 - val_accuracy: 0.9706\n"
          ],
          "name": "stdout"
        }
      ]
    },
    {
      "cell_type": "code",
      "metadata": {
        "id": "lFqu3uVGsZai",
        "colab_type": "code",
        "colab": {}
      },
      "source": [
        "#fit을 연달아 하면(epoch 5회) >> 이미 5회 학습된 상태에서 5회 추가로 학습하는 것이기 때문에 >> 총 epoch가 10인 상황"
      ],
      "execution_count": 27,
      "outputs": []
    },
    {
      "cell_type": "code",
      "metadata": {
        "id": "-H4NRSwUsx5Y",
        "colab_type": "code",
        "colab": {}
      },
      "source": [
        "#하지만 다른 epoch으로 처음부터 다시하고 싶은데\n",
        "#1)'del model'을 하"
      ],
      "execution_count": null,
      "outputs": []
    }
  ]
}