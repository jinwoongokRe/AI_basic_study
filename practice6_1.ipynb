{
  "nbformat": 4,
  "nbformat_minor": 0,
  "metadata": {
    "colab": {
      "name": "practice6-1.ipynb",
      "provenance": [],
      "authorship_tag": "ABX9TyOzLU2pZItdqz7dLfSZnixj",
      "include_colab_link": true
    },
    "kernelspec": {
      "name": "python3",
      "display_name": "Python 3"
    }
  },
  "cells": [
    {
      "cell_type": "markdown",
      "metadata": {
        "id": "view-in-github",
        "colab_type": "text"
      },
      "source": [
        "<a href=\"https://colab.research.google.com/github/jinwoongokRe/AI_basic_study/blob/master/practice6_1.ipynb\" target=\"_parent\"><img src=\"https://colab.research.google.com/assets/colab-badge.svg\" alt=\"Open In Colab\"/></a>"
      ]
    },
    {
      "cell_type": "code",
      "metadata": {
        "id": "l2oAlWFT35bB",
        "colab_type": "code",
        "colab": {}
      },
      "source": [
        "from tensorflow.keras.datasets import mnist # data 불러오기(손 글씨 숫자 데이터넷)"
      ],
      "execution_count": 39,
      "outputs": []
    },
    {
      "cell_type": "code",
      "metadata": {
        "id": "vLbJipF64El7",
        "colab_type": "code",
        "colab": {}
      },
      "source": [
        "(x_train, y_train), (x_test, y_test) = mnist.load_data()"
      ],
      "execution_count": 40,
      "outputs": []
    },
    {
      "cell_type": "code",
      "metadata": {
        "id": "lkIyu6Ld4Q_V",
        "colab_type": "code",
        "colab": {
          "base_uri": "https://localhost:8080/",
          "height": 34
        },
        "outputId": "e3a3733d-a1fa-4c3f-e769-7e68e5a9d28f"
      },
      "source": [
        "x_train.shape"
      ],
      "execution_count": 41,
      "outputs": [
        {
          "output_type": "execute_result",
          "data": {
            "text/plain": [
              "(60000, 28, 28)"
            ]
          },
          "metadata": {
            "tags": []
          },
          "execution_count": 41
        }
      ]
    },
    {
      "cell_type": "code",
      "metadata": {
        "id": "MGsTFS6E4Z6k",
        "colab_type": "code",
        "colab": {}
      },
      "source": [
        "#data 잘 불러왔는지 확인"
      ],
      "execution_count": 42,
      "outputs": []
    },
    {
      "cell_type": "code",
      "metadata": {
        "id": "6L513qzN4hCQ",
        "colab_type": "code",
        "colab": {
          "base_uri": "https://localhost:8080/",
          "height": 299
        },
        "outputId": "206ad972-ea89-4449-92e4-bb4997f90158"
      },
      "source": [
        "import matplotlib.pyplot as plt\n",
        "%matplotlib inline \n",
        "#셀 안에 그림 그리는 조건\n",
        "\n",
        "index= 50 #index설정에 따라 원하는 data를 골라서 그릴 수 있다.\n",
        "img = x_train[index]\n",
        "print(y_train[index])\n",
        "plt.imshow(img, cmap='gray')"
      ],
      "execution_count": 43,
      "outputs": [
        {
          "output_type": "stream",
          "text": [
            "3\n"
          ],
          "name": "stdout"
        },
        {
          "output_type": "execute_result",
          "data": {
            "text/plain": [
              "<matplotlib.image.AxesImage at 0x7fbdfab38cf8>"
            ]
          },
          "metadata": {
            "tags": []
          },
          "execution_count": 43
        },
        {
          "output_type": "display_data",
          "data": {
            "image/png": "[encoded data removed]",
            "text/plain": [
              "<Figure size 432x288 with 1 Axes>"
            ]
          },
          "metadata": {
            "tags": [],
            "needs_background": "light"
          }
        }
      ]
    },
    {
      "cell_type": "code",
      "metadata": {
        "id": "b0z6SRWH479z",
        "colab_type": "code",
        "colab": {}
      },
      "source": [
        "#1) 형변환 (astype)"
      ],
      "execution_count": 44,
      "outputs": []
    },
    {
      "cell_type": "code",
      "metadata": {
        "id": "CIaIHgEAs6r1",
        "colab_type": "code",
        "colab": {}
      },
      "source": [
        "x_train = x_train.astype('float32') #32bit 실수형 / np.ndarray.astype은 numpy에 검색하면 형 변환 해주는 함수\n",
        "x_test = x_test.astype('float32')"
      ],
      "execution_count": 45,
      "outputs": []
    },
    {
      "cell_type": "code",
      "metadata": {
        "id": "k-jKBAlho83f",
        "colab_type": "code",
        "colab": {
          "base_uri": "https://localhost:8080/",
          "height": 34
        },
        "outputId": "6a55e1f7-077a-43c0-879f-73d4f0a39804"
      },
      "source": [
        "#2) normalize\n",
        "x_train /= 255\n",
        "x_test /= 255\n",
        "#flatten 전\n",
        "x_train.shape"
      ],
      "execution_count": 46,
      "outputs": [
        {
          "output_type": "execute_result",
          "data": {
            "text/plain": [
              "(60000, 28, 28)"
            ]
          },
          "metadata": {
            "tags": []
          },
          "execution_count": 46
        }
      ]
    },
    {
      "cell_type": "code",
      "metadata": {
        "id": "pDgIstzRpUlg",
        "colab_type": "code",
        "colab": {}
      },
      "source": [
        "#3)flatten\n",
        "x_train = x_train.reshape(60000, 28*28)\n",
        "x_test = x_test.reshape(10000, 28*28)"
      ],
      "execution_count": 47,
      "outputs": []
    },
    {
      "cell_type": "code",
      "metadata": {
        "id": "oXHMmIwH-09U",
        "colab_type": "code",
        "colab": {
          "base_uri": "https://localhost:8080/",
          "height": 34
        },
        "outputId": "0deab876-f679-4a07-f7dd-9f1937088079"
      },
      "source": [
        "x_train.shape"
      ],
      "execution_count": 48,
      "outputs": [
        {
          "output_type": "execute_result",
          "data": {
            "text/plain": [
              "(60000, 784)"
            ]
          },
          "metadata": {
            "tags": []
          },
          "execution_count": 48
        }
      ]
    },
    {
      "cell_type": "code",
      "metadata": {
        "id": "tTBoEOGo_Fay",
        "colab_type": "code",
        "colab": {
          "base_uri": "https://localhost:8080/",
          "height": 34
        },
        "outputId": "7a5d531c-8bd1-4486-ce0d-10bccf9b4ba8"
      },
      "source": [
        "y_train"
      ],
      "execution_count": 49,
      "outputs": [
        {
          "output_type": "execute_result",
          "data": {
            "text/plain": [
              "array([5, 0, 4, ..., 5, 6, 8], dtype=uint8)"
            ]
          },
          "metadata": {
            "tags": []
          },
          "execution_count": 49
        }
      ]
    },
    {
      "cell_type": "code",
      "metadata": {
        "id": "xo4jtMneBUsr",
        "colab_type": "code",
        "colab": {}
      },
      "source": [
        "#4) one-hot encoding\n",
        "\n",
        "#아직하지 않기."
      ],
      "execution_count": 50,
      "outputs": []
    },
    {
      "cell_type": "markdown",
      "metadata": {
        "id": "yEeOJ-6IBqGn",
        "colab_type": "text"
      },
      "source": [
        "## **4.모델만들기**\n",
        "\n",
        "1> 첫 번째 layer는 input_dim(feature 개수)을 설정해야 한다.\n",
        "\n",
        "2> 마지막 layer는 우리가 진행하는 일이 regression, binary, multiclass이냐에 따라 다르게 설정한다."
      ]
    },
    {
      "cell_type": "code",
      "metadata": {
        "id": "UkgJ1P2ABmER",
        "colab_type": "code",
        "colab": {}
      },
      "source": [
        "from tensorflow.keras.models import Sequential\n",
        "from tensorflow.keras.layers import Activation, Dense\n"
      ],
      "execution_count": 51,
      "outputs": []
    },
    {
      "cell_type": "code",
      "metadata": {
        "id": "XPqLy3m6DXI4",
        "colab_type": "code",
        "colab": {}
      },
      "source": [
        "model = Sequential()\n",
        "model.add(Dense(units=64, input_dim = 28*28, activation='relu')) #input_dim 대신에 input_shape사용가능\n",
        "model.add(Dense(17, 'relu'))\n",
        "model.add(Dense(units= 10, activation='softmax')) #마지막 layer는 multiclass여서 activation을 softmax"
      ],
      "execution_count": 52,
      "outputs": []
    },
    {
      "cell_type": "code",
      "metadata": {
        "id": "s3q3RpDEFQVo",
        "colab_type": "code",
        "colab": {
          "base_uri": "https://localhost:8080/",
          "height": 255
        },
        "outputId": "0bcf4839-ab26-4996-8dcb-eed1b21587ce"
      },
      "source": [
        "model.summary()"
      ],
      "execution_count": 53,
      "outputs": [
        {
          "output_type": "stream",
          "text": [
            "Model: \"sequential_1\"\n",
            "_________________________________________________________________\n",
            "Layer (type)                 Output Shape              Param #   \n",
            "=================================================================\n",
            "dense_3 (Dense)              (None, 64)                50240     \n",
            "_________________________________________________________________\n",
            "dense_4 (Dense)              (None, 17)                1105      \n",
            "_________________________________________________________________\n",
            "dense_5 (Dense)              (None, 10)                180       \n",
            "=================================================================\n",
            "Total params: 51,525\n",
            "Trainable params: 51,525\n",
            "Non-trainable params: 0\n",
            "_________________________________________________________________\n"
          ],
          "name": "stdout"
        }
      ]
    },
    {
      "cell_type": "markdown",
      "metadata": {
        "id": "FYlYzYVBH2mP",
        "colab_type": "text"
      },
      "source": [
        "5.모델의 학습과정 설정"
      ]
    },
    {
      "cell_type": "code",
      "metadata": {
        "id": "5GKqiRCZFTBg",
        "colab_type": "code",
        "colab": {}
      },
      "source": [
        "model.compile(optimizer= 'adam',\n",
        "              loss = 'sparse_categorical_crossentropy',\n",
        "              metrics = ['accuracy'])"
      ],
      "execution_count": 54,
      "outputs": []
    },
    {
      "cell_type": "markdown",
      "metadata": {
        "id": "xZKbSJAFIfyx",
        "colab_type": "text"
      },
      "source": [
        "6.모델학습"
      ]
    },
    {
      "cell_type": "code",
      "metadata": {
        "id": "9qRpIdksIYfd",
        "colab_type": "code",
        "colab": {}
      },
      "source": [
        "#fit"
      ],
      "execution_count": 55,
      "outputs": []
    },
    {
      "cell_type": "code",
      "metadata": {
        "id": "CiPMiSn7Ixau",
        "colab_type": "code",
        "colab": {
          "base_uri": "https://localhost:8080/",
          "height": 187
        },
        "outputId": "c1049727-b830-4592-aee6-57b7ef04a14b"
      },
      "source": [
        "history = model.fit(x_train, y_train, validation_split=1/6, epochs=5)"
      ],
      "execution_count": 56,
      "outputs": [
        {
          "output_type": "stream",
          "text": [
            "Epoch 1/5\n",
            "1563/1563 [==============================] - 3s 2ms/step - loss: 0.3477 - accuracy: 0.8991 - val_loss: 0.1709 - val_accuracy: 0.9530\n",
            "Epoch 2/5\n",
            "1563/1563 [==============================] - 3s 2ms/step - loss: 0.1530 - accuracy: 0.9547 - val_loss: 0.1234 - val_accuracy: 0.9646\n",
            "Epoch 3/5\n",
            "1563/1563 [==============================] - 3s 2ms/step - loss: 0.1101 - accuracy: 0.9672 - val_loss: 0.1128 - val_accuracy: 0.9667\n",
            "Epoch 4/5\n",
            "1563/1563 [==============================] - 3s 2ms/step - loss: 0.0864 - accuracy: 0.9737 - val_loss: 0.1057 - val_accuracy: 0.9690\n",
            "Epoch 5/5\n",
            "1563/1563 [==============================] - 3s 2ms/step - loss: 0.0719 - accuracy: 0.9780 - val_loss: 0.1042 - val_accuracy: 0.9703\n"
          ],
          "name": "stdout"
        }
      ]
    },
    {
      "cell_type": "code",
      "metadata": {
        "id": "8DgmFl3YJVru",
        "colab_type": "code",
        "colab": {}
      },
      "source": [
        "#history\n",
        "#1. model.fit의 return값\n",
        "#2. train 과정에서 일어나는 현상들을 기록"
      ],
      "execution_count": 57,
      "outputs": []
    },
    {
      "cell_type": "code",
      "metadata": {
        "id": "7Zg_PdnzLIDN",
        "colab_type": "code",
        "colab": {
          "base_uri": "https://localhost:8080/",
          "height": 102
        },
        "outputId": "42e72488-9487-44ce-cd7c-88aa50ca54bd"
      },
      "source": [
        "history.history['loss']"
      ],
      "execution_count": 58,
      "outputs": [
        {
          "output_type": "execute_result",
          "data": {
            "text/plain": [
              "[0.3477494418621063,\n",
              " 0.15298102796077728,\n",
              " 0.11005157977342606,\n",
              " 0.0863887146115303,\n",
              " 0.07187174260616302]"
            ]
          },
          "metadata": {
            "tags": []
          },
          "execution_count": 58
        }
      ]
    },
    {
      "cell_type": "code",
      "metadata": {
        "id": "_4lM83P0LTbb",
        "colab_type": "code",
        "colab": {
          "base_uri": "https://localhost:8080/",
          "height": 459
        },
        "outputId": "371416b8-097c-424c-9dda-849cdd517bae"
      },
      "source": [
        "vars(history) #vars:python내장함수, 해당객체의 모듈,클래스, 인스턴스의 값을 넘긴다.\n"
      ],
      "execution_count": 59,
      "outputs": [
        {
          "output_type": "execute_result",
          "data": {
            "text/plain": [
              "{'_chief_worker_only': None,\n",
              " '_supports_tf_logs': False,\n",
              " 'epoch': [0, 1, 2, 3, 4],\n",
              " 'history': {'accuracy': [0.8990799784660339,\n",
              "   0.9547200202941895,\n",
              "   0.967199981212616,\n",
              "   0.9737200140953064,\n",
              "   0.9780399799346924],\n",
              "  'loss': [0.3477494418621063,\n",
              "   0.15298102796077728,\n",
              "   0.11005157977342606,\n",
              "   0.0863887146115303,\n",
              "   0.07187174260616302],\n",
              "  'val_accuracy': [0.953000009059906,\n",
              "   0.9646000266075134,\n",
              "   0.96670001745224,\n",
              "   0.968999981880188,\n",
              "   0.970300018787384],\n",
              "  'val_loss': [0.1709069162607193,\n",
              "   0.12339001148939133,\n",
              "   0.1128004789352417,\n",
              "   0.10571379214525223,\n",
              "   0.10420991480350494]},\n",
              " 'model': <tensorflow.python.keras.engine.sequential.Sequential at 0x7fbe025d0630>,\n",
              " 'params': {'epochs': 5, 'steps': 1563, 'verbose': 1},\n",
              " 'validation_data': None}"
            ]
          },
          "metadata": {
            "tags": []
          },
          "execution_count": 59
        }
      ]
    },
    {
      "cell_type": "code",
      "metadata": {
        "id": "USLLSCCILiut",
        "colab_type": "code",
        "colab": {}
      },
      "source": [
        "class FourCal:\n",
        "  def __init__(self, first, second):\n",
        "    self.first = first\n",
        "    self.second = second\n",
        "  a=1\n",
        "\n",
        "  def setdata(self, first, second):\n",
        "    self.first = first\n",
        "    self.second = second\n",
        "  def add(self):\n",
        "    result= self.first + self.second\n",
        "    return result\n",
        "  def mul(self):\n",
        "    result = self.first * self.second\n",
        "    return result\n",
        "  def sub(self):\n",
        "    result = self.first - self.second\n",
        "    return result\n",
        "  def div(self):\n",
        "    result = self.first / self.second\n",
        "    return result\n"
      ],
      "execution_count": 60,
      "outputs": []
    },
    {
      "cell_type": "code",
      "metadata": {
        "id": "V5lG7qatqEBb",
        "colab_type": "code",
        "colab": {
          "base_uri": "https://localhost:8080/",
          "height": 204
        },
        "outputId": "9c8b890c-7407-4c75-f909-eba908d7f555"
      },
      "source": [
        "vars(FourCal)"
      ],
      "execution_count": 61,
      "outputs": [
        {
          "output_type": "execute_result",
          "data": {
            "text/plain": [
              "mappingproxy({'__dict__': <attribute '__dict__' of 'FourCal' objects>,\n",
              "              '__doc__': None,\n",
              "              '__init__': <function __main__.FourCal.__init__>,\n",
              "              '__module__': '__main__',\n",
              "              '__weakref__': <attribute '__weakref__' of 'FourCal' objects>,\n",
              "              'a': 1,\n",
              "              'add': <function __main__.FourCal.add>,\n",
              "              'div': <function __main__.FourCal.div>,\n",
              "              'mul': <function __main__.FourCal.mul>,\n",
              "              'setdata': <function __main__.FourCal.setdata>,\n",
              "              'sub': <function __main__.FourCal.sub>})"
            ]
          },
          "metadata": {
            "tags": []
          },
          "execution_count": 61
        }
      ]
    },
    {
      "cell_type": "code",
      "metadata": {
        "id": "G875wP-jsLli",
        "colab_type": "code",
        "colab": {
          "base_uri": "https://localhost:8080/",
          "height": 187
        },
        "outputId": "c2e73a5a-6f16-4ea6-9e53-749270a1f258"
      },
      "source": [
        "# add메서드의 단점\n",
        "history = model.fit(x_train, y_train, validation_split=1/6, epochs=5)"
      ],
      "execution_count": 62,
      "outputs": [
        {
          "output_type": "stream",
          "text": [
            "Epoch 1/5\n",
            "1563/1563 [==============================] - 3s 2ms/step - loss: 0.0603 - accuracy: 0.9811 - val_loss: 0.0978 - val_accuracy: 0.9724\n",
            "Epoch 2/5\n",
            "1563/1563 [==============================] - 3s 2ms/step - loss: 0.0503 - accuracy: 0.9844 - val_loss: 0.1159 - val_accuracy: 0.9678\n",
            "Epoch 3/5\n",
            "1563/1563 [==============================] - 3s 2ms/step - loss: 0.0440 - accuracy: 0.9863 - val_loss: 0.0992 - val_accuracy: 0.9731\n",
            "Epoch 4/5\n",
            "1563/1563 [==============================] - 3s 2ms/step - loss: 0.0384 - accuracy: 0.9876 - val_loss: 0.1046 - val_accuracy: 0.9723\n",
            "Epoch 5/5\n",
            "1563/1563 [==============================] - 3s 2ms/step - loss: 0.0341 - accuracy: 0.9895 - val_loss: 0.1057 - val_accuracy: 0.9737\n"
          ],
          "name": "stdout"
        }
      ]
    },
    {
      "cell_type": "code",
      "metadata": {
        "id": "lFqu3uVGsZai",
        "colab_type": "code",
        "colab": {}
      },
      "source": [
        "#fit을 연달아 하면(epoch 5회) >> 이미 5회 학습된 상태에서 5회 추가로 학습하는 것이기 때문에 >> 총 epoch가 10인 상황"
      ],
      "execution_count": 63,
      "outputs": []
    },
    {
      "cell_type": "code",
      "metadata": {
        "id": "-H4NRSwUsx5Y",
        "colab_type": "code",
        "colab": {}
      },
      "source": [
        "#하지만 다른 epoch으로 처음부터 다시하고 싶은데\n",
        "#1)'del model'을 하고 다시 코드 위부터 실행(귀찮다.)\n",
        "#2) def 안에 model 만드는 과정을 가둔다.\n"
      ],
      "execution_count": 64,
      "outputs": []
    },
    {
      "cell_type": "markdown",
      "metadata": {
        "id": "Y_TCmXnatx5M",
        "colab_type": "text"
      },
      "source": [
        "## 7. 학습과정 graph"
      ]
    },
    {
      "cell_type": "code",
      "metadata": {
        "id": "0Azkvx5ft3i6",
        "colab_type": "code",
        "colab": {}
      },
      "source": [
        "#1)loss"
      ],
      "execution_count": 65,
      "outputs": []
    },
    {
      "cell_type": "code",
      "metadata": {
        "id": "gy0GHajut7Br",
        "colab_type": "code",
        "colab": {}
      },
      "source": [
        "#train/val의 loss값을 시각적으로 확인하는 단계"
      ],
      "execution_count": 66,
      "outputs": []
    },
    {
      "cell_type": "code",
      "metadata": {
        "id": "etExpPlwuBvj",
        "colab_type": "code",
        "colab": {
          "base_uri": "https://localhost:8080/",
          "height": 312
        },
        "outputId": "e6b91519-88f5-465d-fd9d-7ff19ca327b1"
      },
      "source": [
        "import matplotlib.pyplot as plt\n",
        "\n",
        "loss = history.history['loss']\n",
        "val_loss = history.history['val_loss']\n",
        "\n",
        "epochs = range(1, len(loss) +1 )\n",
        "\n",
        "plt.plot(epochs, loss, 'r', label = 'Training loss')\n",
        "plt.plot(epochs, val_loss, 'b', label= 'Validation loss')\n",
        "plt.title('Training and validation loss')\n",
        "plt.xlabel('Epochs')\n",
        "plt.ylabel('Loss')\n",
        "plt.legend() #  범례, 동시에 여러개의 그래프를 그릴 때, 그래프마다 라벨을 달고 이 라벨명을 출력하는 기능."
      ],
      "execution_count": 67,
      "outputs": [
        {
          "output_type": "execute_result",
          "data": {
            "text/plain": [
              "<matplotlib.legend.Legend at 0x7fbe00d4f0f0>"
            ]
          },
          "metadata": {
            "tags": []
          },
          "execution_count": 67
        },
        {
          "output_type": "display_data",
          "data": {
            "image/png": "[encoded data removed]",
            "text/plain": [
              "<Figure size 432x288 with 1 Axes>"
            ]
          },
          "metadata": {
            "tags": [],
            "needs_background": "light"
          }
        }
      ]
    },
    {
      "cell_type": "code",
      "metadata": {
        "id": "VpWF3wU7u9Iu",
        "colab_type": "code",
        "colab": {}
      },
      "source": [
        "#2)accuracy"
      ],
      "execution_count": 68,
      "outputs": []
    },
    {
      "cell_type": "code",
      "metadata": {
        "id": "KvgIzLdhpvEY",
        "colab_type": "code",
        "colab": {
          "base_uri": "https://localhost:8080/",
          "height": 295
        },
        "outputId": "9fde7a2f-378a-4636-baa5-bb4ee514562e"
      },
      "source": [
        "acc= history.history['accuracy']\n",
        "val_acc = history.history['val_accuracy']\n",
        "\n",
        "plt.plot(epochs, acc, 'r', label='Training accuracy')\n",
        "plt.plot(epochs, val_acc,'b', label='Validation accuracy')\n",
        "plt.title('Training and validation accuracy')\n",
        "plt.xlabel('Epochs')\n",
        "plt.ylabel('Accuracy')\n",
        "plt.legend()\n",
        "\n",
        "plt.show()"
      ],
      "execution_count": 69,
      "outputs": [
        {
          "output_type": "display_data",
          "data": {
            "image/png": "[encoded data removed]",
            "text/plain": [
              "<Figure size 432x288 with 1 Axes>"
            ]
          },
          "metadata": {
            "tags": [],
            "needs_background": "light"
          }
        }
      ]
    },
    {
      "cell_type": "markdown",
      "metadata": {
        "id": "wweypWOAq-lg",
        "colab_type": "text"
      },
      "source": [
        "8.최종 Test\n",
        "\n",
        "1) evaluate 메서드 이용\n",
        "\n",
        "0) test set으로 마지막 검증하는 과정"
      ]
    },
    {
      "cell_type": "code",
      "metadata": {
        "id": "Im4KPcu1qs9h",
        "colab_type": "code",
        "colab": {}
      },
      "source": [
        "loss_and_metrics = model.evaluate(x_test, y_test, verbose=0) #return 값은 loss와 accuracy를 가지는 리스트\n"
      ],
      "execution_count": 70,
      "outputs": []
    },
    {
      "cell_type": "code",
      "metadata": {
        "id": "Ddq9UJqluPE7",
        "colab_type": "code",
        "colab": {
          "base_uri": "https://localhost:8080/",
          "height": 51
        },
        "outputId": "c9864f8c-656c-4550-d4f8-f431093fec8e"
      },
      "source": [
        "print('test_loss: '+ str(loss_and_metrics[0]))\n",
        "print('test_accuracy: ' + str(loss_and_metrics[1]*100) + '%')"
      ],
      "execution_count": 71,
      "outputs": [
        {
          "output_type": "stream",
          "text": [
            "test_loss: 0.10016437619924545\n",
            "test_accuracy: 97.18999862670898%\n"
          ],
          "name": "stdout"
        }
      ]
    },
    {
      "cell_type": "code",
      "metadata": {
        "id": "G7LkM7AtuhKh",
        "colab_type": "code",
        "colab": {}
      },
      "source": [
        ""
      ],
      "execution_count": null,
      "outputs": []
    }
  ]
}